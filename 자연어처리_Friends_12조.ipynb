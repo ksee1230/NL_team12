{
  "nbformat": 4,
  "nbformat_minor": 0,
  "metadata": {
    "colab": {
      "name": "자연어처리_Friends_12조.ipynb",
      "provenance": [],
      "collapsed_sections": [],
      "include_colab_link": true
    },
    "kernelspec": {
      "name": "python3",
      "display_name": "Python 3"
    }
  },
  "cells": [
    {
      "cell_type": "markdown",
      "metadata": {
        "id": "view-in-github",
        "colab_type": "text"
      },
      "source": [
        "<a href=\"https://colab.research.google.com/github/ksee1230/NL_team12/blob/master/%EC%9E%90%EC%97%B0%EC%96%B4%EC%B2%98%EB%A6%AC_Friends_12%EC%A1%B0.ipynb\" target=\"_parent\"><img src=\"https://colab.research.google.com/assets/colab-badge.svg\" alt=\"Open In Colab\"/></a>"
      ]
    },
    {
      "cell_type": "markdown",
      "metadata": {
        "id": "zRqoTqvna92q",
        "colab_type": "text"
      },
      "source": [
        "모듈 import, 데이터 로드 및 one-hot encoding을 위한 전처리"
      ]
    },
    {
      "cell_type": "code",
      "metadata": {
        "id": "O2oXjpTSyPB5",
        "colab_type": "code",
        "colab": {}
      },
      "source": [
        "import pandas as pd\n",
        "import json\n",
        "import urllib.request\n",
        "from tensorflow.keras.preprocessing.text import Tokenizer\n",
        "import matplotlib.pyplot as plt\n",
        "import re\n",
        "from tensorflow.keras.preprocessing.sequence import pad_sequences\n",
        "import numpy as np\n",
        "import nltk\n",
        "from keras.utils import np_utils\n",
        "from nltk.corpus import stopwords\n",
        "from nltk.tokenize import word_tokenize\n",
        "\n",
        "nltk.download('stopwords')\n",
        "nltk.download('punkt')\n",
        "\n",
        "urllib.request.urlretrieve(\"https://raw.githubusercontent.com/ksee1230/NL_team12/master/friends_train.json\", filename=\"friends_train.json\")\n",
        "urllib.request.urlretrieve(\"https://raw.githubusercontent.com/ksee1230/NL_team12/master/en_data.csv\", filename=\"friends_test.csv\")\n",
        "\n",
        "test_data = pd.read_csv('friends_test.csv', encoding='utf-8')\n",
        "\n",
        "with open('friends_train.json') as json_file:\n",
        "    json_data = json.load(json_file)\n",
        "\n",
        "train_data = []\n",
        "for data in json_data:\n",
        "  train_data = train_data + data\n",
        "\n",
        "for idx in train_data:\n",
        "  if (idx['emotion'] == 'non-neutral'):\n",
        "    idx['emotion_num'] = 0\n",
        "  elif (idx['emotion'] == 'neutral'):\n",
        "    idx['emotion_num'] = 1\n",
        "  elif (idx['emotion'] == 'joy'):\n",
        "    idx['emotion_num'] = 2\n",
        "  elif (idx['emotion'] == 'sadness'):\n",
        "    idx['emotion_num'] = 3\n",
        "  elif (idx['emotion'] == 'fear'):\n",
        "    idx['emotion_num'] = 4\n",
        "  elif (idx['emotion'] == 'anger'):\n",
        "    idx['emotion_num'] = 5\n",
        "  elif (idx['emotion'] == 'surprise'):\n",
        "    idx['emotion_num'] = 6\n",
        "  elif (idx['emotion'] == 'disgust'):\n",
        "    idx['emotion_num'] = 7\n",
        "\n",
        "result = pd.DataFrame(train_data, columns=['annotation', 'emotion', 'emotion_num', 'utterance'])\n",
        "\n",
        "print('훈련용 데이터 개수 :',len(result))"
      ],
      "execution_count": null,
      "outputs": []
    },
    {
      "cell_type": "markdown",
      "metadata": {
        "id": "6dF12djamSVm",
        "colab_type": "text"
      },
      "source": [
        "# 데이터 정제\n"
      ]
    },
    {
      "cell_type": "markdown",
      "metadata": {
        "id": "Z2ko9fbncjIi",
        "colab_type": "text"
      },
      "source": [
        "(1) 중복 데이터 제거 및 문장 기호 제거"
      ]
    },
    {
      "cell_type": "code",
      "metadata": {
        "id": "j6Dkb2f2Jnt0",
        "colab_type": "code",
        "colab": {}
      },
      "source": [
        "result['utterance'].nunique()"
      ],
      "execution_count": null,
      "outputs": []
    },
    {
      "cell_type": "code",
      "metadata": {
        "id": "dcXC6Uoxnfds",
        "colab_type": "code",
        "colab": {}
      },
      "source": [
        "result.drop_duplicates(subset=['utterance'], inplace=True)"
      ],
      "execution_count": null,
      "outputs": []
    },
    {
      "cell_type": "code",
      "metadata": {
        "id": "MaSDh95AnmIT",
        "colab_type": "code",
        "colab": {}
      },
      "source": [
        "print('총 샘플의 수 :',len(result))"
      ],
      "execution_count": null,
      "outputs": []
    },
    {
      "cell_type": "code",
      "metadata": {
        "id": "lPddl05doB1F",
        "colab_type": "code",
        "colab": {}
      },
      "source": [
        "print(result.isnull().values.any())"
      ],
      "execution_count": null,
      "outputs": []
    },
    {
      "cell_type": "code",
      "metadata": {
        "id": "pezA0KWUoVYT",
        "colab_type": "code",
        "colab": {}
      },
      "source": [
        "result['utterance'] = result['utterance'].str.replace(\"[^a-zA-Z ]\",\"\")\n",
        "result[:5]"
      ],
      "execution_count": null,
      "outputs": []
    },
    {
      "cell_type": "code",
      "metadata": {
        "id": "l1szNHKOp9LT",
        "colab_type": "code",
        "colab": {}
      },
      "source": [
        "result = result.dropna(how = 'any')\n",
        "print(len(result))"
      ],
      "execution_count": null,
      "outputs": []
    },
    {
      "cell_type": "markdown",
      "metadata": {
        "id": "0pT-zWLZsQwM",
        "colab_type": "text"
      },
      "source": [
        "(2) 불용어 제거 및 토큰화"
      ]
    },
    {
      "cell_type": "code",
      "metadata": {
        "id": "vEuQ19borSr8",
        "colab_type": "code",
        "colab": {}
      },
      "source": [
        "stop_words = set(stopwords.words('english'))"
      ],
      "execution_count": null,
      "outputs": []
    },
    {
      "cell_type": "code",
      "metadata": {
        "id": "xTZsUSmxsPYW",
        "colab_type": "code",
        "colab": {}
      },
      "source": [
        "X_train = []\n",
        "for sentence in result['utterance']:\n",
        "    temp_X = []\n",
        "    word_tokens = word_tokenize(sentence)\n",
        "    for word in word_tokens:\n",
        "      if word not in stop_words:\n",
        "        temp_X.append(word)\n",
        "    X_train.append(temp_X)"
      ],
      "execution_count": null,
      "outputs": []
    },
    {
      "cell_type": "code",
      "metadata": {
        "id": "lcnoaueYtH-s",
        "colab_type": "code",
        "colab": {}
      },
      "source": [
        "print(X_train[:3])"
      ],
      "execution_count": null,
      "outputs": []
    },
    {
      "cell_type": "code",
      "metadata": {
        "id": "O9KnWnohtNH_",
        "colab_type": "code",
        "colab": {}
      },
      "source": [
        "X_test = []\n",
        "for sentence in test_data['utterance']:\n",
        "    temp_X = []\n",
        "    word_tokens = word_tokenize(sentence)\n",
        "    for word in word_tokens:\n",
        "      if word not in stop_words:\n",
        "        temp_X.append(word)\n",
        "    X_test.append(temp_X)"
      ],
      "execution_count": null,
      "outputs": []
    },
    {
      "cell_type": "markdown",
      "metadata": {
        "id": "h6E8zItGtQu0",
        "colab_type": "text"
      },
      "source": [
        "(3) 정수 인코딩"
      ]
    },
    {
      "cell_type": "code",
      "metadata": {
        "id": "lU_zYHb2tSIp",
        "colab_type": "code",
        "colab": {}
      },
      "source": [
        "tokenizer = Tokenizer()\n",
        "tokenizer.fit_on_texts(X_train)"
      ],
      "execution_count": null,
      "outputs": []
    },
    {
      "cell_type": "code",
      "metadata": {
        "id": "ddYYM6qP8KD-",
        "colab_type": "code",
        "colab": {}
      },
      "source": [
        "total_cnt = len(tokenizer.word_index)\n",
        "vocab_size = total_cnt + 1\n",
        "print('단어 집합의 크기 :',vocab_size)"
      ],
      "execution_count": null,
      "outputs": []
    },
    {
      "cell_type": "code",
      "metadata": {
        "id": "dgmCtnBq0rqY",
        "colab_type": "code",
        "colab": {}
      },
      "source": [
        "X_train = tokenizer.texts_to_sequences(X_train)\n",
        "X_test = tokenizer.texts_to_sequences(X_test)"
      ],
      "execution_count": null,
      "outputs": []
    },
    {
      "cell_type": "code",
      "metadata": {
        "id": "25q4hPJyPjeG",
        "colab_type": "code",
        "colab": {}
      },
      "source": [
        "tokenizer = Tokenizer(vocab_size) "
      ],
      "execution_count": null,
      "outputs": []
    },
    {
      "cell_type": "code",
      "metadata": {
        "id": "zmqrbIPcxeYA",
        "colab_type": "code",
        "colab": {}
      },
      "source": [
        "y_train = np_utils.to_categorical(result['emotion_num'])\n",
        "num_classes = y_train.shape[1]"
      ],
      "execution_count": null,
      "outputs": []
    },
    {
      "cell_type": "markdown",
      "metadata": {
        "id": "XqV3f6puxB-A",
        "colab_type": "text"
      },
      "source": [
        "(4) 패딩"
      ]
    },
    {
      "cell_type": "code",
      "metadata": {
        "id": "--MvtPYrxDzY",
        "colab_type": "code",
        "colab": {}
      },
      "source": [
        "print('문장의 최대 길이 :',max(len(l) for l in X_train))\n",
        "print('문장의 평균 길이 :',sum(map(len, X_train))/len(X_train))\n",
        "plt.hist([len(s) for s in X_train], bins=50)\n",
        "plt.xlabel('length of samples')\n",
        "plt.ylabel('number of samples')\n",
        "plt.show()"
      ],
      "execution_count": null,
      "outputs": []
    },
    {
      "cell_type": "code",
      "metadata": {
        "id": "TBnNXouIiNPk",
        "colab_type": "code",
        "colab": {}
      },
      "source": [
        "def below_threshold_len(max_len, nested_list):\n",
        "  cnt = 0\n",
        "  for s in nested_list:\n",
        "    if(len(s) <= max_len):\n",
        "        cnt = cnt + 1\n",
        "  print('전체 샘플 중 길이가 %s 이하인 샘플의 비율: %s'%(max_len, (cnt / len(nested_list))*100))\n",
        "\n",
        "max_len = 24\n",
        "below_threshold_len(max_len, X_train)"
      ],
      "execution_count": null,
      "outputs": []
    },
    {
      "cell_type": "code",
      "metadata": {
        "id": "vYDXC_PA0-JP",
        "colab_type": "code",
        "colab": {}
      },
      "source": [
        "X_train = pad_sequences(X_train, maxlen=max_len)\n",
        "X_test = pad_sequences(X_test, maxlen=max_len)"
      ],
      "execution_count": null,
      "outputs": []
    },
    {
      "cell_type": "markdown",
      "metadata": {
        "id": "DJ8joDjc_bYq",
        "colab_type": "text"
      },
      "source": [
        "# 모델 설계 및 학습"
      ]
    },
    {
      "cell_type": "code",
      "metadata": {
        "id": "4ocdcA1f10nY",
        "colab_type": "code",
        "colab": {}
      },
      "source": [
        "from tensorflow.keras.layers import Embedding, Dense, LSTM\n",
        "from tensorflow.keras.models import Sequential\n",
        "from tensorflow.keras.models import load_model\n",
        "from tensorflow.keras.callbacks import EarlyStopping, ModelCheckpoint"
      ],
      "execution_count": null,
      "outputs": []
    },
    {
      "cell_type": "code",
      "metadata": {
        "id": "IM-AzQXE11-1",
        "colab_type": "code",
        "colab": {}
      },
      "source": [
        "model = Sequential()\n",
        "model.add(Embedding(vocab_size, 100))\n",
        "model.add(LSTM(128))\n",
        "model.add(Dense(num_classes, activation='softmax'))"
      ],
      "execution_count": null,
      "outputs": []
    },
    {
      "cell_type": "code",
      "metadata": {
        "id": "rIVpvBQ7W8tx",
        "colab_type": "code",
        "colab": {}
      },
      "source": [
        "earlystop = EarlyStopping(monitor='val_loss', mode='min', verbose=1, patience=4)\n",
        "ckpt = ModelCheckpoint('best_model.h5', monitor='val_acc', mode='max', verbose=1, save_best_only=True)"
      ],
      "execution_count": null,
      "outputs": []
    },
    {
      "cell_type": "code",
      "metadata": {
        "id": "Gj9bvSqmXAjN",
        "colab_type": "code",
        "colab": {}
      },
      "source": [
        "model.compile(optimizer='rmsprop', loss='categorical_crossentropy', metrics=['acc'])\n",
        "history = model.fit(X_train, y_train, epochs=15, callbacks=[earlystop, ckpt], batch_size=128, validation_split=0.2)"
      ],
      "execution_count": null,
      "outputs": []
    },
    {
      "cell_type": "markdown",
      "metadata": {
        "id": "SIyFseuGcHDb",
        "colab_type": "text"
      },
      "source": [
        "모델을 통해 test 데이터에 대한 결과 예측 및 csv 변환"
      ]
    },
    {
      "cell_type": "code",
      "metadata": {
        "id": "e4P67smaZ8f_",
        "colab_type": "code",
        "colab": {}
      },
      "source": [
        "loaded_model = load_model('best_model.h5')\n",
        "prediction = loaded_model.predict_classes(X_test, verbose=0)\n",
        "\n",
        "prediction = prediction.flatten().tolist()\n",
        "\n",
        "prediction_emotion = []\n",
        "for num in prediction:\n",
        "  if num == 0:\n",
        "    prediction_emotion.append('non-neutral')\n",
        "  elif num == 1:\n",
        "    prediction_emotion.append('neutral')\n",
        "  elif num == 2:\n",
        "    prediction_emotion.append('joy')\n",
        "  elif num == 3:\n",
        "    prediction_emotion.append('sadness')\n",
        "  elif num == 4:\n",
        "    prediction_emotion.append('fear')\n",
        "  elif num == 5:\n",
        "    prediction_emotion.append('anger')\n",
        "  elif num == 6:\n",
        "    prediction_emotion.append('surprise')\n",
        "  elif num == 7:\n",
        "    prediction_emotion.append('disgust')\n",
        "\n",
        "id = list(range(len(prediction_emotion)))\n",
        "\n",
        "dic = {'Id': id,\n",
        "       'Predicted': prediction_emotion}\n",
        "\n",
        "df = pd.DataFrame(dic)\n",
        "df.to_csv('sample.csv', sep=',', index = False)"
      ],
      "execution_count": null,
      "outputs": []
    }
  ]
}
