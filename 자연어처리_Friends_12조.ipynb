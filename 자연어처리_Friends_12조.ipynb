{
  "nbformat": 4,
  "nbformat_minor": 0,
  "metadata": {
    "colab": {
      "name": "자연어처리_Friends_12조.ipynb",
      "provenance": [],
      "collapsed_sections": [],
      "include_colab_link": true
    },
    "kernelspec": {
      "name": "python3",
      "display_name": "Python 3"
    }
  },
  "cells": [
    {
      "cell_type": "markdown",
      "metadata": {
        "id": "view-in-github",
        "colab_type": "text"
      },
      "source": [
        "<a href=\"https://colab.research.google.com/github/ksee1230/NL_team12/blob/master/%EC%9E%90%EC%97%B0%EC%96%B4%EC%B2%98%EB%A6%AC_Friends_12%EC%A1%B0.ipynb\" target=\"_parent\"><img src=\"https://colab.research.google.com/assets/colab-badge.svg\" alt=\"Open In Colab\"/></a>"
      ]
    },
    {
      "cell_type": "markdown",
      "metadata": {
        "id": "zRqoTqvna92q",
        "colab_type": "text"
      },
      "source": [
        "모듈 import, 데이터 로드 및 one-hot encoding을 위한 전처리"
      ]
    },
    {
      "cell_type": "code",
      "metadata": {
        "id": "O2oXjpTSyPB5",
        "colab_type": "code",
        "colab": {
          "base_uri": "https://localhost:8080/",
          "height": 377
        },
        "outputId": "33279166-ddda-4abb-dd4d-228f17a1c2a0"
      },
      "source": [
        "import pandas as pd\n",
        "import json\n",
        "import urllib.request\n",
        "from tensorflow.keras.preprocessing.text import Tokenizer\n",
        "import matplotlib.pyplot as plt\n",
        "import re\n",
        "from tensorflow.keras.preprocessing.sequence import pad_sequences\n",
        "import numpy as np\n",
        "import nltk\n",
        "from keras.utils import np_utils\n",
        "from nltk.corpus import stopwords\n",
        "from nltk.tokenize import word_tokenize\n",
        "\n",
        "nltk.download('stopwords')\n",
        "nltk.download('punkt')\n",
        "\n",
        "urllib.request.urlretrieve(\"https://raw.githubusercontent.com/ksee1230/NL_team12/master/friends_train.json\", filename=\"friends_train.json\")\n",
        "urllib.request.urlretrieve(\"https://raw.githubusercontent.com/ksee1230/NL_team12/master/en_data.csv\", filename=\"friends_test.csv\")\n",
        "\n",
        "test_data = pd.read_csv('friends_test.csv', encoding='utf-8')\n",
        "\n",
        "with open('friends_train.json') as json_file:\n",
        "    json_data = json.load(json_file)\n",
        "\n",
        "train_data = []\n",
        "for data in json_data:\n",
        "  train_data = train_data + data\n",
        "\n",
        "for idx in train_data:\n",
        "  if (idx['emotion'] == 'non-neutral'):\n",
        "    idx['emotion_num'] = 0\n",
        "  elif (idx['emotion'] == 'neutral'):\n",
        "    idx['emotion_num'] = 1\n",
        "  elif (idx['emotion'] == 'joy'):\n",
        "    idx['emotion_num'] = 2\n",
        "  elif (idx['emotion'] == 'sadness'):\n",
        "    idx['emotion_num'] = 3\n",
        "  elif (idx['emotion'] == 'fear'):\n",
        "    idx['emotion_num'] = 4\n",
        "  elif (idx['emotion'] == 'anger'):\n",
        "    idx['emotion_num'] = 5\n",
        "  elif (idx['emotion'] == 'surprise'):\n",
        "    idx['emotion_num'] = 6\n",
        "  elif (idx['emotion'] == 'disgust'):\n",
        "    idx['emotion_num'] = 7\n",
        "\n",
        "result = pd.DataFrame(train_data, columns=['annotation', 'emotion', 'emotion_num', 'utterance'])\n",
        "\n",
        "print('훈련용 데이터 개수 :',len(result))"
      ],
      "execution_count": null,
      "outputs": [
        {
          "output_type": "stream",
          "text": [
            "Using TensorFlow backend.\n"
          ],
          "name": "stderr"
        },
        {
          "output_type": "stream",
          "text": [
            "[nltk_data] Downloading package stopwords to /root/nltk_data...\n",
            "[nltk_data]   Unzipping corpora/stopwords.zip.\n",
            "[nltk_data] Downloading package punkt to /root/nltk_data...\n",
            "[nltk_data]   Unzipping tokenizers/punkt.zip.\n",
            "훈련용 데이터 개수 : \n",
            "      annotation  ...                                          utterance\n",
            "0        4100000  ...  also I was the point person on my companys tr...\n",
            "1        5000000  ...                   You mustve had your hands full.\n",
            "2        5000000  ...                            That I did. That I did.\n",
            "3        5000000  ...      So lets talk a little bit about your duties.\n",
            "4        2000030  ...                             My duties?  All right.\n",
            "...          ...  ...                                                ...\n",
            "10556    3000011  ...                                         You or me?\n",
            "10557    2100011  ...  I got it. Uh, Joey, women don't have Adam's ap...\n",
            "10558    0000050  ...               You guys are messing with me, right?\n",
            "10559    4000010  ...                                              Yeah.\n",
            "10560    1200020  ...  That was a good one. For a second there, I was...\n",
            "\n",
            "[10561 rows x 4 columns]\n"
          ],
          "name": "stdout"
        }
      ]
    },
    {
      "cell_type": "markdown",
      "metadata": {
        "id": "6dF12djamSVm",
        "colab_type": "text"
      },
      "source": [
        "# 데이터 정제\n"
      ]
    },
    {
      "cell_type": "markdown",
      "metadata": {
        "id": "Z2ko9fbncjIi",
        "colab_type": "text"
      },
      "source": [
        "(1) 중복 데이터 제거 및 문장 기호 제거"
      ]
    },
    {
      "cell_type": "code",
      "metadata": {
        "id": "j6Dkb2f2Jnt0",
        "colab_type": "code",
        "colab": {
          "base_uri": "https://localhost:8080/",
          "height": 35
        },
        "outputId": "828f8f0e-e80c-4516-b3f6-df0b17976edd"
      },
      "source": [
        "result['utterance'].nunique()"
      ],
      "execution_count": null,
      "outputs": [
        {
          "output_type": "execute_result",
          "data": {
            "text/plain": [
              "9291"
            ]
          },
          "metadata": {
            "tags": []
          },
          "execution_count": 2
        }
      ]
    },
    {
      "cell_type": "code",
      "metadata": {
        "id": "dcXC6Uoxnfds",
        "colab_type": "code",
        "colab": {}
      },
      "source": [
        "result.drop_duplicates(subset=['utterance'], inplace=True)"
      ],
      "execution_count": null,
      "outputs": []
    },
    {
      "cell_type": "code",
      "metadata": {
        "id": "MaSDh95AnmIT",
        "colab_type": "code",
        "colab": {
          "base_uri": "https://localhost:8080/",
          "height": 35
        },
        "outputId": "7685da5b-4704-4d84-903f-bb98bb846bd0"
      },
      "source": [
        "print('총 샘플의 수 :',len(result))"
      ],
      "execution_count": null,
      "outputs": [
        {
          "output_type": "stream",
          "text": [
            "총 샘플의 수 : 9291\n"
          ],
          "name": "stdout"
        }
      ]
    },
    {
      "cell_type": "code",
      "metadata": {
        "id": "lPddl05doB1F",
        "colab_type": "code",
        "colab": {
          "base_uri": "https://localhost:8080/",
          "height": 35
        },
        "outputId": "1abe3b25-27fd-404c-edda-754ac9df5fa1"
      },
      "source": [
        "print(result.isnull().values.any())"
      ],
      "execution_count": null,
      "outputs": [
        {
          "output_type": "stream",
          "text": [
            "False\n"
          ],
          "name": "stdout"
        }
      ]
    },
    {
      "cell_type": "code",
      "metadata": {
        "id": "pezA0KWUoVYT",
        "colab_type": "code",
        "colab": {
          "base_uri": "https://localhost:8080/",
          "height": 204
        },
        "outputId": "3a3b13df-6b4c-4e59-c568-f7df8cb3db1b"
      },
      "source": [
        "result['utterance'] = result['utterance'].str.replace(\"[^a-zA-Z ]\",\"\")\n",
        "result[:5]"
      ],
      "execution_count": null,
      "outputs": [
        {
          "output_type": "execute_result",
          "data": {
            "text/html": [
              "<div>\n",
              "<style scoped>\n",
              "    .dataframe tbody tr th:only-of-type {\n",
              "        vertical-align: middle;\n",
              "    }\n",
              "\n",
              "    .dataframe tbody tr th {\n",
              "        vertical-align: top;\n",
              "    }\n",
              "\n",
              "    .dataframe thead th {\n",
              "        text-align: right;\n",
              "    }\n",
              "</style>\n",
              "<table border=\"1\" class=\"dataframe\">\n",
              "  <thead>\n",
              "    <tr style=\"text-align: right;\">\n",
              "      <th></th>\n",
              "      <th>annotation</th>\n",
              "      <th>emotion</th>\n",
              "      <th>emotion_num</th>\n",
              "      <th>utterance</th>\n",
              "    </tr>\n",
              "  </thead>\n",
              "  <tbody>\n",
              "    <tr>\n",
              "      <th>0</th>\n",
              "      <td>4100000</td>\n",
              "      <td>neutral</td>\n",
              "      <td>1</td>\n",
              "      <td>also I was the point person on my companys tra...</td>\n",
              "    </tr>\n",
              "    <tr>\n",
              "      <th>1</th>\n",
              "      <td>5000000</td>\n",
              "      <td>neutral</td>\n",
              "      <td>1</td>\n",
              "      <td>You mustve had your hands full</td>\n",
              "    </tr>\n",
              "    <tr>\n",
              "      <th>2</th>\n",
              "      <td>5000000</td>\n",
              "      <td>neutral</td>\n",
              "      <td>1</td>\n",
              "      <td>That I did That I did</td>\n",
              "    </tr>\n",
              "    <tr>\n",
              "      <th>3</th>\n",
              "      <td>5000000</td>\n",
              "      <td>neutral</td>\n",
              "      <td>1</td>\n",
              "      <td>So lets talk a little bit about your duties</td>\n",
              "    </tr>\n",
              "    <tr>\n",
              "      <th>4</th>\n",
              "      <td>2000030</td>\n",
              "      <td>surprise</td>\n",
              "      <td>6</td>\n",
              "      <td>My duties  All right</td>\n",
              "    </tr>\n",
              "  </tbody>\n",
              "</table>\n",
              "</div>"
            ],
            "text/plain": [
              "  annotation  ...                                          utterance\n",
              "0    4100000  ...  also I was the point person on my companys tra...\n",
              "1    5000000  ...                     You mustve had your hands full\n",
              "2    5000000  ...                              That I did That I did\n",
              "3    5000000  ...        So lets talk a little bit about your duties\n",
              "4    2000030  ...                               My duties  All right\n",
              "\n",
              "[5 rows x 4 columns]"
            ]
          },
          "metadata": {
            "tags": []
          },
          "execution_count": 6
        }
      ]
    },
    {
      "cell_type": "code",
      "metadata": {
        "id": "l1szNHKOp9LT",
        "colab_type": "code",
        "colab": {
          "base_uri": "https://localhost:8080/",
          "height": 35
        },
        "outputId": "6c6128a1-0de7-404d-f0d9-d4aba315c41e"
      },
      "source": [
        "result = result.dropna(how = 'any')\n",
        "print(len(result))"
      ],
      "execution_count": null,
      "outputs": [
        {
          "output_type": "stream",
          "text": [
            "9291\n"
          ],
          "name": "stdout"
        }
      ]
    },
    {
      "cell_type": "markdown",
      "metadata": {
        "id": "0pT-zWLZsQwM",
        "colab_type": "text"
      },
      "source": [
        "(2) 불용어 제거 및 토큰화"
      ]
    },
    {
      "cell_type": "code",
      "metadata": {
        "id": "vEuQ19borSr8",
        "colab_type": "code",
        "colab": {}
      },
      "source": [
        "stop_words = set(stopwords.words('english'))"
      ],
      "execution_count": null,
      "outputs": []
    },
    {
      "cell_type": "code",
      "metadata": {
        "id": "xTZsUSmxsPYW",
        "colab_type": "code",
        "colab": {}
      },
      "source": [
        "X_train = []\n",
        "for sentence in result['utterance']:\n",
        "    temp_X = []\n",
        "    word_tokens = word_tokenize(sentence)\n",
        "    for word in word_tokens:\n",
        "      if word not in stop_words:\n",
        "        temp_X.append(word)\n",
        "    X_train.append(temp_X)"
      ],
      "execution_count": null,
      "outputs": []
    },
    {
      "cell_type": "code",
      "metadata": {
        "id": "lcnoaueYtH-s",
        "colab_type": "code",
        "colab": {
          "base_uri": "https://localhost:8080/",
          "height": 35
        },
        "outputId": "7d5344c8-755a-4266-e7b6-fc3b118b4469"
      },
      "source": [
        "print(X_train[:3])"
      ],
      "execution_count": null,
      "outputs": [
        {
          "output_type": "stream",
          "text": [
            "[['also', 'I', 'point', 'person', 'companys', 'transition', 'KL', 'GR', 'system'], ['You', 'mustve', 'hands', 'full'], ['That', 'I', 'That', 'I']]\n"
          ],
          "name": "stdout"
        }
      ]
    },
    {
      "cell_type": "code",
      "metadata": {
        "id": "O9KnWnohtNH_",
        "colab_type": "code",
        "colab": {}
      },
      "source": [
        "X_test = []\n",
        "for sentence in test_data['utterance']:\n",
        "    temp_X = []\n",
        "    word_tokens = word_tokenize(sentence)\n",
        "    for word in word_tokens:\n",
        "      if word not in stop_words:\n",
        "        temp_X.append(word)\n",
        "    X_test.append(temp_X)"
      ],
      "execution_count": null,
      "outputs": []
    },
    {
      "cell_type": "markdown",
      "metadata": {
        "id": "h6E8zItGtQu0",
        "colab_type": "text"
      },
      "source": [
        "(3) 정수 인코딩"
      ]
    },
    {
      "cell_type": "code",
      "metadata": {
        "id": "lU_zYHb2tSIp",
        "colab_type": "code",
        "colab": {}
      },
      "source": [
        "tokenizer = Tokenizer()\n",
        "tokenizer.fit_on_texts(X_train)"
      ],
      "execution_count": null,
      "outputs": []
    },
    {
      "cell_type": "code",
      "metadata": {
        "id": "BSJCEIRGtmyd",
        "colab_type": "code",
        "colab": {
          "base_uri": "https://localhost:8080/",
          "height": 55
        },
        "outputId": "6766018a-d608-416f-eb45-f53abb3405ef"
      },
      "source": [
        "print(tokenizer.word_index)"
      ],
      "execution_count": null,
      "outputs": [
        {
          "output_type": "stream",
          "text": [
            "{'i': 1, 'oh': 2, 'im': 3, 'okay': 4, 'well': 5, 'yeah': 6, 'dont': 7, 'na': 8, 'know': 9, 'you': 10, 'right': 11, 'no': 12, 'hey': 13, 'thats': 14, 'go': 15, 'like': 16, 'gon': 17, 'get': 18, 'youre': 19, 'got': 20, 'yknow': 21, 'think': 22, 'really': 23, 'uh': 24, 'look': 25, 'what': 26, 'so': 27, 'one': 28, 'and': 29, 'mean': 30, 'see': 31, 'its': 32, 'want': 33, 'come': 34, 'cant': 35, 'ross': 36, 'sorry': 37, 'good': 38, 'all': 39, 'tell': 40, 'god': 41, 'guys': 42, 'joey': 43, 'great': 44, 'going': 45, 'but': 46, 'umm': 47, 'would': 48, 'ill': 49, 'could': 50, 'back': 51, 'yes': 52, 'time': 53, 'hes': 54, 'little': 55, 'say': 56, 'something': 57, 'love': 58, 'didnt': 59, 'we': 60, 'chandler': 61, 'guy': 62, 'wan': 63, 'ive': 64, 'monica': 65, 'this': 66, 'rachel': 67, 'hi': 68, 'phoebe': 69, 'ok': 70, 'said': 71, 'make': 72, 'the': 73, 'us': 74, 'thing': 75, 'how': 76, 'wait': 77, 'take': 78, 'shes': 79, 'why': 80, 'that': 81, 'people': 82, 'never': 83, 'thank': 84, 'maybe': 85, 'whats': 86, 'much': 87, 'please': 88, 'it': 89, 'let': 90, 'listen': 91, 'lets': 92, 'sure': 93, 'still': 94, 'ah': 95, 'two': 96, 'now': 97, 'actually': 98, 'man': 99, 'theres': 100, 'way': 101, 'give': 102, 'need': 103, 'first': 104, 'wow': 105, 'even': 106, 'believe': 107, 'ii': 108, 'um': 109, 'fine': 110, 'theyre': 111, 'he': 112, 'thought': 113, 'big': 114, 'huh': 115, 'do': 116, 'nice': 117, 'pheebs': 118, 'night': 119, 'call': 120, 'ta': 121, 'work': 122, 'ya': 123, 'place': 124, 'talk': 125, 'stuff': 126, 'doesnt': 127, 'feel': 128, 'stop': 129, 'my': 130, 'ever': 131, 'lot': 132, 'put': 133, 'anything': 134, 'married': 135, 'things': 136, 'last': 137, 'thanks': 138, 'are': 139, 'girl': 140, 'pretty': 141, 'new': 142, 'id': 143, 'remember': 144, 'nothing': 145, 'baby': 146, 'were': 147, 'hello': 148, 'went': 149, 'told': 150, 'wanted': 151, 'room': 152, 'just': 153, 'better': 154, 'cause': 155, 'happened': 156, 'rach': 157, 'she': 158, 'around': 159, 'kinda': 160, 'made': 161, 'ohh': 162, 'honey': 163, 'guess': 164, 'play': 165, 'name': 166, 'can': 167, 'friends': 168, 'care': 169, 'help': 170, 'talking': 171, 'totally': 172, 'together': 173, 'wedding': 174, 'always': 175, 'date': 176, 'thinking': 177, 'pick': 178, 'is': 179, 'kind': 180, 'did': 181, 'happy': 182, 'best': 183, 'fun': 184, 'day': 185, 'getting': 186, 'phone': 187, 'friend': 188, 'youve': 189, 'left': 190, 'whoa': 191, 'next': 192, 'ask': 193, 'bad': 194, 'second': 195, 'stupid': 196, 'wont': 197, 'woman': 198, 'wrong': 199, 'tonight': 200, 'else': 201, 'ready': 202, 'yet': 203, 'job': 204, 'they': 205, 'here': 206, 'ooh': 207, 'whole': 208, 'done': 209, 'wouldnt': 210, 'another': 211, 'if': 212, 'eat': 213, 'funny': 214, 'because': 215, 'a': 216, 'hear': 217, 'coming': 218, 'stay': 219, 'home': 220, 'years': 221, 'try': 222, 'not': 223, 'find': 224, 'later': 225, 'ring': 226, 'long': 227, 'wasnt': 228, 'five': 229, 'tomorrow': 230, 'old': 231, 'might': 232, 'problem': 233, 'check': 234, 'trying': 235, 'looking': 236, 'game': 237, 'today': 238, 'called': 239, 'probably': 240, 'anyway': 241, 'idea': 242, 'youll': 243, 'who': 244, 'someone': 245, 'course': 246, 'isnt': 247, 'leave': 248, 'money': 249, 'there': 250, 'real': 251, 'happen': 252, 'three': 253, 'may': 254, 'away': 255, 'came': 256, 'whos': 257, 'move': 258, 'when': 259, 'hot': 260, 'enough': 261, 'hard': 262, 'life': 263, 'keep': 264, 'nono': 265, 'mine': 266, 'mom': 267, 'party': 268, 'every': 269, 'coffee': 270, 'where': 271, 'wants': 272, 'couldnt': 273, 'crazy': 274, 'part': 275, 'weird': 276, 'supposed': 277, 'hand': 278, 'saying': 279, 'havent': 280, 'ben': 281, 'women': 282, 'morning': 283, 'year': 284, 'sex': 285, 'everybody': 286, 'apartment': 287, 'minute': 288, 'anymore': 289, 'dad': 290, 'naked': 291, 'took': 292, 'hell': 293, 'matter': 294, 'dinner': 295, 'telling': 296, 'hold': 297, 'show': 298, 'bye': 299, 'bring': 300, 'either': 301, 'head': 302, 'knows': 303, 'father': 304, 'dr': 305, 'youd': 306, 'bing': 307, 'ow': 308, 'andand': 309, 'turn': 310, 'says': 311, 'world': 312, 'start': 313, 'knew': 314, 'hours': 315, 'sleep': 316, 'looks': 317, 'mr': 318, 'marry': 319, 'seen': 320, 'excuse': 321, 'high': 322, 'does': 323, 'anyone': 324, 'use': 325, 'alright': 326, 'house': 327, 'though': 328, 'serious': 329, 'amazing': 330, 'minutes': 331, 'kiss': 332, 'me': 333, 'wish': 334, 'late': 335, 'watch': 336, 'since': 337, 'em': 338, 'heres': 339, 'chance': 340, 'saw': 341, 'question': 342, 'anybody': 343, 'deal': 344, 'wearing': 345, 'live': 346, 'lost': 347, 'everything': 348, 'couple': 349, 'janice': 350, 'comes': 351, 'also': 352, 'forget': 353, 'hang': 354, 'joe': 355, 'open': 356, 'without': 357, 'kids': 358, 'beautiful': 359, 'meet': 360, 'food': 361, 'four': 362, 'read': 363, 'making': 364, 'pants': 365, 'person': 366, 'bit': 367, 'doctor': 368, 'geller': 369, 'throw': 370, 'youyou': 371, 'understand': 372, 'girls': 373, 'asked': 374, 'mind': 375, 'imim': 376, 'uhhuh': 377, 'dude': 378, 'glad': 379, 'walk': 380, 'already': 381, 'school': 382, 'cool': 383, 'bed': 384, 'kidding': 385, 'hurt': 386, 'hate': 387, 'times': 388, 'number': 389, 'sweet': 390, 'sister': 391, 'weve': 392, 'promise': 393, 'must': 394, 'somebody': 395, 'ten': 396, 'nonono': 397, 'mad': 398, 'bob': 399, 'alone': 400, 'babies': 401, 'kill': 402, 'wear': 403, 'of': 404, 'used': 405, 'then': 406, 'cute': 407, 'makes': 408, 'gone': 409, 'parents': 410, 'absolutely': 411, 'started': 412, 'different': 413, 'arent': 414, 'ahh': 415, 'yep': 416, 'miss': 417, 'kid': 418, 'break': 419, 'sir': 420, 'ugh': 421, 'worry': 422, 'easy': 423, 'hope': 424, 'found': 425, 'able': 426, 'sounds': 427, 'uhh': 428, 'gave': 429, 'ones': 430, 'true': 431, 'movie': 432, 'sit': 433, 'cut': 434, 'important': 435, 'doin': 436, 'bet': 437, 'brother': 438, 'gay': 439, 'buy': 440, 'gets': 441, 'story': 442, 'book': 443, 'carol': 444, 'sweetie': 445, 'goes': 446, 'half': 447, 'plan': 448, 'your': 449, 'buddy': 450, 'or': 451, 'working': 452, 'broke': 453, 'ball': 454, 'unbelievable': 455, 'for': 456, 'feeling': 457, 'in': 458, 'kathy': 459, 'city': 460, 'soon': 461, 'monicas': 462, 'picture': 463, 'pay': 464, 'relax': 465, 'liked': 466, 'which': 467, 'exactly': 468, 'thanksgiving': 469, 'shouldnt': 470, 'boy': 471, 'huge': 472, 'means': 473, 'perfect': 474, 'heyhey': 475, 'face': 476, 'small': 477, 'message': 478, 'machine': 479, 'everyone': 480, 'mrs': 481, 'win': 482, 'family': 483, 'free': 484, 'candy': 485, 'car': 486, 'mon': 487, 'asleep': 488, 'realize': 489, 'table': 490, 'end': 491, 'clothes': 492, 'dance': 493, 'girlfriend': 494, 'word': 495, 'shower': 496, 'whatwhat': 497, 'seeing': 498, 'brought': 499, 'hows': 500, 'touch': 501, 'pregnant': 502, 'hit': 503, 'aww': 504, 'iii': 505, 'green': 506, 'birthday': 507, 'moving': 508, 'close': 509, 'museum': 510, 'son': 511, 'marriage': 512, 'eyes': 513, 'fire': 514, 'bathroom': 515, 'many': 516, 'men': 517, 'david': 518, 'taking': 519, 'lady': 520, 'street': 521, 'six': 522, 'scared': 523, 'asking': 524, 'almost': 525, 'very': 526, 'eh': 527, 'playing': 528, 'lives': 529, 'hmm': 530, 'song': 531, 'goodbye': 532, 'plans': 533, 'seven': 534, 'roommate': 535, 'seem': 536, 'thinks': 537, 'building': 538, 'line': 539, 'fell': 540, 'reason': 541, 'rest': 542, 'byebye': 543, 'blue': 544, 'iim': 545, 'talked': 546, 'change': 547, 'figure': 548, 'bag': 549, 'itsits': 550, 'bitch': 551, 'tickets': 552, 'seriously': 553, 'fact': 554, 'smell': 555, 'office': 556, 'ass': 557, 'ohhh': 558, 'special': 559, 'side': 560, 'aw': 561, 'fault': 562, 'lose': 563, 'emily': 564, 'heard': 565, 'spend': 566, 'week': 567, 'eye': 568, 'dog': 569, 'least': 570, 'porn': 571, 'stick': 572, 'list': 573, 'hour': 574, 'sick': 575, 'spent': 576, 'heads': 577, 'answer': 578, 'nononono': 579, 'meant': 580, 'shut': 581, 'top': 582, 'moment': 583, 'nobody': 584, 'stand': 585, 'fast': 586, 'grandmother': 587, 'ew': 588, 'dead': 589, 'welcome': 590, 'was': 591, 'terrible': 592, 'whatever': 593, 'quit': 594, 'loved': 595, 'thatthat': 596, 'team': 597, 'forgot': 598, 'wouldve': 599, 'living': 600, 'moved': 601, 'rosss': 602, 'bucks': 603, 'card': 604, 'joshua': 605, 'ago': 606, 'wewe': 607, 'underwear': 608, 'floor': 609, 'feels': 610, 'questions': 611, 'shoot': 612, 'restaurant': 613, 'bought': 614, 'boxes': 615, 'susan': 616, 'soup': 617, 'red': 618, 'write': 619, 'these': 620, 'shot': 621, 'class': 622, 'hands': 623, 'apparently': 624, 'route': 625, 'happens': 626, 'uhoh': 627, 'hair': 628, 'luck': 629, 'itll': 630, 'weeks': 631, 'heart': 632, 'daddy': 633, 'yeahyeah': 634, 'excited': 635, 'box': 636, 'richard': 637, 'chef': 638, 'stuck': 639, 'turned': 640, 'soso': 641, 'lie': 642, 'watching': 643, 'joeys': 644, 'definitely': 645, 'tired': 646, 'months': 647, 'hole': 648, 'decided': 649, 'lunch': 650, 'third': 651, 'shirt': 652, 'felt': 653, 'drunk': 654, 'days': 655, 'cookies': 656, 'idiot': 657, 'store': 658, 'front': 659, 'town': 660, 'owe': 661, 'door': 662, 'chandlers': 663, 'have': 664, 'sometimes': 665, 'window': 666, 'porsche': 667, 'ohoh': 668, 'cmon': 669, 'am': 670, 'light': 671, 'nah': 672, 'business': 673, 'frank': 674, 'chip': 675, 'point': 676, 'wrote': 677, 'mark': 678, 'jealous': 679, 'scene': 680, 'london': 681, 'cat': 682, 'rachels': 683, 'loves': 684, 'boyfriend': 685, 'water': 686, 'tribbiani': 687, 'completely': 688, 'tv': 689, 'werent': 690, 'surprise': 691, 'sweater': 692, 'eight': 693, 'mistake': 694, 'everythings': 695, 'quick': 696, 'whatd': 697, 'ran': 698, 'seems': 699, 'clear': 700, 'with': 701, 'neither': 702, 'calling': 703, 'missed': 704, 'looked': 705, 'run': 706, 'trust': 707, 'stripper': 708, 'fight': 709, 'dollars': 710, 'needs': 711, 'taste': 712, 'fair': 713, 'weekend': 714, 'set': 715, 'to': 716, 'died': 717, 'news': 718, 'entire': 719, 'rule': 720, 'mess': 721, 'cup': 722, 'sad': 723, 'figured': 724, 'suck': 725, 'park': 726, 'imagine': 727, 'speak': 728, 'grade': 729, 'grab': 730, 'pass': 731, 'bigger': 732, 'starts': 733, 'keys': 734, 'die': 735, 'mother': 736, 'la': 737, 'birds': 738, 'drake': 739, 'actor': 740, 'mustve': 741, 'full': 742, 'sucks': 743, 'empty': 744, 'inside': 745, 'wondering': 746, 'finally': 747, 'damn': 748, 'professor': 749, 'middle': 750, 'difference': 751, 'pizza': 752, 'switch': 753, 'nervous': 754, 'although': 755, 'met': 756, 'breaking': 757, 'calm': 758, 'audition': 759, 'mike': 760, 'interesting': 761, 'will': 762, 'smart': 763, 'kissed': 764, 'duck': 765, 'gim': 766, 'rules': 767, 'favorite': 768, 'uncle': 769, 'secret': 770, 'jill': 771, 'less': 772, 'sitting': 773, 'christmas': 774, 'crush': 775, 'vegas': 776, 'somewhere': 777, 'dear': 778, 'test': 779, 'clean': 780, 'nickname': 781, 'dating': 782, 'knock': 783, 'far': 784, 'favor': 785, 'leg': 786, 'barry': 787, 'early': 788, 'walking': 789, 'interested': 790, 'nooo': 791, 'yesterday': 792, 'casey': 793, 'sing': 794, 'downstairs': 795, 'invite': 796, 'cheese': 797, 'nine': 798, 'choose': 799, 'ha': 800, 'sent': 801, 'button': 802, 'finish': 803, 'phoebes': 804, 'wonder': 805, 'behind': 806, 'divorce': 807, 'giving': 808, 'purse': 809, 'strong': 810, 'holding': 811, 'goin': 812, 'lights': 813, 'romantic': 814, 'lying': 815, 'oclock': 816, 'decide': 817, 'mail': 818, 'using': 819, 'quarter': 820, 'system': 821, 'month': 822, 'italian': 823, 'howd': 824, 'tough': 825, 'proud': 826, 'surprised': 827, 'paid': 828, 'evil': 829, 'health': 830, 'speech': 831, 'kept': 832, 'feelings': 833, 'straight': 834, 'fan': 835, 'putting': 836, 'worth': 837, 'theyve': 838, 'warm': 839, 'letting': 840, 'bike': 841, 'stole': 842, 'starting': 843, 'names': 844, 'by': 845, 'king': 846, 'worked': 847, 'sensitive': 848, 'especially': 849, 'careful': 850, 'keeps': 851, 'sisters': 852, 'personal': 853, 'shopping': 854, 'thatsthats': 855, 'twice': 856, 'ladies': 857, 'future': 858, 'happening': 859, 'ticket': 860, 'gotten': 861, 'engaged': 862, 'along': 863, 'dancing': 864, 'leaving': 865, 'showing': 866, 'across': 867, 'worried': 868, 'worse': 869, 'changed': 870, 'trip': 871, 'obviously': 872, 'page': 873, 'wife': 874, 'tag': 875, 'appreciate': 876, 'laundry': 877, 'explain': 878, 'piece': 879, 'forever': 880, 'instead': 881, 'mona': 882, 'sometime': 883, 'human': 884, 'cover': 885, 'order': 886, 'relationship': 887, 'charming': 888, 'walked': 889, 'drink': 890, 'freak': 891, 'body': 892, 'drop': 893, 'apologize': 894, 'teacher': 895, 'sound': 896, 'wheres': 897, 'turkey': 898, 'lovely': 899, 'cry': 900, 'teach': 901, 'cowboy': 902, 'mouth': 903, 'larry': 904, 'save': 905, 'upset': 906, 'picked': 907, 'birth': 908, 'jam': 909, 'bijan': 910, 'ride': 911, 'rooms': 912, 'places': 913, 'ate': 914, 'children': 915, 'movies': 916, 'issac': 917, 'tulsa': 918, 'dump': 919, 'bar': 920, 'paper': 921, 'central': 922, 'hoping': 923, 'horny': 924, 'bunch': 925, 'conversation': 926, 'catch': 927, 'yay': 928, 'fashion': 929, 'incredible': 930, 'size': 931, 'howhow': 932, 'wonderful': 933, 'ways': 934, 'inappropriate': 935, 'shell': 936, 'broken': 937, 'age': 938, 'sudden': 939, 'pocket': 940, 'lucky': 941, 'hotel': 942, 'sandwich': 943, 'ma': 944, 'her': 945, 'worst': 946, 'otherwise': 947, 'pack': 948, 'technically': 949, 'follow': 950, 'college': 951, 'couch': 952, 'fix': 953, 'some': 954, 'ended': 955, 'bastard': 956, 'takes': 957, 'hooked': 958, 'annoying': 959, 'except': 960, 'bride': 961, 'as': 962, 'white': 963, 'remembered': 964, 'guest': 965, 'wine': 966, 'outside': 967, 'ms': 968, 'buffay': 969, 'hundred': 970, 'kick': 971, 'ohho': 972, 'sell': 973, 'double': 974, 'universe': 975, 'fat': 976, 'pete': 977, 'cheesecake': 978, 'aunt': 979, 'foot': 980, 'cares': 981, 'choice': 982, 'mornings': 983, 'roll': 984, 'enjoy': 985, 'post': 986, 'extra': 987, 'listening': 988, 'past': 989, 'cooking': 990, 'basically': 991, 'trouble': 992, 'daughter': 993, 'checking': 994, 'tie': 995, 'dream': 996, 'feet': 997, 'words': 998, 'drive': 999, 'pie': 1000, 'divorced': 1001, 'speed': 1002, 'hurry': 1003, 'rogers': 1004, 'bonnie': 1005, 'tall': 1006, 'kicking': 1007, 'flowers': 1008, 'boutros': 1009, 'york': 1010, 'short': 1011, 'secrets': 1012, 'final': 1013, 'invited': 1014, 'jake': 1015, 'books': 1016, 'brain': 1017, 'thoughts': 1018, 'dum': 1019, 'waiting': 1020, 'busy': 1021, 'damnit': 1022, 'view': 1023, 'comfortable': 1024, 'honest': 1025, 'shh': 1026, 'wake': 1027, 'learned': 1028, 'boat': 1029, 'maid': 1030, 'honor': 1031, 'candles': 1032, 'noo': 1033, 'note': 1034, 'sold': 1035, 'sense': 1036, 'crap': 1037, 'gift': 1038, 'bugs': 1039, 'nap': 1040, 'milk': 1041, 'reading': 1042, 'lots': 1043, 'bedroom': 1044, 'outta': 1045, 'presents': 1046, 'hanging': 1047, 'reset': 1048, 'backup': 1049, 'hospital': 1050, 'husband': 1051, 'band': 1052, 'grandmothers': 1053, 'alan': 1054, 'spending': 1055, 'hats': 1056, 'fit': 1057, 'heyheyhey': 1058, 'poor': 1059, 'fall': 1060, 'teaching': 1061, 'case': 1062, 'james': 1063, 'pain': 1064, 'kay': 1065, 'young': 1066, 'key': 1067, 'sports': 1068, 'breathe': 1069, 'dark': 1070, 'share': 1071, 'unless': 1072, 'pink': 1073, 'joke': 1074, 'hung': 1075, 'embarrassed': 1076, 'dirty': 1077, 'nothin': 1078, 'script': 1079, 'character': 1080, 'camera': 1081, 'numbers': 1082, 'ridiculous': 1083, 'jack': 1084, 'genius': 1085, 'robot': 1086, 'fired': 1087, 'wh': 1088, 'easier': 1089, 'music': 1090, 'death': 1091, 'bank': 1092, 'accident': 1093, 'tux': 1094, 'boring': 1095, 'control': 1096, 'sink': 1097, 'blew': 1098, 'canoe': 1099, 'center': 1100, 'throwing': 1101, 'fake': 1102, 'yemen': 1103, 'library': 1104, 'everywhere': 1105, 'familiar': 1106, 'dress': 1107, 'regular': 1108, 'handle': 1109, 'realise': 1110, 'drinking': 1111, 'assistant': 1112, 'chicken': 1113, 'nipple': 1114, 'congratulations': 1115, 'accept': 1116, 'hed': 1117, 'sec': 1118, 'asks': 1119, 'british': 1120, 'actual': 1121, 'strip': 1122, 'covered': 1123, 'truth': 1124, 'become': 1125, 'dumped': 1126, 'copy': 1127, 'sauce': 1128, 'thisthis': 1129, 'writing': 1130, 'turns': 1131, 'rather': 1132, 'desk': 1133, 'julie': 1134, 'expecting': 1135, 'whatre': 1136, 'ugly': 1137, 'fill': 1138, 'dentist': 1139, 'soo': 1140, 'experience': 1141, 'standing': 1142, 'opened': 1143, 'bite': 1144, 'hates': 1145, 'lemonade': 1146, 'jerk': 1147, 'suppose': 1148, 'holiday': 1149, 'john': 1150, 'subway': 1151, 'ice': 1152, 'our': 1153, 'tour': 1154, 'umhmm': 1155, 'chute': 1156, 'sleeping': 1157, 'smelly': 1158, 'isabella': 1159, 'elizabeth': 1160, 'board': 1161, 'works': 1162, 'french': 1163, 'wed': 1164, 'coat': 1165, 'hormones': 1166, 'celebrate': 1167, 'expect': 1168, 'anywhere': 1169, 'whose': 1170, 'saving': 1171, 'trick': 1172, 'forward': 1173, 'spot': 1174, 'memories': 1175, 'computer': 1176, 'youyouyou': 1177, 'plane': 1178, 'air': 1179, 'neck': 1180, 'those': 1181, 'san': 1182, 'quite': 1183, 'tiny': 1184, 'killed': 1185, 'interview': 1186, 'gym': 1187, 'chloe': 1188, 'plus': 1189, 'cross': 1190, 'poker': 1191, 'roger': 1192, 'hooker': 1193, 'selling': 1194, 'on': 1195, 'possible': 1196, 'hall': 1197, 'moms': 1198, 'device': 1199, 'butbut': 1200, 'needed': 1201, 'shoes': 1202, 'theythey': 1203, 'lately': 1204, 'bill': 1205, 'dumb': 1206, 'remoray': 1207, 'safe': 1208, 'single': 1209, 'jail': 1210, 'kitchen': 1211, 'thethe': 1212, 'calls': 1213, 'dry': 1214, 'gunther': 1215, 'none': 1216, 'island': 1217, 'judge': 1218, 'swear': 1219, 'magic': 1220, 'picking': 1221, 'black': 1222, 'bunny': 1223, 'shed': 1224, 'tree': 1225, 'brave': 1226, 'suds': 1227, 'heldi': 1228, 'bug': 1229, 'monday': 1230, 'closing': 1231, 'beer': 1232, 'touched': 1233, 'vase': 1234, 'american': 1235, 'be': 1236, 'legs': 1237, 'bond': 1238, 'bout': 1239, 'afternoon': 1240, 'impression': 1241, 'arms': 1242, 'bucket': 1243, 'garbage': 1244, 'insurance': 1245, 'toilet': 1246, 'pool': 1247, 'blind': 1248, 'scary': 1249, 'delivery': 1250, 'talkin': 1251, 'loud': 1252, 'earrings': 1253, 'saturday': 1254, 'bus': 1255, 'practice': 1256, 'treeger': 1257, 'beat': 1258, 'sort': 1259, 'stevens': 1260, 'address': 1261, 'nuts': 1262, 'history': 1263, 'attracted': 1264, 'likes': 1265, 'teeth': 1266, 'ace': 1267, 'babys': 1268, 'hearing': 1269, 'actors': 1270, 'company': 1271, 'meeting': 1272, 'vestibule': 1273, 'drew': 1274, 'train': 1275, 'department': 1276, 'land': 1277, 'saved': 1278, 'hero': 1279, 'dammit': 1280, 'opportunity': 1281, 'trade': 1282, 'entertainment': 1283, 'child': 1284, 'cards': 1285, 'chick': 1286, 'quickly': 1287, 'jason': 1288, 'europe': 1289, 'lived': 1290, 'act': 1291, 'zoo': 1292, 'groom': 1293, 'handling': 1294, 'present': 1295, 'horrible': 1296, 'account': 1297, 'dates': 1298, 'cafeteria': 1299, 'salad': 1300, 'aa': 1301, 'rid': 1302, 'attention': 1303, 'thatd': 1304, 'space': 1305, 'cups': 1306, 'sheet': 1307, 'rock': 1308, 'aint': 1309, 'shop': 1310, 'bra': 1311, 'emergency': 1312, 'soap': 1313, 'burn': 1314, 'litter': 1315, 'plastic': 1316, 'notice': 1317, 'freaked': 1318, 'theyll': 1319, 'cha': 1320, 'kip': 1321, 'massage': 1322, 'brothers': 1323, 'noise': 1324, 'twenty': 1325, 'service': 1326, 'rip': 1327, 'slow': 1328, 'click': 1329, 'major': 1330, 'itd': 1331, 'somebodys': 1332, 'guitar': 1333, 'singing': 1334, 'beard': 1335, 'tea': 1336, 'switching': 1337, 'nope': 1338, 'slept': 1339, 'danny': 1340, 'friday': 1341, 'jane': 1342, 'shame': 1343, 'cost': 1344, 'trash': 1345, 'rosselini': 1346, 'admit': 1347, 'twelve': 1348, 'biggest': 1349, 'altar': 1350, 'named': 1351, 'chasing': 1352, 'lovers': 1353, 'fifth': 1354, 'pull': 1355, 'blazer': 1356, 'tried': 1357, 'fear': 1358, 'boss': 1359, 'sexual': 1360, 'knicks': 1361, 'pages': 1362, 'hypothetically': 1363, 'couldve': 1364, 'market': 1365, 'cab': 1366, 'thatll': 1367, 'ruin': 1368, 'uncomfortable': 1369, 'fourth': 1370, 'percent': 1371, 'states': 1372, 'nurse': 1373, 'goofing': 1374, 'pulling': 1375, 'longer': 1376, 'op': 1377, 'jokes': 1378, 'bottom': 1379, 'games': 1380, 'pair': 1381, 'whoawhoa': 1382, 'womens': 1383, 'lipstick': 1384, 'robert': 1385, 'killing': 1386, 'ehh': 1387, 'million': 1388, 'dinosaur': 1389, 'sweetheart': 1390, 'aruba': 1391, 'farber': 1392, 'cream': 1393, 'fighting': 1394, 'coats': 1395, 'hitting': 1396, 'thread': 1397, 'cameras': 1398, 'shouldve': 1399, 'treat': 1400, 'fruit': 1401, 'goggles': 1402, 'allowed': 1403, 'international': 1404, 'country': 1405, 'centimeters': 1406, 'honeymoon': 1407, 'millions': 1408, 'respect': 1409, 'jim': 1410, 'pig': 1411, 'tight': 1412, 'bee': 1413, 'enjoying': 1414, 'rhyme': 1415, 'poughkeepsie': 1416, 'wash': 1417, 'bars': 1418, 'letters': 1419, 'wet': 1420, 'puck': 1421, 'ordered': 1422, 'itit': 1423, 'unfair': 1424, 'butt': 1425, 'marks': 1426, 'crying': 1427, 'near': 1428, 'wellwell': 1429, 'whew': 1430, 'afraid': 1431, 'noodle': 1432, 'exwife': 1433, 'host': 1434, 'screw': 1435, 'heh': 1436, 'george': 1437, 'deserve': 1438, 'chuck': 1439, 'screwed': 1440, 'loose': 1441, 'realized': 1442, 'noooo': 1443, 'had': 1444, 'area': 1445, 'needle': 1446, 'cobb': 1447, 'gun': 1448, 'annulment': 1449, 'basket': 1450, 'quitting': 1451, 'exciting': 1452, 'clearly': 1453, 'played': 1454, 'shoe': 1455, 'bake': 1456, 'ifif': 1457, 'ladle': 1458, 'section': 1459, 'smooth': 1460, 'information': 1461, 'ursula': 1462, 'comin': 1463, 'learn': 1464, 'montreal': 1465, 'letter': 1466, 'maryangela': 1467, 'duties': 1468, 'heading': 1469, 'division': 1470, 'therell': 1471, 'perhaps': 1472, 'iiii': 1473, 'ummm': 1474, 'poem': 1475, 'notch': 1476, 'specifics': 1477, 'kangaroo': 1478, 'dying': 1479, 'thinkin': 1480, 'sees': 1481, 'pure': 1482, 'estelle': 1483, 'stomach': 1484, 'century': 1485, 'out': 1486, 'conference': 1487, 'gentlemen': 1488, 'hat': 1489, 'oy': 1490, 'commercial': 1491, 'responsibilities': 1492, 'ahhh': 1493, 'sandwiches': 1494, 'issue': 1495, 'public': 1496, 'insane': 1497, 'nerve': 1498, 'unfortunately': 1499, 'sign': 1500, 'narrowed': 1501, 'raymond': 1502, 'bens': 1503, 'borrowed': 1504, 'bloody': 1505, 'barely': 1506, 'propose': 1507, 'advice': 1508, 'paul': 1509, 'usually': 1510, 'prefer': 1511, 'boyfriends': 1512, 'wall': 1513, 'tape': 1514, 'depends': 1515, 'research': 1516, 'scientist': 1517, 'peel': 1518, 'appointment': 1519, 'burning': 1520, 'dropped': 1521, 'bringing': 1522, 'from': 1523, 'ahha': 1524, 'known': 1525, 'dana': 1526, 'any': 1527, 'wanting': 1528, 'gods': 1529, 'bobby': 1530, 'goodacre': 1531, 'rich': 1532, 'apartments': 1533, 'lines': 1534, 'phil': 1535, 'pal': 1536, 'toby': 1537, 'everyday': 1538, 'eleven': 1539, 'famous': 1540, 'perform': 1541, 'staring': 1542, 'oo': 1543, 'coulda': 1544, 'pardon': 1545, 'built': 1546, 'credit': 1547, 'cast': 1548, 'drinks': 1549, 'vince': 1550, 'jumping': 1551, 'support': 1552, 'about': 1553, 'planning': 1554, 'typical': 1555, 'send': 1556, 'circles': 1557, 'stars': 1558, 'smoke': 1559, 'excellent': 1560, 'pieces': 1561, 'clinic': 1562, 'raise': 1563, 'sophie': 1564, 'male': 1565, 'magician': 1566, 'cassie': 1567, 'barcelona': 1568, 'hiking': 1569, 'sid': 1570, 'chi': 1571, 'haha': 1572, 'hahaha': 1573, 'club': 1574, 'everybodys': 1575, 'whenever': 1576, 'someplace': 1577, 'cold': 1578, 'threw': 1579, 'favour': 1580, 'rent': 1581, 'tells': 1582, 'sells': 1583, 'spacecamp': 1584, 'afford': 1585, 'grandma': 1586, 'invented': 1587, 'impossible': 1588, 'seconds': 1589, 'field': 1590, 'correct': 1591, 'julio': 1592, 'given': 1593, 'blond': 1594, 'boobs': 1595, 'serve': 1596, 'hoho': 1597, 'disagree': 1598, 'collection': 1599, 'knocked': 1600, 'pressure': 1601, 'obvious': 1602, 'alice': 1603, 'critic': 1604, 'review': 1605, 'classy': 1606, 'justjust': 1607, 'kitty': 1608, 'hungry': 1609, 'evening': 1610, 'competition': 1611, 'stack': 1612, 'waving': 1613, 'caught': 1614, 'sexy': 1615, 'toast': 1616, 'oatmeal': 1617, 'furniture': 1618, 'breakfast': 1619, 'angela': 1620, 'commitment': 1621, 'heckles': 1622, 'oboe': 1623, 'fool': 1624, 'peeking': 1625, 'intense': 1626, 'falling': 1627, 'songs': 1628, 'hidden': 1629, 'looklook': 1630, 'hmmm': 1631, 'pretending': 1632, 'road': 1633, 'musician': 1634, 'tomato': 1635, 'finished': 1636, 'taken': 1637, 'license': 1638, 'weirdest': 1639, 'labor': 1640, 'stolen': 1641, 'both': 1642, 'phoebs': 1643, 'expensive': 1644, 'ton': 1645, 'mix': 1646, 'laminated': 1647, 'freeze': 1648, 'misunderstood': 1649, 'setting': 1650, 'whenwhen': 1651, 'bell': 1652, 'agreed': 1653, 'jamie': 1654, 'cramp': 1655, 'sergei': 1656, 'gali': 1657, 'opening': 1658, 'upstairs': 1659, 'action': 1660, 'toy': 1661, 'fund': 1662, 'only': 1663, 'beach': 1664, 'waxine': 1665, 'strips': 1666, 'someones': 1667, 'santas': 1668, 'ho': 1669, 'court': 1670, 'knocking': 1671, 'engagement': 1672, 'telethon': 1673, 'gala': 1674, 'flying': 1675, 'fancy': 1676, 'ad': 1677, 'glass': 1678, 'yell': 1679, 'punch': 1680, 'armadillo': 1681, 'insist': 1682, 'carry': 1683, 'certainly': 1684, 'combination': 1685, 'law': 1686, 'yelling': 1687, 'focus': 1688, 'marcel': 1689, 'animal': 1690, 'diego': 1691, 'whoever': 1692, 'results': 1693, 'alive': 1694, 'iiiii': 1695, 'suddenly': 1696, 'unagi': 1697, 'aware': 1698, 'homemade': 1699, 'moon': 1700, 'return': 1701, 'safely': 1702, 'katie': 1703, 'oww': 1704, 'plate': 1705, 'princess': 1706, 'coffeehouse': 1707, 'rude': 1708, 'drums': 1709, 'skin': 1710, 'flesh': 1711, 'breast': 1712, 'paying': 1713, 'toner': 1714, 'waitwait': 1715, 'mac': 1716, 'schedule': 1717, 'oberman': 1718, 'cervix': 1719, 'wha': 1720, 'jump': 1721, 'mindy': 1722, 'tile': 1723, 'lifetime': 1724, 'junior': 1725, 'heat': 1726, 'possibly': 1727, 'manager': 1728, 'running': 1729, 'closed': 1730, 'forgive': 1731, 'chelsea': 1732, 'naming': 1733, 'cancel': 1734, 'til': 1735, 'gee': 1736, 'blood': 1737, 'including': 1738, 'awful': 1739, 'energy': 1740, 'blocks': 1741, 'theyretheyre': 1742, 'eating': 1743, 'points': 1744, 'iiim': 1745, 'dressed': 1746, 'meat': 1747, 'oil': 1748, 'sale': 1749, 'sweeping': 1750, 'docks': 1751, 'borrow': 1752, 'america': 1753, 'attractive': 1754, 'odds': 1755, 'drugs': 1756, 'sake': 1757, 'deep': 1758, 'boom': 1759, 'breakup': 1760, 'sperm': 1761, 'brown': 1762, 'liking': 1763, 'thatthats': 1764, 'privacy': 1765, 'color': 1766, 'disgusting': 1767, 'ocean': 1768, 'lily': 1769, 'gosh': 1770, 'ed': 1771, 'begley': 1772, 'jr': 1773, 'more': 1774, 'wells': 1775, 'natural': 1776, 'instincts': 1777, 'fly': 1778, 'shesshes': 1779, 'whispering': 1780, 'pregnancy': 1781, 'group': 1782, 'impressive': 1783, 'pearls': 1784, 'clown': 1785, 'breath': 1786, 'boxer': 1787, 'eww': 1788, 'womans': 1789, 'mans': 1790, 'closer': 1791, 'reservations': 1792, 'incredibly': 1793, 'showed': 1794, 'sickness': 1795, 'power': 1796, 'illinois': 1797, 'considered': 1798, 'bother': 1799, 'ping': 1800, 'pong': 1801, 'terrific': 1802, 'noticed': 1803, 'alarm': 1804, 'answering': 1805, 'saves': 1806, 'taught': 1807, 'contraction': 1808, 'stealing': 1809, 'dial': 1810, 'television': 1811, 'bumped': 1812, 'magioni': 1813, 'paleontology': 1814, 'join': 1815, 'forbidden': 1816, 'novels': 1817, 'evaluation': 1818, 'concentrate': 1819, 'popular': 1820, 'matthews': 1821, 'partner': 1822, 'twin': 1823, 'flea': 1824, 'tons': 1825, 'theyd': 1826, 'quiet': 1827, 'drapes': 1828, 'available': 1829, 'twins': 1830, 'fling': 1831, 'sugar': 1832, 'fortunately': 1833, 'poking': 1834, 'retract': 1835, 'flip': 1836, 'ducks': 1837, 'clowns': 1838, 'hollow': 1839, 'uterus': 1840, 'slip': 1841, 'worker': 1842, 'snack': 1843, 'gum': 1844, 'hurts': 1845, 'neighbors': 1846, 'towel': 1847, 'lawyer': 1848, 'youreyoure': 1849, 'negative': 1850, 'keeping': 1851, 'star': 1852, 'recipe': 1853, 'awww': 1854, 'normal': 1855, 'limit': 1856, 'seat': 1857, 'gives': 1858, 'vent': 1859, 'filing': 1860, 'friendly': 1861, 'smile': 1862, 'type': 1863, 'bamboozled': 1864, 'roommates': 1865, 'swing': 1866, 'greatest': 1867, 'sorta': 1868, 'fifteen': 1869, 'amy': 1870, 'muscles': 1871, 'security': 1872, 'giant': 1873, 'leather': 1874, 'puppet': 1875, 'geez': 1876, 'problems': 1877, 'andandand': 1878, 'blame': 1879, 'steak': 1880, 'scrud': 1881, 'dictionary': 1882, 'laundrys': 1883, 'tank': 1884, 'gas': 1885, 'halfhour': 1886, 'healthy': 1887, 'siadic': 1888, 'following': 1889, 'waiter': 1890, 'postpone': 1891, 'director': 1892, 'maam': 1893, 'heaven': 1894, 'thquirt': 1895, 'squeeze': 1896, 'strength': 1897, 'paris': 1898, 'conscious': 1899, 'lift': 1900, 'rain': 1901, 'freaking': 1902, 'staying': 1903, 'breasts': 1904, 'minister': 1905, 'too': 1906, 'woowoo': 1907, 'comet': 1908, 'decision': 1909, 'chase': 1910, 'loser': 1911, 'thirsty': 1912, 'chop': 1913, 'sauti': 1914, 'scottish': 1915, 'certain': 1916, 'beg': 1917, 'waitress': 1918, 'turning': 1919, 'seemed': 1920, 'war': 1921, 'epic': 1922, 'suggestions': 1923, 'messed': 1924, 'dessert': 1925, 'buried': 1926, 'spirit': 1927, 'partying': 1928, 'stranger': 1929, 'video': 1930, 'hug': 1931, 'lined': 1932, 'auditions': 1933, 'hernia': 1934, 'indian': 1935, 'dinosaurs': 1936, 'sum': 1937, 'whwhat': 1938, 'laughing': 1939, 'scientists': 1940, 'importantly': 1941, 'damage': 1942, 'diaper': 1943, 'dropping': 1944, 'pee': 1945, 'awkward': 1946, 'common': 1947, 'deaf': 1948, 'exploded': 1949, 'gina': 1950, 'dina': 1951, 'lecture': 1952, 'oror': 1953, 'marge': 1954, 'kyle': 1955, 'wewere': 1956, 'hint': 1957, 'itits': 1958, 'uma': 1959, 'thurman': 1960, 'actress': 1961, 'feminist': 1962, 'charity': 1963, 'embarrassing': 1964, 'embarrass': 1965, 'easily': 1966, 'secure': 1967, 'total': 1968, 'wuss': 1969, 'discovered': 1970, 'lobby': 1971, 'charge': 1972, 'such': 1973, 'eighth': 1974, 'deli': 1975, 'pet': 1976, 'navy': 1977, 'memory': 1978, 'tomatoes': 1979, 'dads': 1980, 'waaay': 1981, 'league': 1982, 'chair': 1983, 'era': 1984, 'queen': 1985, 'von': 1986, 'level': 1987, 'earlier': 1988, 'apologise': 1989, 'anniversary': 1990, 'promised': 1991, 'complement': 1992, 'krista': 1993, 'atm': 1994, 'notim': 1995, 'switched': 1996, 'gravy': 1997, 'fridge': 1998, 'maniac': 1999, 'adding': 2000, 'thin': 2001, 'worn': 2002, 'film': 2003, 'internet': 2004, 'marrying': 2005, 'legitimate': 2006, 'member': 2007, 'saliva': 2008, 'playfully': 2009, 'cushion': 2010, 'stain': 2011, 'spill': 2012, 'exact': 2013, 'musta': 2014, 'robe': 2015, 'latte': 2016, 'pretend': 2017, 'chickchick': 2018, 'sissy': 2019, 'hadnt': 2020, 'nowhere': 2021, 'virginity': 2022, 'santa': 2023, 'yuhhuh': 2024, 'invitation': 2025, 'finds': 2026, 'drag': 2027, 'oughta': 2028, 'bum': 2029, 'neat': 2030, 'match': 2031, 'apart': 2032, 'rushed': 2033, 'nuclear': 2034, 'goods': 2035, 'enjoyed': 2036, 'create': 2037, 'unbelievably': 2038, 'nurses': 2039, 'youyoure': 2040, 'harder': 2041, 'grandmas': 2042, 'bachelor': 2043, 'shrill': 2044, 'slice': 2045, 'dealing': 2046, 'johnson': 2047, 'whatcha': 2048, 'checked': 2049, 'messages': 2050, 'round': 2051, 'lap': 2052, 'nutmeg': 2053, 'professional': 2054, 'sailing': 2055, 'sup': 2056, 'strangers': 2057, 'signed': 2058, 'helping': 2059, 'india': 2060, 'atlantic': 2061, 'square': 2062, 'seventh': 2063, 'windows': 2064, 'betting': 2065, 'answers': 2066, 'written': 2067, 'steady': 2068, 'goalie': 2069, 'hairy': 2070, 'eligible': 2071, 'wig': 2072, 'respectfully': 2073, 'rocks': 2074, 'ignore': 2075, 'sunshine': 2076, 'sky': 2077, 'begin': 2078, 'ooohh': 2079, 'ec': 2080, 'drama': 2081, 'spilled': 2082, 'chinese': 2083, 'fits': 2084, 'chest': 2085, 'bigot': 2086, 'convinced': 2087, 'gorilla': 2088, 'pile': 2089, 'football': 2090, 'nights': 2091, 'stuffing': 2092, 'honing': 2093, 'dishes': 2094, 'grow': 2095, 'cook': 2096, 'beeps': 2097, 'hasnt': 2098, 'trusted': 2099, 'nuhuh': 2100, 'shave': 2101, 'impressions': 2102, 'butter': 2103, 'socks': 2104, 'lamp': 2105, 'uhhow': 2106, 'ukrainian': 2107, 'bandaid': 2108, 'period': 2109, 'fantastic': 2110, 'tellin': 2111, 'fellow': 2112, 'appears': 2113, 'meaning': 2114, 'draw': 2115, 'moustache': 2116, 'somesome': 2117, 'iced': 2118, 'juice': 2119, 'fella': 2120, 'selfish': 2121, 'voice': 2122, 'delicious': 2123, 'criticism': 2124, 'feast': 2125, 'havin': 2126, 'pumpkin': 2127, 'difficult': 2128, 'penis': 2129, 'gang': 2130, 'dare': 2131, 'grown': 2132, 'blow': 2133, 'saint': 2134, 'starving': 2135, 'lookin': 2136, 'anyones': 2137, 'arm': 2138, 'spooky': 2139, 'ole': 2140, 'factory': 2141, 'pin': 2142, 'waking': 2143, 'somethings': 2144, 'feeding': 2145, 'jingle': 2146, 'millionaire': 2147, 'nut': 2148, 'whip': 2149, 'ahead': 2150, 'popcorn': 2151, 'aha': 2152, 'ohohoh': 2153, 'pushing': 2154, 'success': 2155, 'disease': 2156, 'angry': 2157, 'vacation': 2158, 'florida': 2159, 'krog': 2160, 'fully': 2161, 'triumph': 2162, 'waitressing': 2163, 'specials': 2164, 'chocolate': 2165, 'midnight': 2166, 'truck': 2167, 'jordie': 2168, 'suit': 2169, 'sun': 2170, 'mountain': 2171, 'jogging': 2172, 'bird': 2173, 'property': 2174, 'awesome': 2175, 'thrilled': 2176, 'after': 2177, 'linen': 2178, 'motion': 2179, 'painful': 2180, 'wax': 2181, 'satin': 2182, 'plaid': 2183, 'learning': 2184, 'russia': 2185, 'waiters': 2186, 'chefs': 2187, 'audience': 2188, 'depressed': 2189, 'doug': 2190, 'papers': 2191, 'bear': 2192, 'behaved': 2193, 'tuesday': 2194, 'balls': 2195, 'tom': 2196, 'blackout': 2197, 'beginning': 2198, 'sheer': 2199, 'blouse': 2200, 'doctors': 2201, 'became': 2202, 'yelled': 2203, 'routine': 2204, 'catching': 2205, 'forwardstop': 2206, 'push': 2207, 'janine': 2208, 'cheshhh': 2209, 'wind': 2210, 'airport': 2211, 'fabulous': 2212, 'charlie': 2213, 'lean': 2214, 'maternity': 2215, 'hogging': 2216, 'likelike': 2217, 'july': 2218, 'apple': 2219, 'cubicle': 2220, 'cube': 2221, 'sweep': 2222, 'hammer': 2223, 'blade': 2224, 'cruel': 2225, 'ringing': 2226, 'helped': 2227, 'deposit': 2228, 'assumed': 2229, 'joan': 2230, 'collins': 2231, 'sea': 2232, 'large': 2233, 'cancelled': 2234, 'avoiding': 2235, 'counter': 2236, 'flattered': 2237, 'sensed': 2238, 'apollo': 2239, 'sixth': 2240, 'stood': 2241, 'nicest': 2242, 'kicked': 2243, 'rapist': 2244, 'should': 2245, 'brochures': 2246, 'strippers': 2247, 'paste': 2248, 'situation': 2249, 'maria': 2250, 'silk': 2251, 'theme': 2252, 'iits': 2253, 'nipples': 2254, 'career': 2255, 'agogo': 2256, 'bail': 2257, 'pathetic': 2258, 'needy': 2259, 'egg': 2260, 'muffins': 2261, 'exist': 2262, 'controls': 2263, 'wasting': 2264, 'guilty': 2265, 'graduated': 2266, 'lobster': 2267, 'shake': 2268, 'quack': 2269, 'plates': 2270, 'celtics': 2271, 'bernice': 2272, 'tiles': 2273, 'build': 2274, 'unit': 2275, 'cinderelly': 2276, 'customer': 2277, 'scare': 2278, 'kisser': 2279, 'empire': 2280, 'supply': 2281, 'catering': 2282, 'lock': 2283, 'gettin': 2284, 'often': 2285, 'cilantro': 2286, 'hopping': 2287, 'daily': 2288, 'joseph': 2289, 'francis': 2290, 'conquered': 2291, 'physical': 2292, 'ultimate': 2293, 'champion': 2294, 'training': 2295, 'designer': 2296, 'row': 2297, 'beeped': 2298, 'spleen': 2299, 'bald': 2300, 'chess': 2301, 'soak': 2302, 'blazers': 2303, 'yeahno': 2304, 'apologizing': 2305, 'rejoin': 2306, 'donald': 2307, 'spelled': 2308, 'boobies': 2309, 'mint': 2310, 'treasures': 2311, 'ititits': 2312, 'cookie': 2313, 'price': 2314, 'score': 2315, 'disposable': 2316, 'illill': 2317, 'inin': 2318, 'groceries': 2319, 'report': 2320, 'eaten': 2321, 'sharp': 2322, 'wheel': 2323, 'jackass': 2324, 'contestants': 2325, 'horse': 2326, 'allergies': 2327, 'soda': 2328, 'sweety': 2329, 'bags': 2330, 'refuse': 2331, 'tramp': 2332, 'faster': 2333, 'broom': 2334, 'opposite': 2335, 'batch': 2336, 'dies': 2337, 'mary': 2338, 'mailman': 2339, 'hurely': 2340, 'sucker': 2341, 'boarding': 2342, 'oooh': 2343, 'jacket': 2344, 'lens': 2345, 'private': 2346, 'countdown': 2347, 'alien': 2348, 'an': 2349, 'kiddin': 2350, 'suite': 2351, 'lounge': 2352, 'brings': 2353, 'avenue': 2354, 'reasons': 2355, 'hardly': 2356, 'wifes': 2357, 'nelson': 2358, 'grass': 2359, 'dingy': 2360, 'doubt': 2361, 'hamper': 2362, 'remove': 2363, 'liam': 2364, 'unusual': 2365, 'abott': 2366, 'youryour': 2367, 'cable': 2368, 'pleaseplease': 2369, 'loan': 2370, 'jet': 2371, 'helps': 2372, 'pledges': 2373, 'performance': 2374, 'pill': 2375, 'guts': 2376, 'sayin': 2377, 'drunken': 2378, 'stunning': 2379, 'attack': 2380, 'connect': 2381, 'issues': 2382, 'bagel': 2383, 'confident': 2384, 'manage': 2385, 'hardest': 2386, 'sheshe': 2387, 'picnic': 2388, 'finger': 2389, 'guard': 2390, 'walls': 2391, 'shorts': 2392, 'awfully': 2393, 'application': 2394, 'panicked': 2395, 'latour': 2396, 'unacceptable': 2397, 'punk': 2398, 'state': 2399, 'mississpete': 2400, 'nude': 2401, 'blades': 2402, 'complicated': 2403, 'magazines': 2404, 'aisle': 2405, 'paints': 2406, 'charcoal': 2407, 'uhi': 2408, 'paranoid': 2409, 'proposed': 2410, 'goose': 2411, 'bumps': 2412, 'justill': 2413, 'rush': 2414, 'chin': 2415, 'puff': 2416, 'forest': 2417, 'forgotten': 2418, 'tastes': 2419, 'crust': 2420, 'chicago': 2421, 'hopefully': 2422, 'cmere': 2423, 'rough': 2424, 'forgetting': 2425, 'competitive': 2426, 'others': 2427, 'fish': 2428, 'fights': 2429, 'lotion': 2430, 'planned': 2431, 'howie': 2432, 'hated': 2433, 'label': 2434, 'search': 2435, 'phones': 2436, 'irony': 2437, 'sidney': 2438, 'benefits': 2439, 'lapsed': 2440, 'agent': 2441, 'rented': 2442, 'mention': 2443, 'triple': 2444, 'barium': 2445, 'local': 2446, 'laugh': 2447, 'las': 2448, 'president': 2449, 'urgent': 2450, 'whwhats': 2451, 'lasagne': 2452, 'owow': 2453, 'los': 2454, 'gary': 2455, 'hopes': 2456, 'boots': 2457, 'tan': 2458, 'opera': 2459, 'recent': 2460, 'ashamed': 2461, 'neil': 2462, 'lasagna': 2463, 'paolo': 2464, 'fulfilling': 2465, 'yikes': 2466, 'nooooo': 2467, 'accent': 2468, 'nanny': 2469, 'betty': 2470, 'chocolates': 2471, 'zelner': 2472, 'abort': 2473, 'chips': 2474, 'uniform': 2475, 'specially': 2476, 'project': 2477, 'classes': 2478, 'sheets': 2479, 'cried': 2480, 'suggestion': 2481, 'potatoes': 2482, 'kinds': 2483, 'underdog': 2484, 'balloon': 2485, 'cartoon': 2486, 'reached': 2487, 'dyou': 2488, 'observe': 2489, 'chairs': 2490, 'identical': 2491, 'study': 2492, 'testing': 2493, 'smells': 2494, 'officially': 2495, 'nonononono': 2496, 'ythink': 2497, 'fairly': 2498, 'tongue': 2499, 'dumdumdum': 2500, 'uhohokay': 2501, 'balance': 2502, 'tweezers': 2503, 'acting': 2504, 'direction': 2505, 'south': 2506, 'clever': 2507, 'ideas': 2508, 'wished': 2509, 'joanna': 2510, 'beating': 2511, 'mistakes': 2512, 'jerks': 2513, 'ballroom': 2514, 'finals': 2515, 'whitney': 2516, 'mouse': 2517, 'terry': 2518, 'hopeless': 2519, 'stryker': 2520, 'miracle': 2521, 'tin': 2522, 'asas': 2523, 'mightve': 2524, 'emotional': 2525, 'burned': 2526, 'intuitive': 2527, 'stevie': 2528, 'backstage': 2529, 'smoking': 2530, 'noone': 2531, 'mouthing': 2532, 'beans': 2533, 'france': 2534, 'nesele': 2535, 'sunday': 2536, 'thosethose': 2537, 'patch': 2538, 'lighter': 2539, 'thumb': 2540, 'knucklecracking': 2541, 'mel': 2542, 'aaron': 2543, 'seei': 2544, 'fanny': 2545, 'carrying': 2546, 'medical': 2547, 'terms': 2548, 'steal': 2549, 'laughed': 2550, 'blast': 2551, 'naps': 2552, 'jew': 2553, 'inspector': 2554, 'eater': 2555, 'designers': 2556, 'laid': 2557, 'hehe': 2558, 'kissing': 2559, 'sweaty': 2560, 'whwhy': 2561, 'subtle': 2562, 'drum': 2563, 'sticks': 2564, 'react': 2565, 'lilies': 2566, 'brownie': 2567, 'foosball': 2568, 'violated': 2569, 'helen': 2570, 'valentines': 2571, 'photos': 2572, 'fiancee': 2573, 'scooch': 2574, 'kristen': 2575, 'kristin': 2576, 'teaches': 2577, 'annabelle': 2578, 'swimming': 2579, 'eggs': 2580, 'embryos': 2581, 'gumball': 2582, 'regatta': 2583, 'monana': 2584, 'canvas': 2585, 'monet': 2586, 'phonetically': 2587, 'memorize': 2588, 'uses': 2589, 'carefully': 2590, 'client': 2591, 'testify': 2592, 'owes': 2593, 'cursed': 2594, 'andie': 2595, 'mcdowell': 2596, 'jos': 2597, 'horoscope': 2598, 'spat': 2599, 'psyched': 2600, 'tooty': 2601, 'weight': 2602, 'temporary': 2603, 'landlord': 2604, 'makin': 2605, 'joy': 2606, 'whoawhoawhoa': 2607, 'practicing': 2608, 'seats': 2609, 'survived': 2610, 'prove': 2611, 'hmhmm': 2612, 'fortyfive': 2613, 'glen': 2614, 'fiance': 2615, 'guide': 2616, 'boles': 2617, 'avoid': 2618, 'attic': 2619, 'tune': 2620, 'purpose': 2621, 'isis': 2622, 'growing': 2623, 'ysee': 2624, 'official': 2625, 'guilt': 2626, 'nownow': 2627, 'vibe': 2628, 'overseas': 2629, 'mirror': 2630, 'barley': 2631, 'sophisticated': 2632, 'cereal': 2633, 'flicks': 2634, 'pushover': 2635, 'albany': 2636, 'younger': 2637, 'taller': 2638, 'science': 2639, 'wesley': 2640, 'stopped': 2641, 'worrying': 2642, 'caller': 2643, 'janices': 2644, 'data': 2645, 'pleasant': 2646, 'knowing': 2647, 'ding': 2648, 'elaine': 2649, 'slight': 2650, 'phd': 2651, 'integrity': 2652, 'justits': 2653, 'drops': 2654, 'mm': 2655, 'chatracus': 2656, 'slide': 2657, 'happiness': 2658, 'weak': 2659, 'martin': 2660, 'scorcese': 2661, 'sat': 2662, 'everyones': 2663, 'vision': 2664, 'recently': 2665, 'staten': 2666, 'paolos': 2667, 'tasted': 2668, 'peter': 2669, 'rhonda': 2670, 'scott': 2671, 'masculine': 2672, 'casting': 2673, 'cuter': 2674, 'cleaner': 2675, 'stage': 2676, 'restaurants': 2677, 'liquor': 2678, 'loveable': 2679, 'thousand': 2680, 'expression': 2681, 'ordinary': 2682, 'knives': 2683, 'ankle': 2684, 'hip': 2685, 'liams': 2686, 'reject': 2687, 'revenge': 2688, 'bouillabaisse': 2689, 'stare': 2690, 'speacial': 2691, 'crab': 2692, 'cakes': 2693, 'cigarette': 2694, 'tar': 2695, 'bapsteinking': 2696, 'thatthatthat': 2697, 'basealan': 2698, 'base': 2699, 'dunno': 2700, 'station': 2701, 'hamburger': 2702, 'customers': 2703, 'morgan': 2704, 'chippy': 2705, 'jennifer': 2706, 'master': 2707, 'poet': 2708, 'shadow': 2709, 'lip': 2710, 'related': 2711, 'howdy': 2712, 'wa': 2713, 'whistle': 2714, 'bearnaise': 2715, 'convention': 2716, 'kate': 2717, 'miller': 2718, 'wrapped': 2719, 'female': 2720, 'traps': 2721, 'skip': 2722, 'peep': 2723, 'huggin': 2724, 'nose': 2725, 'grandfather': 2726, 'welch': 2727, 'mia': 2728, 'hamm': 2729, 'justi': 2730, 'summer': 2731, 'cuba': 2732, 'northern': 2733, 'bees': 2734, 'parade': 2735, 'hired': 2736, 'swans': 2737, 'lem': 2738, 'messing': 2739, 'petrie': 2740, 'sulk': 2741, 'huntley': 2742, 'email': 2743, 'swedish': 2744, 'trifle': 2745, 'bicep': 2746, 'memorial': 2747, 'salt': 2748, 'simmons': 2749, 'adams': 2750, 'companys': 2751, 'transition': 2752, 'kl': 2753, 'gr': 2754, 'amount': 2755, 'detail': 2756, 'definite': 2757, 'confidence': 2758, 'chris': 2759, 'betcha': 2760, 'vessel': 2761, 'emptier': 2762, 'interviewed': 2763, 'coached': 2764, 'americcan': 2765, 'ohhoho': 2766, 'diddid': 2767, 'ambulance': 2768, 'nottruthday': 2769, 'wander': 2770, 'nether': 2771, 'eternity': 2772, 'whatve': 2773, 'usual': 2774, 'aerobics': 2775, 'poster': 2776, 'perk': 2777, 'village': 2778, 'fiveish': 2779, 'having': 2780, 'tomorow': 2781, 'seek': 2782, 'comfort': 2783, 'wry': 2784, 'respects': 2785, 'youllyoull': 2786, 'phobo': 2787, 'phewbedo': 2788, 'phaybobo': 2789, 'blinding': 2790, 'lifting': 2791, 'weights': 2792, 'passed': 2793, 'toyouyou': 2794, 'sticking': 2795, 'eighteenth': 2796, 'artifact': 2797, 'calcutta': 2798, 'soheres': 2799, 'homo': 2800, 'erectus': 2801, 'hum': 2802, 'keynote': 2803, 'speaker': 2804, 'clerk': 2805, 'academics': 2806, 'sand': 2807, 'flood': 2808, 'bash': 2809, 'lima': 2810, 'bean': 2811, 'bubbling': 2812, 'forth': 2813, 'erin': 2814, 'calms': 2815, 'peaceful': 2816, 'nodded': 2817, 'insecure': 2818, 'constantly': 2819, 'reassure': 2820, 'airplane': 2821, 'dwha': 2822, 'pahaa': 2823, 'monger': 2824, 'nailed': 2825, 'foxtrot': 2826, 'tango': 2827, 'wracking': 2828, 'callbacks': 2829, 'nosei': 2830, 'concussion': 2831, 'sensing': 2832, 'controlled': 2833, 'glee': 2834, 'davids': 2835, 'recover': 2836, 'elizabeths': 2837, 'ehwhexcuse': 2838, 'matt': 2839, 'lauers': 2840, 'cleaned': 2841, 'ooooohh': 2842, 'scouts': 2843, 'camped': 2844, 'ooo': 2845, 'moral': 2846, 'obligation': 2847, 'oop': 2848, 'reallyvery': 2849, 'event': 2850, 'hilarious': 2851, 'hundreds': 2852, 'rode': 2853, 'faced': 2854, 'fears': 2855, 'ultimately': 2856, 'overcame': 2857, 'yeahnobutbutbutbut': 2858, 'areare': 2859, 'minsk': 2860, 'permanently': 2861, 'achieve': 2862, 'positronic': 2863, 'distillation': 2864, 'subatomic': 2865, 'particles': 2866, 'options': 2867, 'prototypes': 2868, 'mushroom': 2869, 'cap': 2870, 'bologna': 2871, 'andandandandand': 2872, 'toothpicks': 2873, 'peoples': 2874, 'mashuga': 2875, 'vic': 2876, 'tasty': 2877, 'adriennes': 2878, 'victor': 2879, 'onion': 2880, 'characters': 2881, 'rookie': 2882, 'greg': 2883, 'jenny': 2884, 'souvenirs': 2885, 'poisoning': 2886, 'bazida': 2887, 'ronni': 2888, 'mortician': 2889, 'yard': 2890, 'ships': 2891, 'yever': 2892, 'dknow': 2893, 'yhavent': 2894, 'ems': 2895, 'dick': 2896, 'guru': 2897, 'sajwhoa': 2898, 'shampoo': 2899, 'mesozoic': 2900, 'st': 2901, 'yess': 2902, 'zack': 2903, 'low': 2904, 'courtside': 2905, 'anvil': 2906, 'aim': 2907, 'babes': 2908, 'immodest': 2909, 'whiff': 2910, 'frowned': 2911, 'upon': 2912, 'judgey': 2913, 'holierthanthou': 2914, 'reputation': 2915, 'mcnailshisstudents': 2916, 'block': 2917, 'thursday': 2918, 'keystone': 2919, 'caplin': 2920, 'wayne': 2921, 'rumors': 2922, 'lovei': 2923, 'ahah': 2924, 'stressed': 2925, 'swore': 2926, 'withwith': 2927, 'sock': 2928, 'forcing': 2929, 'wellsoso': 2930, 'numb': 2931, 'nutsoh': 2932, 'bobbys': 2933, 'straightup': 2934, 'gangster': 2935, 'rap': 2936, 'visiting': 2937, 'victorias': 2938, 'model': 2939, 'trapped': 2940, 'ogeeop': 2941, 'snooty': 2942, 'stocked': 2943, 'donut': 2944, 'conclusion': 2945, 'joelburg': 2946, 'briefcase': 2947, 'yeyeyeah': 2948, 'semifirst': 2949, 'basis': 2950, 'freakish': 2951, 'hanger': 2952, 'batmans': 2953, 'expressly': 2954, 'val': 2955, 'kilmer': 2956, 'filmthat': 2957, 'batman': 2958, 'bonds': 2959, 'soif': 2960, 'ordained': 2961, 'weddings': 2962, 'legal': 2963, 'clergy': 2964, 'passion': 2965, 'rubs': 2966, 'dot': 2967, 'ink': 2968, 'sofa': 2969, 'cushions': 2970, 'spaghetti': 2971, 'rossross': 2972, 'homeless': 2973, 'knowwell': 2974, 'denise': 2975, 'secretly': 2976, 'counted': 2977, 'lllook': 2978, 'watchin': 2979, 'hire': 2980, 'espresso': 2981, 'brutal': 2982, 'willing': 2983, 'travelling': 2984, 'handing': 2985, 'chickchickchickeeeen': 2986, 'dontdont': 2987, 'jasons': 2988, 'initiated': 2989, 'gellergreen': 2990, 'danger': 2991, 'waste': 2992, 'olivia': 2993, 'extras': 2994, 'scenes': 2995, 'pleasehoney': 2996, 'imoh': 2997, 'godis': 2998, 'christian': 2999, 'sandershes': 3000, 'notgaystuff': 3001, 'bitten': 3002, 'peacock': 3003, 'rsvp': 3004, 'backless': 3005, 'veil': 3006, 'kurt': 3007, 'douglas': 3008, 'doooo': 3009, 'pep': 3010, 'rally': 3011, 'pyramid': 3012, 'anywayumm': 3013, 'marijuana': 3014, 'cigarettes': 3015, 'dubbies': 3016, 'ripped': 3017, 'microphones': 3018, 'holocaust': 3019, 'earth': 3020, 'ennnh': 3021, 'canned': 3022, 'dug': 3023, 'occasional': 3024, 'binge': 3025, 'waitwaitwaitwaitwaitwaitwaitwait': 3026, 'position': 3027, 'buyer': 3028, 'effective': 3029, 'expense': 3030, 'clich': 3031, 'cheeks': 3032, 'bossy': 3033, 'domineering': 3034, 'sloppy': 3035, 'immature': 3036, 'cousin': 3037, 'obsessive': 3038, 'voices': 3039, 'thththats': 3040, 'runofthemill': 3041, 'runofthemillsliceitrightoff': 3042, 'hamilton': 3043, 'rear': 3044, 'francein': 3045, 'europewestern': 3046, 'backpacking': 3047, 'western': 3048, 'uhhmmwait': 3049, 'studied': 3050, 'foothills': 3051, 'mount': 3052, 'tibidaybo': 3053, 'uhwerewere': 3054, 'ummwere': 3055, 'filtertipped': 3056, 'error': 3057, 'credited': 3058, 'inconvenience': 3059, 'copies': 3060, 'reallyi': 3061, 'panties': 3062, 'exotic': 3063, 'vermont': 3064, 'daiquiris': 3065, 'virgin': 3066, 'carpet': 3067, 'whatyknow': 3068, 'layman': 3069, 'arrogance': 3070, 'unable': 3071, 'toi': 3072, 'huhhmm': 3073, 'therethere': 3074, 'incident': 3075, 'once': 3076, 'scale': 3077, 'dumbest': 3078, 'manchild': 3079, 'appointments': 3080, 'greasy': 3081, 'puzzlebeer': 3082, 'faeces': 3083, 'videos': 3084, 'museums': 3085, 'version': 3086, 'gooooood': 3087, 'racecar': 3088, 'velula': 3089, 'jester': 3090, 'ohhokay': 3091, 'wins': 3092, 'daydreaming': 3093, 'outer': 3094, 'taj': 3095, 'mahal': 3096, 'slots': 3097, 'grope': 3098, 'parallel': 3099, 'stairway': 3100, 'counting': 3101, 'lightning': 3102, 'beginsstop': 3103, 'hockey': 3104, 'claims': 3105, 'dangerous': 3106, 'liaisons': 3107, 'bernies': 3108, 'phase': 3109, 'realised': 3110, 'topic': 3111, 'ruth': 3112, 'plain': 3113, 'disarray': 3114, 'flung': 3115, 'physically': 3116, 'depending': 3117, 'species': 3118, 'alumni': 3119, 'reads': 3120, 'fossil': 3121, 'samples': 3122, 'benben': 3123, 'steps': 3124, 'entirely': 3125, 'giiiiiiift': 3126, 'drying': 3127, 'rod': 3128, 'horribly': 3129, 'traumatised': 3130, 'mommy': 3131, 'clocks': 3132, 'ambitious': 3133, 'nonnnno': 3134, 'pyjama': 3135, 'stating': 3136, 'ohhhhh': 3137, 'oooohooohooooh': 3138, 'mustardtastrophe': 3139, 'plague': 3140, 'houses': 3141, 'declawing': 3142, 'cats': 3143, 'ummhere': 3144, 'hehes': 3145, 'oohhey': 3146, 'donuts': 3147, 'odour': 3148, 'transit': 3149, 'authority': 3150, 'carseat': 3151, 'onto': 3152, 'stroller': 3153, 'ahwhoa': 3154, 'introducing': 3155, 'applied': 3156, 'fierce': 3157, 'butim': 3158, 'applaud': 3159, 'intended': 3160, 'admitted': 3161, 'friendship': 3162, 'farrell': 3163, 'overheard': 3164, 'tests': 3165, 'learners': 3166, 'essay': 3167, 'saythe': 3168, 'documents': 3169, 'toss': 3170, 'shedder': 3171, 'claim': 3172, 'mexico': 3173, 'national': 3174, 'sundays': 3175, 'danielle': 3176, 'telescope': 3177, 'creeps': 3178, 'spatters': 3179, 'watched': 3180, 'pot': 3181, 'saddest': 3182, 'camper': 3183, 'minimal': 3184, 'rethink': 3185, 'underwearyou': 3186, 'fabric': 3187, 'softener': 3188, 'adventure': 3189, 'delvecchio': 3190, 'imagination': 3191, 'split': 3192, 'hibachi': 3193, 'whatwhwhat': 3194, 'affect': 3195, 'form': 3196, 'grant': 3197, 'accidentally': 3198, 'valuable': 3199, 'steer': 3200, 'ju': 3201, 'ggo': 3202, 'girlie': 3203, 'rewired': 3204, 'stereo': 3205, 'disturbing': 3206, 'belongs': 3207, 'chapter': 3208, 'peek': 3209, 'clicked': 3210, 'spoil': 3211, 'whazzup': 3212, 'molly': 3213, 'rrrichard': 3214, 'complex': 3215, 'unlikely': 3216, 'geeky': 3217, 'older': 3218, 'vulnerability': 3219, 'factor': 3220, 'herebut': 3221, 'savings': 3222, 'ohnonono': 3223, 'focusing': 3224, 'consider': 3225, 'length': 3226, 'rope': 3227, 'nouse': 3228, 'grace': 3229, 'rhyming': 3230, 'styles': 3231, 'beside': 3232, 'meeeeeeeeeee': 3233, 'partners': 3234, 'pen': 3235, 'doodle': 3236, 'besides': 3237, 'busty': 3238, 'usuallyyeah': 3239, 'general': 3240, 'ment': 3241, 'brilliant': 3242, 'sincerely': 3243, 'wisely': 3244, 'radios': 3245, 'particular': 3246, 'superb': 3247, 'complaint': 3248, 'ohpleaseii': 3249, 'restaurantits': 3250, 'moodkiller': 3251, 'traditional': 3252, 'grilled': 3253, 'fixins': 3254, 'funyuns': 3255, 'magnificent': 3256, 'haveand': 3257, 'vividlya': 3258, 'mouthful': 3259, 'reverse': 3260, 'grownups': 3261, 'nana': 3262, 'java': 3263, 'joes': 3264, 'looklooklooklooklook': 3265, 'orpoison': 3266, 'involved': 3267, 'mature': 3268, 'category': 3269, 'returning': 3270, 'nominees': 3271, 'wheeler': 3272, 'aquarius': 3273, 'gemini': 3274, 'taurus': 3275, 'virgo': 3276, 'sagittarius': 3277, 'meantime': 3278, 'bernard': 3279, 'hearmother': 3280, 'janjanice': 3281, 'contracting': 3282, 'wide': 3283, 'pelvis': 3284, 'unwitting': 3285, 'essence': 3286, 'itdoes': 3287, 'crawl': 3288, 'meddled': 3289, 'according': 3290, 'tada': 3291, 'sparkly': 3292, 'wonerful': 3293, 'capades': 3294, 'wooo': 3295, 'matador': 3296, 'happenin': 3297, 'onewoman': 3298, 'lifes': 3299, 'stupider': 3300, 'medieval': 3301, 'nighttime': 3302, 'antique': 3303, 'fortune': 3304, 'ridiculously': 3305, 'crystal': 3306, 'fhah': 3307, 'flennin': 3308, 'depressing': 3309, 'soft': 3310, 'pretzel': 3311, 'bras': 3312, 'doyknow': 3313, 'beokay': 3314, 'jurassic': 3315, 'scarf': 3316, 'tucked': 3317, 'ewww': 3318, 'ezels': 3319, 'campaign': 3320, 'up': 3321, 'halfcaf': 3322, 'hazel': 3323, 'nonfat': 3324, 'foam': 3325, 'missy': 3326, 'alternate': 3327, 'crawler': 3328, 'raised': 3329, 'awareness': 3330, 'ooooh': 3331, 'doorknob': 3332, 'grows': 3333, 'spring': 3334, 'adorable': 3335, 'equipped': 3336, 'destroy': 3337, 'fourteen': 3338, 'protected': 3339, 'tornado': 3340, 'dreamless': 3341, 'dirt': 3342, 'dumping': 3343, 'reality': 3344, 'artelle': 3345, 'blobbies': 3346, 'cleansing': 3347, 'firemen': 3348, 'sons': 3349, 'susans': 3350, 'cramps': 3351, 'voulezvous': 3352, 'coucher': 3353, 'avec': 3354, 'moi': 3355, 'ce': 3356, 'soir': 3357, 'cafe': 3358, 'maurice': 3359, 'fascinated': 3360, 'talky': 3361, 'golden': 3362, 'menu': 3363, 'mischa': 3364, 'silently': 3365, 'airhead': 3366, 'forgets': 3367, 'picturei': 3368, 'churo': 3369, 'stains': 3370, 'paulette': 3371, 'vincent': 3372, 'soaked': 3373, 'judy': 3374, 'diaphragm': 3375, 'chew': 3376, 'halloween': 3377, 'withdrawal': 3378, 'applying': 3379, 'grasp': 3380, 'tab': 3381, 'owohoh': 3382, 'painfree': 3383, 'painzine': 3384, 'nighties': 3385, 'nerves': 3386, 'deadened': 3387, 'owowowow': 3388, 'bikini': 3389, 'kilt': 3390, 'skirt': 3391, 'knee': 3392, 'haircut': 3393, 'thirty': 3394, 'guides': 3395, 'alley': 3396, 'wave': 3397, 'butternut': 3398, 'squash': 3399, 'squatternut': 3400, 'buash': 3401, 'reliving': 3402, 'indians': 3403, 'iyknow': 3404, 'tad': 3405, 'edgy': 3406, 'theytheythey': 3407, 'bingette': 3408, 'chewed': 3409, 'trap': 3410, 'legchewing': 3411, 'harassment': 3412, 'cases': 3413, 'urine': 3414, 'cuts': 3415, 'broiling': 3416, 'pan': 3417, 'caterpillars': 3418, 'william': 3419, 'sonoma': 3420, 'champ': 3421, 'battery': 3422, 'skimp': 3423, 'mingle': 3424, 'ease': 3425, 'solider': 3426, 'tommy': 3427, 'dannys': 3428, 'wingman': 3429, 'buds': 3430, 'frat': 3431, 'bros': 3432, 'lobbing': 3433, 'yellow': 3434, 'method': 3435, 'chord': 3436, 'layering': 3437, 'fabrics': 3438, 'colours': 3439, 'instance': 3440, 'schemp': 3441, 'deadline': 3442, 'fundamentally': 3443, 'unmarriable': 3444, 'parachute': 3445, 'knapsack': 3446, 'dressydress': 3447, 'franzblau': 3448, 'merry': 3449, 'platform': 3450, 'millennium': 3451, 'update': 3452, 'cos': 3453, 'stronger': 3454, 'scarves': 3455, 'tulip': 3456, 'tshirt': 3457, 'londoners': 3458, 'tourists': 3459, 'poems': 3460, 'backstop': 3461, 'wedged': 3462, 'soooo': 3463, 'minivan': 3464, 'neutral': 3465, 'haul': 3466, 'computers': 3467, 'functions': 3468, 'theoretically': 3469, 'download': 3470, 'interfacing': 3471, 'ba': 3472, 'bumb': 3473, 'stays': 3474, 'bernoullis': 3475, 'principle': 3476, 'newtons': 3477, 'mikes': 3478, 'aaargh': 3479, 'slutty': 3480, 'lingerie': 3481, 'hurtin': 3482, 'skidmark': 3483, 'overdue': 3484, 'apology': 3485, 'overweight': 3486, 'nichou': 3487, 'chima': 3488, 'stroke': 3489, 'tingly': 3490, 'hickey': 3491, 'speaks': 3492, 'okayokay': 3493, 'held': 3494, 'umbutokay': 3495, 'scores': 3496, 'winning': 3497, 'roast': 3498, 'pizzas': 3499, 'justtheres': 3500, 'thinkers': 3501, 'leaders': 3502, 'indeedy': 3503, 'peeing': 3504, 'brush': 3505, 'lid': 3506, 'okedokey': 3507, 'per': 3508, 'se': 3509, 'interactive': 3510, 'wildlife': 3511, 'animals': 3512, 'docile': 3513, 'cornered': 3514, 'objects': 3515, 'banana': 3516, 'jungle': 3517, 'horns': 3518, 'diegos': 3519, 'rabbit': 3520, 'gains': 3521, 'specimen': 3522, 'process': 3523, 'allow': 3524, 'hyphen': 3525, 'bicentennial': 3526, 'ethan': 3527, 'felon': 3528, 'fallin': 3529, 'wellfall': 3530, 'shiny': 3531, 'chad': 3532, 'miserable': 3533, 'seahorse': 3534, 'seahorses': 3535, 'toward': 3536, 'godwhats': 3537, 'terrified': 3538, 'ohheyheyhey': 3539, 'goofin': 3540, 'youyouyouyou': 3541, 'namesake': 3542, 'clamed': 3543, 'entering': 3544, 'waitwaitwait': 3545, 'puppies': 3546, 'wound': 3547, 'exposed': 3548, 'sexually': 3549, 'lover': 3550, 'satisfy': 3551, 'fulfill': 3552, 'eel': 3553, 'shedshed': 3554, 'replica': 3555, 'sends': 3556, 'orbit': 3557, 'captain': 3558, 'cupid': 3559, 'dwarf': 3560, 'clark': 3561, 'happier': 3562, 'ceremony': 3563, 'ohwaityou': 3564, 'reinforcements': 3565, 'hitchhiker': 3566, 'rape': 3567, 'killer': 3568, 'nightnight': 3569, 'tiffany': 3570, 'aahah': 3571, 'pays': 3572, 'gottheother': 3573, 'plplace': 3574, 'thisahhaha': 3575, 'justif': 3576, 'matches': 3577, 'timing': 3578, 'fires': 3579, 'gossiping': 3580, 'diets': 3581, 'moderation': 3582, 'understood': 3583, 'unbearable': 3584, 'tequila': 3585, 'partly': 3586, 'lesson': 3587, 'session': 3588, 'lycra': 3589, 'spandex': 3590, 'gymtreat': 3591, 'thathe': 3592, 'dared': 3593, 'briefs': 3594, 'thatskinda': 3595, 'flap': 3596, 'heels': 3597, 'posture': 3598, 'lumberjack': 3599, 'lacys': 3600, 'masculinity': 3601, 'lusts': 3602, 'nursing': 3603, 'emma': 3604, 'yowsa': 3605, 'lord': 3606, 'uhuh': 3607, 'suityman': 3608, 'pillman': 3609, 'counselor': 3610, 'added': 3611, 'butcome': 3612, 'vulnerable': 3613, 'chaching': 3614, 'sung': 3615, 'authorized': 3616, 'distribute': 3617, 'justyknow': 3618, 'reciprocate': 3619, 'blessing': 3620, 'sono': 3621, 'welli': 3622, 'meaningless': 3623, 'deadend': 3624, 'surrounded': 3625, 'hanghang': 3626, 'charm': 3627, 'mistaken': 3628, 'badly': 3629, 'likelikelike': 3630, 'thatits': 3631, 'convince': 3632, 'ravioli': 3633, 'supportive': 3634, 'opens': 3635, 'robbies': 3636, 'flame': 3637, 'snow': 3638, 'knick': 3639, 'ladywhoa': 3640, 'ewing': 3641, 'ifwait': 3642, 'rebuilding': 3643, 'waah': 3644, 'whaaa': 3645, 'herejason': 3646, 'costalano': 3647, 'choking': 3648, 'retainer': 3649, 'hating': 3650, 'sweating': 3651, 'punches': 3652, 'devil': 3653, 'satan': 3654, 'smock': 3655, 'dds': 3656, 'roberts': 3657, 'complementary': 3658, 'climbing': 3659, 'retiling': 3660, 'yo': 3661, 'spackel': 3662, 'ahahah': 3663, 'lay': 3664, 'copying': 3665, 'issacs': 3666, 'djing': 3667, 'philly': 3668, 'champagne': 3669, 'anniversaries': 3670, 'lasts': 3671, 'fantasy': 3672, 'fantasies': 3673, 'sour': 3674, 'sneak': 3675, 'cockpit': 3676, 'stewardess': 3677, 'trial': 3678, 'supplies': 3679, 'blouses': 3680, 'dresses': 3681, 'justthrow': 3682, 'purses': 3683, 'bloomingdales': 3684, 'okayyyyy': 3685, 'paint': 3686, 'sword': 3687, 'replace': 3688, 'baguette': 3689, 'balded': 3690, 'yyeah': 3691, 'nnnnn': 3692, 'oneonone': 3693, 'gnight': 3694, 'whno': 3695, 'tennille': 3696, 'reporter': 3697, 'influence': 3698, 'dozens': 3699, 'caseyay': 3700, 'callin': 3701, 'wxrk': 3702, 'krock': 3703, 'challenge': 3704, 'karen': 3705, 'rossatron': 3706, 'ohwhaho': 3707, 'ditch': 3708, 'possibility': 3709, 'girlfriends': 3710, 'intellectual': 3711, 'missing': 3712, 'conquer': 3713, 'banned': 3714, 'trainer': 3715, 'koon': 3716, 'doe': 3717, 'brazilian': 3718, 'octagon': 3719, 'designed': 3720, 'ruptured': 3721, 'stu': 3722, 'joked': 3723, 'shows': 3724, 'morse': 3725, 'lied': 3726, 'risky': 3727, 'boringohh': 3728, 'frozen': 3729, 'lake': 3730, 'mask': 3731, 'cameron': 3732, 'diaz': 3733, 'sabotage': 3734, 'byebyee': 3735, 'jills': 3736, 'gate': 3737, 'packing': 3738, 'deepdeepdeep': 3739, 'trenchcoat': 3740, 'bums': 3741, 'genuinely': 3742, 'fort': 3743, 'danced': 3744, 'fallen': 3745, 'furnished': 3746, 'rage': 3747, 'iwhat': 3748, 'cutting': 3749, 'seventeen': 3750, 'laser': 3751, 'floyd': 3752, 'planetarium': 3753, 'occurred': 3754, 'munchies': 3755, 'nyu': 3756, 'dorms': 3757, 'envelope': 3758, 'stuffers': 3759, 'stamp': 3760, 'lickers': 3761, 'resumes': 3762, 'eclipse': 3763, 'soaps': 3764, 'shampoos': 3765, 'needwhat': 3766, 'cake': 3767, 'murray': 3768, 'handed': 3769, 'yugoslavian': 3770, 'notthatsthats': 3771, 'milan': 3772, 'respond': 3773, 'superiors': 3774, 'afteri': 3775, 'lyin': 3776, 'leeeeean': 3777, 'dragon': 3778, 'leanleanlean': 3779, 'triscadecaphobia': 3780, 'edges': 3781, 'entitled': 3782, 'angel': 3783, 'losing': 3784, 'losers': 3785, 'spin': 3786, 'google': 3787, 'thinkoh': 3788, 'gimmie': 3789, 'other': 3790, 'lifelike': 3791, 'flirting': 3792, 'flirt': 3793, 'adoin': 3794, 'iiill': 3795, 'ewwuck': 3796, 'graceful': 3797, 'visit': 3798, 'dried': 3799, 'seashores': 3800, 'whowhos': 3801, 'abandoner': 3802, 'custard': 3803, 'goooooood': 3804, 'licence': 3805, 'revoked': 3806, 'accidentyou': 3807, 'slips': 3808, 'noyou': 3809, 'cotton': 3810, 'lifeguards': 3811, 'dismantle': 3812, 'careii': 3813, 'meani': 3814, 'offered': 3815, 'fran': 3816, 'wenus': 3817, 'whooooaaaa': 3818, 'picky': 3819, 'grieve': 3820, 'whered': 3821, 'wholesale': 3822, 'socket': 3823, 'tinted': 3824, 'brownies': 3825, 'tooth': 3826, 'invisible': 3827, 'dentists': 3828, 'hygienists': 3829, 'ummwhat': 3830, 'albino': 3831, 'oral': 3832, 'hygiene': 3833, 'floss': 3834, 'coincidence': 3835, 'flight': 3836, 'dreadful': 3837, 'acted': 3838, 'therestheres': 3839, 'england': 3840, 'celebrities': 3841, 'spots': 3842, 'ooohhoo': 3843, 'forgiving': 3844, 'sarandon': 3845, 'political': 3846, 'donated': 3847, 'cans': 3848, 'oohhoo': 3849, 'geography': 3850, 'twentyone': 3851, 'jetway': 3852, 'ihe': 3853, 'jjust': 3854, 'federal': 3855, 'regulations': 3856, 'beats': 3857, 'dcup': 3858, 'receive': 3859, 'doubling': 3860, 'bonus': 3861, 'getno': 3862, 'somehow': 3863, 'presenting': 3864, 'sarah': 3865, 'tuttles': 3866, 'mission': 3867, 'asteroid': 3868, 'fraid': 3869, 'aaaah': 3870, 'wonderfulness': 3871, 'creepy': 3872, 'screwing': 3873, 'handshake': 3874, 'thati': 3875, 'manly': 3876, 'slut': 3877, 'greelys': 3878, 'theory': 3879, 'dominance': 3880, 'freeman': 3881, 'graduate': 3882, 'seminar': 3883, 'sounded': 3884, 'schmair': 3885, 'sayi': 3886, 'superstar': 3887, 'pouring': 3888, 'feasted': 3889, 'closet': 3890, 'dontwhoa': 3891, 'godowoo': 3892, 'rachrachrach': 3893, 'crushing': 3894, 'bones': 3895, 'ouch': 3896, 'constructive': 3897, 'solution': 3898, 'chalk': 3899, 'lesbian': 3900, 'rossjoey': 3901, 'joeyross': 3902, 'headin': 3903, 'hardware': 3904, 'redo': 3905, 'highly': 3906, 'inch': 3907, 'glued': 3908, 'pry': 3909, 'gouged': 3910, 'surgeons': 3911, 'colon': 3912, 'tummy': 3913, 'purred': 3914, 'jeez': 3915, 'heck': 3916, 'thethat': 3917, 'homesick': 3918, 'lads': 3919, 'babe': 3920, 'scrum': 3921, 'knowright': 3922, 'pigpig': 3923, 'manhow': 3924, 'gorgeous': 3925, 'kindve': 3926, 'bedrooms': 3927, 'baths': 3928, 'erwins': 3929, 'skinny': 3930, 'sunglasses': 3931, 'radio': 3932, 'holds': 3933, 'stealer': 3934, 'spaceship': 3935, 'woo': 3936, 'stung': 3937, 'goodpill': 3938, 'joshuas': 3939, 'stylewhat': 3940, 'victorian': 3941, 'doorknobs': 3942, 'cuperthewitt': 3943, 'dragged': 3944, 'ornate': 3945, 'iive': 3946, 'ninth': 3947, 'jjjust': 3948, 'finest': 3949, 'oak': 3950, 'east': 3951, 'mississippi': 3952, 'prettiest': 3953, 'lace': 3954, 'craftsmanship': 3955, 'gepeto': 3956, 'changing': 3957, 'offer': 3958, 'profit': 3959, 'accountant': 3960, 'same': 3961, 'shark': 3962, 'crossword': 3963, 'sixletter': 3964, 'dots': 3965, 'maroon': 3966, 'comedy': 3967, 'petite': 3968, 'wee': 3969, 'mute': 3970, 'jewelry': 3971, 'neurologist': 3972, 'comprehensive': 3973, 'overview': 3974, 'status': 3975, 'response': 3976, 'clifford': 3977, 'burnett': 3978, 'november': 3979, 'based': 3980, 'cliff': 3981, 'mathematician': 3982, 'widower': 3983, 'muriel': 3984, 'draddle': 3985, 'rhymes': 3986, 'maypole': 3987, 'breaths': 3988, 'dois': 3989, 'atmosphere': 3990, 'sidestep': 3991, 'mazel': 3992, 'tov': 3993, 'uptown': 3994, 'wasif': 3995, 'racist': 3996, 'positive': 3997, 'exboyfriend': 3998, 'trading': 3999, 'zinfandel': 4000, 'closest': 4001, 'stopstop': 4002, 'angelica': 4003, 'noooooooo': 4004, 'bask': 4005, 'heywhoawhoawhoa': 4006, 'hohohold': 4007, 'kissey': 4008, 'european': 4009, 'justyknowstop': 4010, 'culture': 4011, 'puke': 4012, 'grabs': 4013, 'cheered': 4014, 'wisdom': 4015, 'youwere': 4016, 'whawhat': 4017, 'river': 4018, 'coast': 4019, 'coasts': 4020, 'yoyou': 4021, 'elses': 4022, 'ceilings': 4023, 'sage': 4024, 'branches': 4025, 'sacramental': 4026, 'oregano': 4027, 'semen': 4028, 'righteous': 4029, 'ritual': 4030, 'barrys': 4031, 'adam': 4032, 'ritters': 4033, 'receipt': 4034, 'nokululu': 4035, 'oon': 4036, 'scotty': 4037, 'jared': 4038, 'paulos': 4039, 'grappa': 4040, 'salmon': 4041, 'sets': 4042, 'slash': 4043, 'bathtub': 4044, 'sooo': 4045, 'skedaddle': 4046, 'highness': 4047, 'loaner': 4048, 'helper': 4049, 'imaginary': 4050, 'lafite': 4051, 'nicely': 4052, 'damaged': 4053, 'zillionaire': 4054, 'dakota': 4055, 'petechicago': 4056, 'whoswhos': 4057, 'zip': 4058, 'nudes': 4059, 'roller': 4060, 'shrink': 4061, 'stumble': 4062, 'item': 4063, 'ja': 4064, 'winterberry': 4065, 'herbal': 4066, 'savory': 4067, 'resist': 4068, 'brides': 4069, 'donna': 4070, 'carin': 4071, 'clubbing': 4072, 'imagining': 4073, 'guests': 4074, 'fireman': 4075, 'journal': 4076, 'drawings': 4077, 'colors': 4078, 'access': 4079, 'sos': 4080, 'math': 4081, 'paths': 4082, 'stayed': 4083, 'random': 4084, 'intimidated': 4085, 'bore': 4086, 'manipulative': 4087, 'doors': 4088, 'adjustment': 4089, 'progress': 4090, 'removal': 4091, 'glaucoma': 4092, 'haunt': 4093, 'tick': 4094, 'step': 4095, 'cubby': 4096, 'max': 4097, 'snug': 4098, 'sergio': 4099, 'valentes': 4100, 'delivered': 4101, 'buttery': 4102, 'crumbly': 4103, 'graham': 4104, 'cracker': 4105, 'filling': 4106, 'filled': 4107, 'tempted': 4108, 'mommas': 4109, 'bakery': 4110, 'scooter': 4111, 'hill': 4112, 'tracks': 4113, 'boobie': 4114, 'payback': 4115, 'express': 4116, 'silence': 4117, 'lambs': 4118, 'specifically': 4119, 'rubber': 4120, 'glue': 4121, 'whatevercant': 4122, 'er': 4123, 'sandras': 4124, 'veryreally': 4125, 'veryvery': 4126, 'julies': 4127, 'dilated': 4128, 'fingers': 4129, 'compare': 4130, 'interrupting': 4131, 'nonodont': 4132, 'fed': 4133, 'bridal': 4134, 'alyou': 4135, 'ruined': 4136, 'sursurprise': 4137, 'raining': 4138, 'bright': 4139, 'paleontologists': 4140, 'shirts': 4141, 'punched': 4142, 'clunked': 4143, 'massager': 4144, 'reach': 4145, 'theresbeen': 4146, 'originated': 4147, 'aroma': 4148, 'giraffes': 4149, 'pirate': 4150, 'foster': 4151, 'puppets': 4152, 'petes': 4153, 'interviewing': 4154, 'opponent': 4155, 'trains': 4156, 'iran': 4157, 'thieves': 4158, 'capable': 4159, 'burger': 4160, 'slap': 4161, 'conducting': 4162, 'experiment': 4163, 'smack': 4164, 'websites': 4165, 'website': 4166, 'unnecessary': 4167, 'government': 4168, 'tabs': 4169, 'branching': 4170, 'solidify': 4171, 'declare': 4172, 'bowmonts': 4173, 'howies': 4174, 'editing': 4175, 'hehehe': 4176, 'edit': 4177, 'spoken': 4178, 'refill': 4179, 'shewell': 4180, 'don': 4181, 'janet': 4182, 'officerfireman': 4183, 'cancan': 4184, 'wrap': 4185, 'blanket': 4186, 'youokay': 4187, 'warrant': 4188, 'reattach': 4189, 'disconnect': 4190, 'circle': 4191, 'hoop': 4192, 'pointing': 4193, 'doorman': 4194, 'peepers': 4195, 'nngghhh': 4196, 'heating': 4197, 'radiator': 4198, 'rdtor': 4199, 'sidneys': 4200, 'heyy': 4201, 'screen': 4202, 'guild': 4203, 'residual': 4204, 'expired': 4205, 'boats': 4206, 'viking': 4207, 'mmm': 4208, 'moist': 4209, 'surefire': 4210, 'talker': 4211, 'tissues': 4212, 'freemont': 4213, 'westwestmont': 4214, 'westburg': 4215, 'drove': 4216, 'enema': 4217, 'lookof': 4218, 'offwonderment': 4219, 'gaze': 4220, 'drowning': 4221, 'moron': 4222, 'guarantee': 4223, 'deals': 4224, 'hmmmm': 4225, 'locked': 4226, 'shook': 4227, 'seal': 4228, 'wowomen': 4229, 'matthew': 4230, 'perry': 4231, 'signs': 4232, 'wherewheres': 4233, 'sweats': 4234, 'allwere': 4235, 'press': 4236, 'whoaheywhwhwhat': 4237, 'sliver': 4238, 'whwhwhat': 4239, 'hometowns': 4240, 'nothingwhy': 4241, 'classroom': 4242, 'students': 4243, 'picturing': 4244, 'candels': 4245, 'lit': 4246, 'belts': 4247, 'belt': 4248, 'midterms': 4249, 'countries': 4250, 'tone': 4251, 'towhoa': 4252, 'semiprivate': 4253, 'dogs': 4254, 'lag': 4255, 'flies': 4256, 'angeles': 4257, 'loses': 4258, 'touching': 4259, 'cell': 4260, 'rang': 4261, 'features': 4262, 'handbag': 4263, 'puzzler': 4264, 'puzzle': 4265, 'contracts': 4266, 'genitals': 4267, 'noisy': 4268, 'passin': 4269, 'phew': 4270, 'networks': 4271, 'broadcast': 4272, 'nudity': 4273, 'denis': 4274, 'franzs': 4275, 'sexand': 4276, 'rocked': 4277, 'globe': 4278, 'united': 4279, 'knitting': 4280, 'knit': 4281, 'careers': 4282, 'advised': 4283, 'role': 4284, 'homosexually': 4285, 'auditioned': 4286, 'contract': 4287, 'luchhi': 4288, 'daytime': 4289, 'unexpected': 4290, 'uhboy': 4291, 'nominated': 4292, 'simon': 4293, 'thankthank': 4294, 'waitohheyhuh': 4295, 'sorts': 4296, 'closes': 4297, 'realilized': 4298, 'duh': 4299, 'judgmental': 4300, 'destiny': 4301, 'fulfilled': 4302, 'ageist': 4303, 'fresh': 4304, 'chipper': 4305, 'napping': 4306, 'whaddya': 4307, 'shy': 4308, 'preppy': 4309, 'understanding': 4310, 'flattery': 4311, 'dismiss': 4312, 'draft': 4313, 'wynona': 4314, 'rider': 4315, 'ironic': 4316, 'goofy': 4317, 'lurker': 4318, 'chan': 4319, 'listener': 4320, 'trays': 4321, 'whwhich': 4322, 'floopy': 4323, 'whatswhats': 4324, 'nonsense': 4325, 'english': 4326, 'permanent': 4327, 'organize': 4328, 'plural': 4329, 'allright': 4330, 'stable': 4331, 'obstacles': 4332, 'mediocre': 4333, 'zelners': 4334, 'lure': 4335, 'distract': 4336, 'anythingminute': 4337, 'finding': 4338, 'iron': 4339, 'steel': 4340, 'operators': 4341, 'schools': 4342, 'motorcycle': 4343, 'letterman': 4344, 'wore': 4345, 'mascot': 4346, 'heshes': 4347, 'mellow': 4348, 'heyooh': 4349, 'loosen': 4350, 'strings': 4351, 'mena': 4352, 'unattractive': 4353, 'laying': 4354, 'someday': 4355, 'bathrooms': 4356, 'spice': 4357, 'isits': 4358, 'uhhey': 4359, 'threesome': 4360, 'diner': 4361, 'skates': 4362, 'cocoa': 4363, 'lumps': 4364, 'whipped': 4365, 'add': 4366, 'peas': 4367, 'onions': 4368, 'inflatable': 4369, 'lotsa': 4370, 'dysee': 4371, 'yoghurt': 4372, 'containers': 4373, 'afive': 4374, 'uncoordinated': 4375, 'adjoining': 4376, 'corneas': 4377, 'reserve': 4378, 'donate': 4379, 'fluids': 4380, 'cycles': 4381, 'applicants': 4382, 'studies': 4383, 'participate': 4384, 'effects': 4385, 'receptionists': 4386, 'potato': 4387, 'oven': 4388, 'crumbies': 4389, 'monkey': 4390, 'wiped': 4391, 'biggie': 4392, 'platforms': 4393, 'taping': 4394, 'underpants': 4395, 'dancer': 4396, 'loosened': 4397, 'hips': 4398, 'rhythm': 4399, 'atat': 4400, 'breakups': 4401, 'deliveries': 4402, 'description': 4403, 'patrick': 4404, 'ummmmmmmm': 4405, 'getoh': 4406, 'dateoh': 4407, 'dinners': 4408, 'hohoho': 4409, 'fried': 4410, 'inflate': 4411, 'flopping': 4412, 'broadway': 4413, 'cocktails': 4414, 'appalachia': 4415, 'ear': 4416, 'rambunctious': 4417, 'itsnot': 4418, 'graduation': 4419, 'surrogate': 4420, 'youarenot': 4421, 'cufflinks': 4422, 'pulse': 4423, 'saucy': 4424, 'electrical': 4425, 'nobodys': 4426, 'judging': 4427, 'mister': 4428, 'pinching': 4429, 'explanation': 4430, 'pinchable': 4431, 'bulging': 4432, 'bicepsshe': 4433, 'wrestle': 4434, 'manuver': 4435, 'hangs': 4436, 'poke': 4437, 'higher': 4438, 'angle': 4439, 'approaching': 4440, 'pervert': 4441, 'pat': 4442, 'sajak': 4443, 'alex': 4444, 'trebek': 4445, 'woolery': 4446, 'eyelash': 4447, 'curler': 4448, 'oohh': 4449, 'ohhhhhhhhhhh': 4450, 'thomas': 4451, 'gobb': 4452, 'assign': 4453, 'scaryass': 4454, 'tricks': 4455, 'convey': 4456, 'basic': 4457, 'fishhook': 4458, 'eyebrow': 4459, 'divide': 4460, 'dismissed': 4461, 'trib': 4462, 'eric': 4463, 'winter': 4464, 'azzz': 4465, 'bench': 4466, 'directly': 4467, 'assuming': 4468, 'nurturing': 4469, 'congratu': 4470, 'lationslations': 4471, 'philadelphia': 4472, 'gotive': 4473, 'layers': 4474, 'ifno': 4475, 'donti': 4476, 'freaky': 4477, 'licked': 4478, 'presumptuous': 4479, 'semifinals': 4480, 'lame': 4481, 'andoh': 4482, 'kyles': 4483, 'divert': 4484, 'listings': 4485, 'coma': 4486, 'ramorays': 4487, 'swallow': 4488, 'sonic': 4489, 'blaster': 4490, 'babysitting': 4491, 'zone': 4492, 'lodged': 4493, 'throat': 4494, 'naturally': 4495, 'gellers': 4496, 'porsch': 4497, 'stories': 4498, 'neighbor': 4499, 'chunk': 4500, 'newspaper': 4501, 'darlings': 4502, 'thewowww': 4503, 'beyond': 4504, 'lasted': 4505, 'hanukkah': 4506, 'easter': 4507, 'bunnys': 4508, 'funeral': 4509, 'werewerewere': 4510, 'lighting': 4511, 'strange': 4512, 'woohoo': 4513, 'japan': 4514, 'fictitious': 4515, 'agree': 4516, 'psychic': 4517, 'substantial': 4518, 'ridicule': 4519, 'fisher': 4520, 'howve': 4521, 'firm': 4522, 'represents': 4523, 'fooled': 4524, 'cancer': 4525, 'emphysema': 4526, 'noones': 4527, 'knight': 4528, 'bwahhahhah': 4529, 'definitive': 4530, 'mwwwooooohahhah': 4531, 'crowd': 4532, 'nevernever': 4533, 'dudui': 4534, 'seedarnit': 4535, 'shuffleboard': 4536, 'relatives': 4537, 'tolouse': 4538, 'toulouse': 4539, 'nestle': 4540, 'tollhouse': 4541, 'americans': 4542, 'butcher': 4543, 'language': 4544, 'grabbing': 4545, 'cupboard': 4546, 'appealing': 4547, 'getwhat': 4548, 'patches': 4549, 'cigs': 4550, 'contest': 4551, 'collect': 4552, 'flaw': 4553, 'constant': 4554, 'overpronouncing': 4555, 'snort': 4556, 'laughs': 4557, 'flaws': 4558, 'chews': 4559, 'endearing': 4560, 'speaking': 4561, 'correctly': 4562, 'indeed': 4563, 'ohhhohooohhh': 4564, 'gloves': 4565, 'torme': 4566, 'onon': 4567, 'yoohoo': 4568, 'litmanneurolic': 4569, 'keeper': 4570, 'admire': 4571, 'raising': 4572, 'meets': 4573, 'ithats': 4574, 'tim': 4575, 'disgustingtons': 4576, 'wheeled': 4577, 'juicy': 4578, 'crowning': 4579, 'example': 4580, 'normally': 4581, 'wouldwould': 4582, 'sweatpants': 4583, 'triplets': 4584, 'wasi': 4585, 'thrice': 4586, 'randy': 4587, 'explains': 4588, 'cardboard': 4589, 'cutout': 4590, 'evander': 4591, 'holyfield': 4592, 'ththey': 4593, 'irreplaceable': 4594, 'generations': 4595, 'letslets': 4596, 'objectively': 4597, 'yeahwait': 4598, 'slicesix': 4599, 'humidity': 4600, 'dense': 4601, 'poetry': 4602, 'transcribers': 4603, 'surgically': 4604, 'attached': 4605, 'nauh': 4606, 'windshield': 4607, 'mommies': 4608, 'juhi': 4609, 'eddie': 4610, 'moskowitz': 4611, 'reaffirms': 4612, 'faith': 4613, 'strain': 4614, 'straightener': 4615, 'unattended': 4616, 'isdo': 4617, 'drift': 4618, 'principals': 4619, 'catchers': 4620, 'mitt': 4621, 'bonding': 4622, 'yearold': 4623, 'belong': 4624, 'oranges': 4625, 'memorized': 4626, 'bumming': 4627, 'layer': 4628, 'crack': 4629, 'foundation': 4630, 'asbestos': 4631, 'ceiling': 4632, 'childhood': 4633, 'uncooked': 4634, 'batter': 4635, 'unreasonable': 4636, 'rescue': 4637, 'resume': 4638, 'implementing': 4639, 'colored': 4640, 'labels': 4641, 'folders': 4642, 'brighten': 4643, 'cabinets': 4644, 'mentor': 4645, 'cultivating': 4646, 'relationships': 4647, 'youknow': 4648, 'geographically': 4649, 'duude': 4650, 'awhile': 4651, 'withgirls': 4652, 'defense': 4653, 'genie': 4654, 'brunch': 4655, 'blablablabla': 4656, 'uhhmm': 4657, 'deciding': 4658, 'disrupts': 4659, 'wrecking': 4660, 'phial': 4661, 'pox': 4662, 'release': 4663, 'hallway': 4664, 'throws': 4665, 'annoy': 4666, 'flower': 4667, 'startin': 4668, 'faint': 4669, 'aboutthere': 4670, 'sonice': 4671, 'subscription': 4672, 'protective': 4673, 'yoursis': 4674, 'kettle': 4675, 'differ': 4676, 'oooooh': 4677, 'raquetball': 4678, 'grip': 4679, 'wellsounds': 4680, 'ciao': 4681, 'bela': 4682, 'uhhhh': 4683, 'jockstrap': 4684, 'blarrglarrghh': 4685, 'handbook': 4686, 'describe': 4687, 'itsitsits': 4688, 'naughty': 4689, 'taboo': 4690, 'december': 4691, 'photographer': 4692, 'jeffery': 4693, 'kings': 4694, 'heavy': 4695, 'metal': 4696, 'carcass': 4697, 'c': 4698, 'k': 4699, 'kleinmans': 4700, 'overpriced': 4701, 'schoolchildren': 4702, 'dangle': 4703, 'pressuring': 4704, 'testosteroney': 4705, 'francisco': 4706, 'interestingly': 4707, 'leaf': 4708, 'blower': 4709, 'spontaneous': 4710, 'phrase': 4711, 'indeedyo': 4712, 'shove': 4713, 'workingwhich': 4714, 'couldill': 4715, 'thinkwould': 4716, 'peoplell': 4717, 'guysll': 4718, 'scooching': 4719, 'riggs': 4720, 'willick': 4721, 'kristindoes': 4722, 'funnily': 4723, 'hop': 4724, 'patio': 4725, 'ladybugs': 4726, 'insects': 4727, 'suggest': 4728, 'dining': 4729, 'spraying': 4730, 'cologne': 4731, 'hottest': 4732, 'waved': 4733, 'myth': 4734, 'lenny': 4735, 'believes': 4736, 'implantation': 4737, 'thick': 4738, 'nowgo': 4739, 'prepare': 4740, 'embryossss': 4741, 'stairs': 4742, 'attach': 4743, 'costs': 4744, 'thatokay': 4745, 'codes': 4746, 'johnos': 4747, 'yum': 4748, 'efficient': 4749, 'condom': 4750, 'wallet': 4751, 'justtake': 4752, 'tanned': 4753, 'fluff': 4754, 'pillows': 4755, 'bills': 4756, 'helloooo': 4757, 'arrested': 4758, 'painterly': 4759, 'impasto': 4760, 'painted': 4761, 'outdoors': 4762, 'elusive': 4763, 'subject': 4764, 'monster': 4765, 'trucks': 4766, 'spelt': 4767, 'monay': 4768, 'impressed': 4769, 'frontal': 4770, 'temporal': 4771, 'zygomatic': 4772, 'craniotomy': 4773, 'renaissance': 4774, 'caravaggio': 4775, 'chiaroscuro': 4776, 'highlight': 4777, 'anguish': 4778, 'bumpy': 4779, 'adlibbing': 4780, 'thorough': 4781, 'glance': 4782, 'overall': 4783, 'attorney': 4784, 'yesyesyes': 4785, 'annulled': 4786, 'therapy': 4787, 'forms': 4788, 'witnesses': 4789, 'teachin': 4790, 'crosseyed': 4791, 'spends': 4792, 'leaves': 4793, 'mcdowells': 4794, 'rodney': 4795, 'nightmare': 4796, 'storming': 4797, 'manuscript': 4798, 'josephine': 4799, 'ninja': 4800, 'advantage': 4801, 'advance': 4802, 'twelfth': 4803, 'nineteenth': 4804, 'announces': 4805, 'crime': 4806, 'sidekick': 4807, 'lead': 4808, 'series': 4809, 'dreamed': 4810, 'preparing': 4811, 'technology': 4812, 'bactine': 4813, 'owner': 4814, 'during': 4815, 'trampled': 4816, 'sixhour': 4817, 'woods': 4818, 'relief': 4819, 'lifted': 4820, 'loss': 4821, 'rash': 4822, 'hives': 4823, 'shortness': 4824, 'euphoriaoh': 4825, 'steam': 4826, 'responsibility': 4827, 'yesss': 4828, 'shhh': 4829, 'runnin': 4830, 'prom': 4831, 'product': 4832, 'violation': 4833, 'grief': 4834, 'illegally': 4835, 'subletting': 4836, 'matters': 4837, 'handsome': 4838, 'repeating': 4839, 'comic': 4840, 'confront': 4841, 'iid': 4842, 'shall': 4843, 'intercourse': 4844, 'hike': 4845, 'toots': 4846, 'arrest': 4847, 'register': 4848, 'bbbut': 4849, 'worlds': 4850, 'hangover': 4851, 'brooklyn': 4852, 'heights': 4853, 'cleveland': 4854, 'ashley': 4855, 'evidently': 4856, 'waitin': 4857, 'lorraine': 4858, 'yellin': 4859, 'christmastime': 4860, 'donations': 4861, 'oni': 4862, 'spreading': 4863, 'spread': 4864, 'timer': 4865, 'brag': 4866, 'sore': 4867, 'dime': 4868, 'lint': 4869, 'canadian': 4870, 'coin': 4871, 'contribution': 4872, 'complaints': 4873, 'highprofile': 4874, 'hoops': 4875, 'trrrribbiani': 4876, 'shift': 4877, 'increase': 4878, 'areareare': 4879, 'rolling': 4880, 'referring': 4881, 'increasing': 4882, 'understaffed': 4883, 'appreciation': 4884, 'sanctity': 4885, 'defend': 4886, 'drain': 4887, 'ants': 4888, 'uff': 4889, 'thigh': 4890, 'theatre': 4891, 'multiplex': 4892, 'anytime': 4893, 'posters': 4894, 'ahhhhhhhhhh': 4895, 'taped': 4896, 'fellas': 4897, 'instinct': 4898, 'risked': 4899, 'ohoi': 4900, 'ohoiho': 4901, 'ohwhoahey': 4902, 'geeeeeez': 4903, 'carat': 4904, 'congress': 4905, 'debating': 4906, 'deficit': 4907, 'reduction': 4908, 'mayor': 4909, 'fares': 4910, 'teams': 4911, 'notnot': 4912, 'agamemnon': 4913, 'stares': 4914, 'knack': 4915, 'reacquainted': 4916, 'trump': 4917, 'expert': 4918, 'torture': 4919, 'captured': 4920, 'girlfriendwhich': 4921, 'shorten': 4922, 'muse': 4923, 'confusion': 4924, 'rare': 4925, 'bookstore': 4926, 'madison': 4927, 'architecture': 4928, 'patricks': 4929, 'cathedral': 4930, 'pastry': 4931, 'mood': 4932, 'thai': 4933, 'antiquities': 4934, 'wing': 4935, 'ancient': 4936, 'egypt': 4937, 'mesopotamia': 4938, 'byzantine': 4939, 'critics': 4940, 'monogamy': 4941, 'tookoff': 4942, 'carryon': 4943, 'quickquick': 4944, 'impact': 4945, 'justcant': 4946, 'iceskating': 4947, 'shin': 4948, 'estate': 4949, 'limb': 4950, 'isoh': 4951, 'modeling': 4952, 'clap': 4953, 'chorus': 4954, 'favored': 4955, 'unconsciously': 4956, 'marvel': 4957, 'grabgrab': 4958, 'sail': 4959, 'cheer': 4960, 'pony': 4961, 'count': 4962, 'funs': 4963, 'takeoff': 4964, 'dehydrated': 4965, 'japanese': 4966, 'noodles': 4967, 'fluorescent': 4968, 'codependent': 4969, 'selfdestructive': 4970, 'shelley': 4971, 'flush': 4972, 'bump': 4973, 'doi': 4974, 'whatwhatwhatwhat': 4975, 'ofsexy': 4976, 'ititthe': 4977, 'charisma': 4978, 'fail': 4979, 'midterm': 4980, 'youi': 4981, 'blushed': 4982, 'chanchan': 4983, 'iveive': 4984, 'toughest': 4985, 'gi': 4986, 'protects': 4987, 'interests': 4988, 'swimmers': 4989, 'down': 4990, 'sarahs': 4991, 'tallies': 4992, 'ohhhh': 4993, 'debbie': 4994, 'charla': 4995, 'platonic': 4996, 'goof': 4997, 'term': 4998, 'technical': 4999, 'definition': 5000, 'fangled': 5001, 'original': 5002, 'dan': 5003, 'owowow': 5004, 'neighborhood': 5005, 'serves': 5006, 'planet': 5007, 'yarns': 5008, 'weave': 5009, 'woohoohoo': 5010, 'notnonono': 5011, 'flick': 5012, 'jus': 5013, 'goyou': 5014, 'prison': 5015, 'bitches': 5016, 'buddyboy': 5017, 'hide': 5018, 'lunges': 5019, 'maintenance': 5020, 'flaky': 5021, 'leelo': 5022, 'cranky': 5023, 'cuz': 5024, 'kiddy': 5025, 'invasive': 5026, 'vaginal': 5027, 'exam': 5028, 'suckers': 5029, 'mugsy': 5030, 'watchhave': 5031, 'magical': 5032, 'regularly': 5033, 'scheduled': 5034, 'programming': 5035, 'wigging': 5036, 'luggage': 5037, 'canada': 5038, 'monnnnn': 5039, 'felicity': 5040, 'unsuccessful': 5041, 'sized': 5042, 'beeftips': 5043, 'brady': 5044, 'cole': 5045, 'slaw': 5046, 'buns': 5047, 'groundup': 5048, 'formerly': 5049, 'cows': 5050, 'turkeys': 5051, 'senior': 5052, 'whoooaa': 5053, 'milwaukee': 5054, 'disneyland': 5055, 'mechanical': 5056, 'dutch': 5057, 'fixed': 5058, 'kingdom': 5059, 'patience': 5060, 'yore': 5061, 'yesteryear': 5062, 'redecorateand': 5063, 'cheap': 5064, 'knockoffs': 5065, 'junk': 5066, 'heresheres': 5067, 'colonial': 5068, 'theokay': 5069, 'portion': 5070, 'rick': 5071, 'injure': 5072, 'sitin': 5073, 'greenpeace': 5074, 'j': 5075, 'crew': 5076, 'shoppin': 5077, 'imimim': 5078, 'screaming': 5079, 'baack': 5080, 'mets': 5081, 'bat': 5082, 'shea': 5083, 'stadium': 5084, 'supergay': 5085, 'await': 5086, 'mri': 5087, 'scans': 5088, 'dna': 5089, 'gathered': 5090, 'simple': 5091, 'carbon': 5092, 'leathery': 5093, 'wrinkled': 5094, 'massaging': 5095, 'stimulate': 5096, 'flow': 5097, 'frustrating': 5098, 'beforeba': 5099, 'lovable': 5100, 'continue': 5101, 'hooh': 5102, 'glare': 5103, 'streetlight': 5104, 'breadstick': 5105, 'fangs': 5106, 'advanced': 5107, 'pauls': 5108, 'caf': 5109, 'afterwards': 5110, 'sixteen': 5111, 'pound': 5112, 'childbirth': 5113, 'csections': 5114, 'stretching': 5115, 'costars': 5116, 'lips': 5117, 'involve': 5118, 'projectile': 5119, 'vomiting': 5120, 'vail': 5121, 'guysd': 5122, 'syphilis': 5123, 'thankful': 5124, 'thanksgivings': 5125, 'sucked': 5126, 'lousy': 5127, 'crappy': 5128, 'bugger': 5129, 'italyplease': 5130, 'strapping': 5131, 'jaw': 5132, 'blues': 5133, 'colour': 5134, 'memo': 5135, 'crash': 5136, 'embassy': 5137, 'parties': 5138, 'phobia': 5139, 'needles': 5140, 'orally': 5141, 'circumstances': 5142, 'injection': 5143, 'tho': 5144, 'sting': 5145, 'welllets': 5146, 'balcony': 5147, 'upi': 5148, 'checkbook': 5149, 'loyal': 5150, 'clogging': 5151, 'unclogging': 5152, 'didnti': 5153, 'coveralls': 5154, 'whoawhoops': 5155, 'amanda': 5156, 'salami': 5157, 'unhook': 5158, 'bouquet': 5159, 'moonlit': 5160, 'rue': 5161, 'de': 5162, 'sprinkle': 5163, 'rose': 5164, 'pedals': 5165, 'whoohohoo': 5166, 'loooot': 5167, 'electricity': 5168, 'whoohoho': 5169, 'goal': 5170, 'gar': 5171, 'hammered': 5172, 'shooting': 5173, 'fork': 5174, 'luckiest': 5175, 'luckier': 5176, 'wires': 5177, 'wire': 5178, 'disappears': 5179, 'baseboard': 5180, 'darling': 5181, 'upand': 5182, 'teamwork': 5183, 'carl': 5184, 'ohmy': 5185, 'gawd': 5186, 'pooper': 5187, 'within': 5188, 'coyotes': 5189, 'members': 5190, 'herd': 5191, 'beef': 5192, 'slimmer': 5193, 'visited': 5194, 'nancy': 5195, 'thompson': 5196, 'blowing': 5197, 'budget': 5198, 'sleepy': 5199, 'sleeperson': 5200, 'remembering': 5201, 'nicknames': 5202, 'brownshirt': 5203, 'cutie': 5204, 'mcpretty': 5205, 'student': 5206, 'burt': 5207, 'rejections': 5208, 'believable': 5209, 'offbroadway': 5210, 'yummy': 5211, 'kissin': 5212, 'obsessed': 5213, 'restraining': 5214, 'orrr': 5215, 'seesaw': 5216, 'fabutec': 5217, 'infomercial': 5218, 'neverever': 5219, 'mop': 5220, 'waxing': 5221, 'organic': 5222, 'substances': 5223, 'depths': 5224, 'scuse': 5225, 'sucking': 5226, 'corporate': 5227, 'varrrrrroom': 5228, 'varrrrrrrrrrom': 5229, 'varrrrrrrrroom': 5230, 'beds': 5231, 'upstate': 5232, 'cars': 5233, 'mercy': 5234, 'burring': 5235, 'picturesare': 5236, 'rides': 5237, 'barn': 5238, 'bend': 5239, 'outdoorsy': 5240, 'handy': 5241, 'winross': 5242, 'jinx': 5243, 'meal': 5244, 'youreyou': 5245, 'seller': 5246, 'suitcases': 5247, 'surejust': 5248, 'raisin': 5249, 'proves': 5250, 'harm': 5251, 'starlight': 5252, 'ratchet': 5253, 'suicide': 5254, 'blueberry': 5255, 'muffin': 5256, 'carlos': 5257, 'luger': 5258, 't': 5259, 'his': 5260, 'cash': 5261, 'yearly': 5262, 'trips': 5263, 'rec': 5264, 'rustic': 5265, 'custommade': 5266, 'empirewaisted': 5267, 'duchess': 5268, 'gown': 5269, 'rack': 5270, 'phillips': 5271, 'unnatural': 5272, 'thesethese': 5273, 'separate': 5274, 'underneath': 5275, 'squat': 5276, 'ted': 5277, 'scares': 5278, 'teddy': 5279, 'andrew': 5280, 'pear': 5281, 'goodgood': 5282, 'martini': 5283, 'chuckles': 5284, 'aboard': 5285, 'ohhhhhhhh': 5286, 'steered': 5287, 'noticing': 5288, 'commercials': 5289, 'smacks': 5290, 'vacuum': 5291, 'polish': 5292, 'tip': 5293, 'stoop': 5294, 'bridge': 5295, 'liar': 5296, 'butthe': 5297, 'police': 5298, 'suspects': 5299, 'load': 5300, 'nor': 5301, 'goodohh': 5302, 'blurtin': 5303, 'curtain': 5304, 'hazard': 5305, 'safety': 5306, 'rub': 5307, 'gibson': 5308, 'clint': 5309, 'eastwood': 5310, 'ohokay': 5311, 'offstage': 5312, 'tension': 5313, 'onstage': 5314, 'chemistry': 5315, 'errerr': 5316, 'benefit': 5317, 'erotic': 5318, 'wildly': 5319, 'unpopular': 5320, 'fuzzy': 5321, 'mints': 5322, 'gross': 5323, 'n': 5324, 'pets': 5325, 'occasionally': 5326, 'pose': 5327, 'tail': 5328, 'frisbee': 5329, 'ronnis': 5330, 'tuxedos': 5331, 'preapproved': 5332, 'hookin': 5333, 'attend': 5334, 'limited': 5335, 'seating': 5336, 'gellar': 5337, 'relative': 5338, 'fewer': 5339, 'bricks': 5340, 'musicians': 5341, 'bone': 5342, 'practical': 5343, 'monroe': 5344, 'becoming': 5345, 'confidant': 5346, 'complain': 5347, 'musical': 5348, 'visits': 5349, 'meanwhile': 5350, 'understands': 5351, 'whwhoa': 5352, 'hhiii': 5353, 'wise': 5354, 'rightoh': 5355, 'geeks': 5356, 'anthropologists': 5357, 'dudes': 5358, 'sixpack': 5359, 'dontmaybe': 5360, 'hulk': 5361, 'mentioned': 5362, 'forty': 5363, 'independent': 5364, 'chubby': 5365, 'puzzles': 5366, 'pbs': 5367, 'supporting': 5368, 'controversial': 5369, 'wallets': 5370, 'highspeed': 5371, 'garden': 5372, 'diddiddid': 5373, 'gentleman': 5374, 'reacted': 5375, 'lunchby': 5376, 'whys': 5377, 'bummer': 5378, 'craziest': 5379, 'upsetfor': 5380, 'endless': 5381, 'unfulfilling': 5382, 'exclusive': 5383, 'granted': 5384, 'settle': 5385, 'lane': 5386, 'cartoons': 5387, 'again': 5388, 'knife': 5389, 'slays': 5390, 'attacking': 5391, 'attacked': 5392, 'stopping': 5393, 'finishing': 5394, 'inflict': 5395, 'closely': 5396, 'devon': 5397, 'swift': 5398, 'bloke': 5399, 'knees': 5400, 'brolin': 5401, 'russell': 5402, 'assume': 5403, 'againnooooooo': 5404, 'youngest': 5405, 'vicepresident': 5406, 'reconfiguration': 5407, 'statistical': 5408, 'factoring': 5409, 'companies': 5410, 'cooked': 5411, 'reviewer': 5412, 'admits': 5413, 'spit': 5414, 'cocky': 5415, 'shining': 5416, 'leak': 5417, 'luckily': 5418, 'settled': 5419, 'butyknow': 5420, 'destined': 5421, 'soul': 5422, 'mate': 5423, 'misses': 5424, 'ohno': 5425, 'sight': 5426, 'delicacy': 5427, 'moments': 5428, 'hubbabubba': 5429, 'enemas': 5430, 'mattress': 5431, 'showroom': 5432, 'exhusband': 5433, 'bambi': 5434, 'maaaaadd': 5435, 'wasthe': 5436, 'thatyou': 5437, 'dances': 5438, 'super': 5439, 'electrician': 5440, 'shocks': 5441, 'responsible': 5442, 'folks': 5443, 'euphoria': 5444, 'unbound': 5445, 'nora': 5446, 'tyler': 5447, 'passing': 5448, 'mistress': 5449, 'cider': 5450, 'cinamon': 5451, 'eraser': 5452, 'until': 5453, 'nypd': 5454, 'busted': 5455, 'slammer': 5456, 'comei': 5457, 'believei': 5458, 'natures': 5459, 'spectacular': 5460, 'phenomenon': 5461, 'rightright': 5462, 'pipe': 5463, 'righthey': 5464, 'bapstein': 5465, 'respected': 5466, 'astronomer': 5467, 'stings': 5468, 'penthat': 5469, 'passageway': 5470, 'trudie': 5471, 'mum': 5472, 'won': 5473, 'positions': 5474, 'hassidic': 5475, 'jewellers': 5476, 'softball': 5477, 'innate': 5478, 'alanness': 5479, 'adore': 5480, 'personally': 5481, 'gallon': 5482, 'beginners': 5483, 'basics': 5484, 'upstage': 5485, 'downstage': 5486, 'snuggle': 5487, 'volcano': 5488, 'driving': 5489, 'bowl': 5490, 'crank': 5491, 'intrigued': 5492, 'fluid': 5493, 'darts': 5494, 'spackle': 5495, 'tiki': 5496, 'weeeell': 5497, 'rum': 5498, 'zero': 5499, 'frightening': 5500, 'tryin': 5501, 'aboutabout': 5502, 'suggested': 5503, 'meanim': 5504, 'wherewhere': 5505, 'somewherefun': 5506, 'meanno': 5507, 'mozzarella': 5508, 'jalepino': 5509, 'poppers': 5510, 'barney': 5511, 'courthouse': 5512, 'markson': 5513, 'factyes': 5514, 'brains': 5515, 'smeared': 5516, 'shesheshe': 5517, 'youyeah': 5518, 'manhattan': 5519, 'stores': 5520, 'schmoon': 5521, 'transferring': 5522, 'rome': 5523, 'vienna': 5524, 'oohooh': 5525, 'transferred': 5526, 'attract': 5527, 'stinkers': 5528, 'tedlock': 5529, 'kostelick': 5530, 'prank': 5531, 'memos': 5532, 'sweets': 5533, 'surprisingly': 5534, 'strict': 5535, 'godeh': 5536, 'classics': 5537, 'marshmellows': 5538, 'concentric': 5539, 'feature': 5540, 'mcclane': 5541, 'botched': 5542, 'operation': 5543, 'murder': 5544, 'punctuated': 5545, 'equilibrium': 5546, 'devonian': 5547, 'hooking': 5548, 'smarter': 5549, 'cracks': 5550, 'wink': 5551, 'apron': 5552, 'aprons': 5553, 'screening': 5554, 'cancellation': 5555, 'binggeller': 5556, 'facility': 5557, 'groomno': 5558, 'minor': 5559, 'setback': 5560, 'argument': 5561, 'dice': 5562, 'irachel': 5563, 'deserves': 5564, 'informed': 5565, 'ohhdo': 5566, 'hydrosaurids': 5567, 'unearthed': 5568, 'main': 5569, 'locations': 5570, 'hydrosaurs': 5571, 'beth': 5572, 'loreo': 5573, 'welldid': 5574, 'unfortunate': 5575, 'levels': 5576, 'adios': 5577, 'beaudalire': 5578, 'translations': 5579, 'ferry': 5580, 'nova': 5581, 'scotia': 5582, 'thesell': 5583, 'orange': 5584, 'demeaning': 5585, 'remotely': 5586, 'yentel': 5587, 'dowdy': 5588, 'dues': 5589, 'mira': 5590, 'arthritic': 5591, 'seamstress': 5592, 'misery': 5593, 'amusing': 5594, 'iiive': 5595, 'mannequin': 5596, 'mannequins': 5597, 'pickle': 5598, 'yesterdays': 5599, 'potential': 5600, 'hearts': 5601, 'plunge': 5602, 'pit': 5603, 'depression': 5604, 'momma': 5605, 'alessandros': 5606, 'spoon': 5607, 'torn': 5608, 'desire': 5609, 'abysmal': 5610, 'thata': 5611, 'introduction': 5612, 'hollandaise': 5613, 'yolk': 5614, 'shallots': 5615, 'shirvel': 5616, 'tarragon': 5617, 'argentinaaaa': 5618, 'seeeeen': 5619, 'fifty': 5620, 'pesos': 5621, 'humaaan': 5622, 'spleeeeen': 5623, 'ol': 5624, 'entertain': 5625, 'requesting': 5626, 'bored': 5627, 'pharmaceutical': 5628, 'pharmacists': 5629, 'medeio': 5630, 'eva': 5631, 'trorro': 5632, 'womba': 5633, 'bebecause': 5634, 'fringe': 5635, 'sides': 5636, 'goodnight': 5637, 'readers': 5638, 'ohohohoh': 5639, 'mikey': 5640, 'p': 5641, 'rat': 5642, 'capture': 5643, 'possom': 5644, 'wisecracking': 5645, 'owl': 5646, 'bobs': 5647, 'suzie': 5648, 'rejection': 5649, 'waited': 5650, 'puts': 5651, 'dodo': 5652, 'bath': 5653, 'loong': 5654, 'cracking': 5655, 'carried': 5656, 'breadsticks': 5657, 'marinara': 5658, 'vodka': 5659, 'celery': 5660, 'lebanon': 5661, 'nasty': 5662, 'hanks': 5663, 'meg': 5664, 'ryan': 5665, 'bullets': 5666, 'guns': 5667, 'slower': 5668, 'clinton': 5669, 'moss': 5670, 'program': 5671, 'offensive': 5672, 'thatoh': 5673, 'bleeding': 5674, 'youwhat': 5675, 'crotch': 5676, 'ummohwhos': 5677, 'soccer': 5678, 'player': 5679, 'whoaheyoh': 5680, 'heyheyheyhoho': 5681, 'youhow': 5682, 'thathot': 5683, 'pinned': 5684, 'tickled': 5685, 'freckles': 5686, 'muscle': 5687, 'plinkyplunky': 5688, 'richards': 5689, 'meadow': 5690, 'breeze': 5691, 'moonlight': 5692, 'flowing': 5693, 'trees': 5694, 'wagering': 5695, 'permitted': 5696, 'waterfalls': 5697, 'trickling': 5698, 'fountains': 5699, 'calming': 5700, 'babbling': 5701, 'brook': 5702, 'awake': 5703, 'somethin': 5704, 'fyi': 5705, 'afternoons': 5706, 'stephanie': 5707, 'swirl': 5708, 'exit': 5709, 'awwww': 5710, 'competitor': 5711, 'hells': 5712, 'at': 5713, 'queens': 5714, 'traveled': 5715, 'southern': 5716, 'protest': 5717, 'wisconsin': 5718, 'solved': 5719, 'grocery': 5720, 'oroh': 5721, 'linda': 5722, 'camp': 5723, 'doing': 5724, 'tradition': 5725, 'abandoned': 5726, 'couples': 5727, 'braverman': 5728, 'protecting': 5729, 'kicky': 5730, 'pancakes': 5731, 'standup': 5732, 'distance': 5733, 'fathers': 5734, 'pipefitting': 5735, 'cave': 5736, 'outofwork': 5737, 'courage': 5738, 'fettuccini': 5739, 'alfredo': 5740, 'precooking': 5741, 'bubbles': 5742, 'perceptive': 5743, 'freaks': 5744, 'sending': 5745, 'cruise': 5746, 'razor': 5747, 'stitches': 5748, 'realises': 5749, 'teenytiny': 5750, 'comprehends': 5751, 'thousands': 5752, 'miles': 5753, 'disappointed': 5754, 'halfdecent': 5755, 'booked': 5756, 'postponing': 5757, 'option': 5758, 'backwards': 5759, 'refer': 5760, 'bobo': 5761, 'sullies': 5762, 'leon': 5763, 'purchasing': 5764, 'kidney': 5765, 'gotcha': 5766, 'vcr': 5767, 'bleaker': 5768, 'mama': 5769, 'lisetties': 5770, 'enh': 5771, 'thatthis': 5772, 'b': 5773, 'code': 5774, 'requires': 5775, 'material': 5776, 'convenience': 5777, 'warning': 5778, 'bust': 5779, 'vendor': 5780, 'picks': 5781, 'towels': 5782, 'loaned': 5783, 'nineteen': 5784, 'uss': 5785, 'nimitz': 5786, 'interviews': 5787, 'napkin': 5788, 'greeting': 5789, 'halfcharred': 5790, 'picturewow': 5791, 'hairier': 5792, 'chief': 5793, 'bonfire': 5794, 'busiest': 5795, 'pl': 5796, 'fatfree': 5797, 'gstephanopoulos': 5798, 'mediterranean': 5799, 'curiously': 5800, 'intelligent': 5801, 'stephanopoulos': 5802, 'snuffalopagus': 5803, 'spying': 5804, 'rainy': 5805, 'allll': 5806, 'boredddd': 5807, 'choices': 5808, 'printed': 5809, 'winona': 5810, 'ryder': 5811, 'michelle': 5812, 'pfieffer': 5813, 'dorothy': 5814, 'hammel': 5815, 'spins': 5816, 'fonzie': 5817, 'resident': 5818, 'specified': 5819, 'needing': 5820, 'qualified': 5821, 'doogie': 5822, 'askin': 5823, 'dontyou': 5824, 'officerpretty': 5825, 'petty': 5826, 'margaritas': 5827, 'weekly': 5828, 'gerston': 5829, 'santos': 5830, 'pleased': 5831, 'pickles': 5832, 'tampons': 5833, 'penny': 5834, 'stock': 5835, 'tow': 5836, 'innocent': 5837, 'victim': 5838, 'punish': 5839, 'bound': 5840, 'rights': 5841, 'minks': 5842, 'sits': 5843, 'straighten': 5844, 'via': 5845, 'illillillill': 5846, 'burritos': 5847, 'reservation': 5848, 'ohkay': 5849, 'burrito': 5850, 'shakin': 5851, 'omally': 5852, 'quicker': 5853, 'required': 5854, 'evaluate': 5855, 'gel': 5856, 'cowlicky': 5857, 'sweepin': 5858, 'chimney': 5859, 'vicar': 5860, 'zelda': 5861, 'littleerotica': 5862, 'sexuality': 5863, 'shortbread': 5864, 'scotland': 5865, 'byvikings': 5866, 'rediscover': 5867, 'roots': 5868, 'halfswedish': 5869, 'bagpipes': 5870, 'personalities': 5871, 'pillow': 5872, 'g': 5873, 'string': 5874, 'doggy': 5875, 'kitten': 5876, 'butbyebye': 5877, 'janines': 5878, 'dancers': 5879, 'alot': 5880, 'whippin': 5881, 'opinion': 5882, 'foxy': 5883, 'sexless': 5884, 'misunderstand': 5885, 'flexed': 5886, 'concert': 5887, 'allan': 5888, 'planner': 5889, 'theta': 5890, 'beta': 5891, 'pi': 5892, 'syracuse': 5893, 'repeat': 5894, 'closets': 5895, 'heredo': 5896, 'blacken': 5897, 'edge': 5898, 'forehead': 5899, 'pencil': 5900, 'iiiim': 5901, 'anybodys': 5902, 'hoshi': 5903, 'ringside': 5904, 'affected': 5905, 'concentration': 5906, 'zana': 5907, 'spindler': 5908, 'devane': 5909, 'kelly': 5910, 'goldie': 5911, 'steve': 5912, 'zuchoff': 5913, 'mcgwire': 5914, 'jt': 5915, 'breadsly': 5916, 'dorfman': 5917, 'wedgie': 5918, 'architect': 5919, 'grabbed': 5920, 'fiction': 5921, 'writers': 5922, 'stanley': 5923, 'leading': 5924, 'invest': 5925, 'nostril': 5926, 'sneezed': 5927, 'bats': 5928, 'flew': 5929, 'leaned': 5930, 'perfectly': 5931, 'superficial': 5932, 'insignificant': 5933, 'apples': 5934}\n"
          ],
          "name": "stdout"
        }
      ]
    },
    {
      "cell_type": "code",
      "metadata": {
        "id": "ddYYM6qP8KD-",
        "colab_type": "code",
        "colab": {
          "base_uri": "https://localhost:8080/",
          "height": 35
        },
        "outputId": "c8d81c05-3d47-4dde-8ffa-385ff732e878"
      },
      "source": [
        "total_cnt = len(tokenizer.word_index)\n",
        "vocab_size = total_cnt + 1\n",
        "print('단어 집합의 크기 :',vocab_size)"
      ],
      "execution_count": null,
      "outputs": [
        {
          "output_type": "stream",
          "text": [
            "단어 집합의 크기 : 5935\n"
          ],
          "name": "stdout"
        }
      ]
    },
    {
      "cell_type": "code",
      "metadata": {
        "id": "dgmCtnBq0rqY",
        "colab_type": "code",
        "colab": {}
      },
      "source": [
        "X_train = tokenizer.texts_to_sequences(X_train)\n",
        "X_test = tokenizer.texts_to_sequences(X_test)"
      ],
      "execution_count": null,
      "outputs": []
    },
    {
      "cell_type": "code",
      "metadata": {
        "id": "25q4hPJyPjeG",
        "colab_type": "code",
        "colab": {}
      },
      "source": [
        "tokenizer = Tokenizer(vocab_size) "
      ],
      "execution_count": null,
      "outputs": []
    },
    {
      "cell_type": "code",
      "metadata": {
        "id": "zmqrbIPcxeYA",
        "colab_type": "code",
        "colab": {}
      },
      "source": [
        "y_train = np_utils.to_categorical(result['emotion_num'])\n",
        "num_classes = y_train.shape[1]"
      ],
      "execution_count": null,
      "outputs": []
    },
    {
      "cell_type": "markdown",
      "metadata": {
        "id": "XqV3f6puxB-A",
        "colab_type": "text"
      },
      "source": [
        "(4) 패딩"
      ]
    },
    {
      "cell_type": "code",
      "metadata": {
        "id": "--MvtPYrxDzY",
        "colab_type": "code",
        "colab": {
          "base_uri": "https://localhost:8080/",
          "height": 315
        },
        "outputId": "997f56b1-d3ac-4675-c428-f23b164f7f97"
      },
      "source": [
        "print('문장의 최대 길이 :',max(len(l) for l in X_train))\n",
        "print('문장의 평균 길이 :',sum(map(len, X_train))/len(X_train))\n",
        "plt.hist([len(s) for s in X_train], bins=50)\n",
        "plt.xlabel('length of samples')\n",
        "plt.ylabel('number of samples')\n",
        "plt.show()"
      ],
      "execution_count": null,
      "outputs": [
        {
          "output_type": "stream",
          "text": [
            "문장의 최대 길이 : 39\n",
            "문장의 평균 길이 : 5.398019588849424\n"
          ],
          "name": "stdout"
        },
        {
          "output_type": "display_data",
          "data": {
            "image/png": "[encoded data removed]",
            "text/plain": [
              "<Figure size 432x288 with 1 Axes>"
            ]
          },
          "metadata": {
            "tags": [],
            "needs_background": "light"
          }
        }
      ]
    },
    {
      "cell_type": "code",
      "metadata": {
        "id": "TBnNXouIiNPk",
        "colab_type": "code",
        "colab": {
          "base_uri": "https://localhost:8080/",
          "height": 35
        },
        "outputId": "6d35d6cf-c777-4be7-ea25-441cbc80409e"
      },
      "source": [
        "def below_threshold_len(max_len, nested_list):\n",
        "  cnt = 0\n",
        "  for s in nested_list:\n",
        "    if(len(s) <= max_len):\n",
        "        cnt = cnt + 1\n",
        "  print('전체 샘플 중 길이가 %s 이하인 샘플의 비율: %s'%(max_len, (cnt / len(nested_list))*100))\n",
        "\n",
        "max_len = 24\n",
        "below_threshold_len(max_len, X_train)"
      ],
      "execution_count": null,
      "outputs": [
        {
          "output_type": "stream",
          "text": [
            "전체 샘플 중 길이가 24 이하인 샘플의 비율: 99.96771068776235\n"
          ],
          "name": "stdout"
        }
      ]
    },
    {
      "cell_type": "code",
      "metadata": {
        "id": "vYDXC_PA0-JP",
        "colab_type": "code",
        "colab": {}
      },
      "source": [
        "X_train = pad_sequences(X_train, maxlen=max_len)\n",
        "X_test = pad_sequences(X_test, maxlen=max_len)"
      ],
      "execution_count": null,
      "outputs": []
    },
    {
      "cell_type": "markdown",
      "metadata": {
        "id": "DJ8joDjc_bYq",
        "colab_type": "text"
      },
      "source": [
        "# 모델 설계 및 실행"
      ]
    },
    {
      "cell_type": "code",
      "metadata": {
        "id": "4ocdcA1f10nY",
        "colab_type": "code",
        "colab": {}
      },
      "source": [
        "from tensorflow.keras.layers import Embedding, Dense, LSTM\n",
        "from tensorflow.keras.models import Sequential\n",
        "from tensorflow.keras.models import load_model\n",
        "from tensorflow.keras.callbacks import EarlyStopping, ModelCheckpoint"
      ],
      "execution_count": null,
      "outputs": []
    },
    {
      "cell_type": "code",
      "metadata": {
        "id": "IM-AzQXE11-1",
        "colab_type": "code",
        "colab": {}
      },
      "source": [
        "model = Sequential()\n",
        "model.add(Embedding(vocab_size, 100))\n",
        "model.add(LSTM(128))\n",
        "model.add(Dense(num_classes, activation='softmax'))"
      ],
      "execution_count": null,
      "outputs": []
    },
    {
      "cell_type": "code",
      "metadata": {
        "id": "rIVpvBQ7W8tx",
        "colab_type": "code",
        "colab": {}
      },
      "source": [
        "earlystop = EarlyStopping(monitor='val_loss', mode='min', verbose=1, patience=4)\n",
        "ckpt = ModelCheckpoint('best_model.h5', monitor='val_acc', mode='max', verbose=1, save_best_only=True)"
      ],
      "execution_count": null,
      "outputs": []
    },
    {
      "cell_type": "code",
      "metadata": {
        "id": "Gj9bvSqmXAjN",
        "colab_type": "code",
        "colab": {
          "base_uri": "https://localhost:8080/",
          "height": 467
        },
        "outputId": "1d7d5ec8-6a66-4328-8764-31ff0cb9bfe8"
      },
      "source": [
        "model.compile(optimizer='rmsprop', loss='categorical_crossentropy', metrics=['acc'])\n",
        "history = model.fit(X_train, y_train, epochs=15, callbacks=[earlystop, ckpt], batch_size=128, validation_split=0.2)"
      ],
      "execution_count": null,
      "outputs": [
        {
          "output_type": "stream",
          "text": [
            "Epoch 1/15\n",
            "58/59 [============================>.] - ETA: 0s - loss: 1.6541 - acc: 0.4386\n",
            "Epoch 00001: val_acc improved from -inf to 0.44325, saving model to best_model.h5\n",
            "59/59 [==============================] - 6s 105ms/step - loss: 1.6540 - acc: 0.4385 - val_loss: 1.6091 - val_acc: 0.4432\n",
            "Epoch 2/15\n",
            "58/59 [============================>.] - ETA: 0s - loss: 1.5599 - acc: 0.4500\n",
            "Epoch 00002: val_acc improved from 0.44325 to 0.45078, saving model to best_model.h5\n",
            "59/59 [==============================] - 6s 95ms/step - loss: 1.5596 - acc: 0.4502 - val_loss: 1.6029 - val_acc: 0.4508\n",
            "Epoch 3/15\n",
            "58/59 [============================>.] - ETA: 0s - loss: 1.4401 - acc: 0.4969\n",
            "Epoch 00003: val_acc did not improve from 0.45078\n",
            "59/59 [==============================] - 6s 95ms/step - loss: 1.4394 - acc: 0.4972 - val_loss: 1.6622 - val_acc: 0.4088\n",
            "Epoch 4/15\n",
            "58/59 [============================>.] - ETA: 0s - loss: 1.3263 - acc: 0.5365\n",
            "Epoch 00004: val_acc improved from 0.45078 to 0.46530, saving model to best_model.h5\n",
            "59/59 [==============================] - 6s 96ms/step - loss: 1.3256 - acc: 0.5367 - val_loss: 1.7833 - val_acc: 0.4653\n",
            "Epoch 5/15\n",
            "58/59 [============================>.] - ETA: 0s - loss: 1.2275 - acc: 0.5761\n",
            "Epoch 00005: val_acc did not improve from 0.46530\n",
            "59/59 [==============================] - 6s 94ms/step - loss: 1.2269 - acc: 0.5764 - val_loss: 2.3127 - val_acc: 0.2727\n",
            "Epoch 6/15\n",
            "58/59 [============================>.] - ETA: 0s - loss: 1.1456 - acc: 0.6006\n",
            "Epoch 00006: val_acc did not improve from 0.46530\n",
            "59/59 [==============================] - 6s 95ms/step - loss: 1.1451 - acc: 0.6008 - val_loss: 1.9915 - val_acc: 0.3244\n",
            "Epoch 00006: early stopping\n"
          ],
          "name": "stdout"
        }
      ]
    },
    {
      "cell_type": "markdown",
      "metadata": {
        "id": "SIyFseuGcHDb",
        "colab_type": "text"
      },
      "source": [
        "모델을 통해 test 데이터에 대한 결과 예측 및 csv 변환"
      ]
    },
    {
      "cell_type": "code",
      "metadata": {
        "id": "e4P67smaZ8f_",
        "colab_type": "code",
        "colab": {
          "base_uri": "https://localhost:8080/",
          "height": 91
        },
        "outputId": "0e1aca27-7b61-4b3f-b316-a5bb87790cb3"
      },
      "source": [
        "loaded_model = load_model('best_model.h5')\n",
        "prediction = loaded_model.predict_classes(X_test, verbose=0)\n",
        "\n",
        "prediction = prediction.flatten().tolist()\n",
        "\n",
        "prediction_emotion = []\n",
        "for num in prediction:\n",
        "  if num == 0:\n",
        "    prediction_emotion.append('non-neutral')\n",
        "  elif num == 1:\n",
        "    prediction_emotion.append('neutral')\n",
        "  elif num == 2:\n",
        "    prediction_emotion.append('joy')\n",
        "  elif num == 3:\n",
        "    prediction_emotion.append('sadness')\n",
        "  elif num == 4:\n",
        "    prediction_emotion.append('fear')\n",
        "  elif num == 5:\n",
        "    prediction_emotion.append('anger')\n",
        "  elif num == 6:\n",
        "    prediction_emotion.append('surprise')\n",
        "  elif num == 7:\n",
        "    prediction_emotion.append('disgust')\n",
        "\n",
        "id = list(range(len(prediction_emotion)))\n",
        "\n",
        "dic = {'Id': id,\n",
        "       'Predicted': prediction_emotion}\n",
        "\n",
        "df = pd.DataFrame(dic)\n",
        "df.to_csv('sample.csv', sep=',', index = False)"
      ],
      "execution_count": null,
      "outputs": [
        {
          "output_type": "stream",
          "text": [
            "WARNING:tensorflow:From <ipython-input-25-1e372f3e72cc>:2: Sequential.predict_classes (from tensorflow.python.keras.engine.sequential) is deprecated and will be removed after 2021-01-01.\n",
            "Instructions for updating:\n",
            "Please use instead:* `np.argmax(model.predict(x), axis=-1)`,   if your model does multi-class classification   (e.g. if it uses a `softmax` last-layer activation).* `(model.predict(x) > 0.5).astype(\"int32\")`,   if your model does binary classification   (e.g. if it uses a `sigmoid` last-layer activation).\n"
          ],
          "name": "stdout"
        }
      ]
    }
  ]
}