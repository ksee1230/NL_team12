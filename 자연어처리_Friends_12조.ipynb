{
  "nbformat": 4,
  "nbformat_minor": 0,
  "metadata": {
    "colab": {
      "name": "자연어처리_Friends_12조.ipynb",
      "provenance": [],
      "collapsed_sections": [],
      "include_colab_link": true
    },
    "kernelspec": {
      "name": "python3",
      "display_name": "Python 3"
    }
  },
  "cells": [
    {
      "cell_type": "markdown",
      "metadata": {
        "id": "view-in-github",
        "colab_type": "text"
      },
      "source": [
        "<a href=\"https://colab.research.google.com/github/ksee1230/NL_team12/blob/master/%EC%9E%90%EC%97%B0%EC%96%B4%EC%B2%98%EB%A6%AC_Friends_12%EC%A1%B0.ipynb\" target=\"_parent\"><img src=\"https://colab.research.google.com/assets/colab-badge.svg\" alt=\"Open In Colab\"/></a>"
      ]
    },
    {
      "cell_type": "markdown",
      "metadata": {
        "id": "zRqoTqvna92q",
        "colab_type": "text"
      },
      "source": [
        "모듈 import, 데이터 로드 및 one-hot encoding을 위한 전처리"
      ]
    },
    {
      "cell_type": "code",
      "metadata": {
        "id": "O2oXjpTSyPB5",
        "colab_type": "code",
        "colab": {
          "base_uri": "https://localhost:8080/",
          "height": 125
        },
        "outputId": "3d6591cf-f045-492b-f233-2bf0c604e8ab"
      },
      "source": [
        "import pandas as pd\n",
        "import json\n",
        "import urllib.request\n",
        "from tensorflow.keras.preprocessing.text import Tokenizer\n",
        "import matplotlib.pyplot as plt\n",
        "import re\n",
        "from tensorflow.keras.preprocessing.sequence import pad_sequences\n",
        "import numpy as np\n",
        "import nltk\n",
        "from keras.utils import np_utils\n",
        "from nltk.corpus import stopwords\n",
        "from nltk.tokenize import word_tokenize\n",
        "\n",
        "nltk.download('stopwords')\n",
        "nltk.download('punkt')\n",
        "\n",
        "urllib.request.urlretrieve(\"https://raw.githubusercontent.com/ksee1230/NL_team12/master/friends_train.json\", filename=\"friends_train.json\")\n",
        "urllib.request.urlretrieve(\"https://raw.githubusercontent.com/ksee1230/NL_team12/master/en_data.csv\", filename=\"friends_test.csv\")\n",
        "\n",
        "test_data = pd.read_csv('friends_test.csv', encoding='utf-8')\n",
        "\n",
        "with open('friends_train.json') as json_file:\n",
        "    json_data = json.load(json_file)\n",
        "\n",
        "train_data = []\n",
        "for data in json_data:\n",
        "  train_data = train_data + data\n",
        "\n",
        "for idx in train_data:\n",
        "  if (idx['emotion'] == 'non-neutral'):\n",
        "    idx['emotion_num'] = 0\n",
        "  elif (idx['emotion'] == 'neutral'):\n",
        "    idx['emotion_num'] = 1\n",
        "  elif (idx['emotion'] == 'joy'):\n",
        "    idx['emotion_num'] = 2\n",
        "  elif (idx['emotion'] == 'sadness'):\n",
        "    idx['emotion_num'] = 3\n",
        "  elif (idx['emotion'] == 'fear'):\n",
        "    idx['emotion_num'] = 4\n",
        "  elif (idx['emotion'] == 'anger'):\n",
        "    idx['emotion_num'] = 5\n",
        "  elif (idx['emotion'] == 'surprise'):\n",
        "    idx['emotion_num'] = 6\n",
        "  elif (idx['emotion'] == 'disgust'):\n",
        "    idx['emotion_num'] = 7\n",
        "\n",
        "result = pd.DataFrame(train_data, columns=['annotation', 'emotion', 'emotion_num', 'utterance'])\n",
        "\n",
        "print('훈련용 데이터 개수 :',len(result))"
      ],
      "execution_count": 1,
      "outputs": [
        {
          "output_type": "stream",
          "text": [
            "Using TensorFlow backend.\n"
          ],
          "name": "stderr"
        },
        {
          "output_type": "stream",
          "text": [
            "[nltk_data] Downloading package stopwords to /root/nltk_data...\n",
            "[nltk_data]   Unzipping corpora/stopwords.zip.\n",
            "[nltk_data] Downloading package punkt to /root/nltk_data...\n",
            "[nltk_data]   Unzipping tokenizers/punkt.zip.\n",
            "훈련용 데이터 개수 : 10561\n"
          ],
          "name": "stdout"
        }
      ]
    },
    {
      "cell_type": "markdown",
      "metadata": {
        "id": "6dF12djamSVm",
        "colab_type": "text"
      },
      "source": [
        "# 데이터 정제\n"
      ]
    },
    {
      "cell_type": "markdown",
      "metadata": {
        "id": "Z2ko9fbncjIi",
        "colab_type": "text"
      },
      "source": [
        "(1) 중복 데이터 제거 및 문장 기호 제거"
      ]
    },
    {
      "cell_type": "code",
      "metadata": {
        "id": "j6Dkb2f2Jnt0",
        "colab_type": "code",
        "colab": {
          "base_uri": "https://localhost:8080/",
          "height": 35
        },
        "outputId": "9061e4b7-e118-40a0-fcce-78f27804e93a"
      },
      "source": [
        "result['utterance'].nunique()"
      ],
      "execution_count": 2,
      "outputs": [
        {
          "output_type": "execute_result",
          "data": {
            "text/plain": [
              "9291"
            ]
          },
          "metadata": {
            "tags": []
          },
          "execution_count": 2
        }
      ]
    },
    {
      "cell_type": "code",
      "metadata": {
        "id": "dcXC6Uoxnfds",
        "colab_type": "code",
        "colab": {}
      },
      "source": [
        "result.drop_duplicates(subset=['utterance'], inplace=True)"
      ],
      "execution_count": 3,
      "outputs": []
    },
    {
      "cell_type": "code",
      "metadata": {
        "id": "MaSDh95AnmIT",
        "colab_type": "code",
        "colab": {
          "base_uri": "https://localhost:8080/",
          "height": 35
        },
        "outputId": "966752e8-7395-45dd-a86d-8778e7d5ba4a"
      },
      "source": [
        "print('총 샘플의 수 :',len(result))"
      ],
      "execution_count": 4,
      "outputs": [
        {
          "output_type": "stream",
          "text": [
            "총 샘플의 수 : 9291\n"
          ],
          "name": "stdout"
        }
      ]
    },
    {
      "cell_type": "code",
      "metadata": {
        "id": "lPddl05doB1F",
        "colab_type": "code",
        "colab": {
          "base_uri": "https://localhost:8080/",
          "height": 35
        },
        "outputId": "d05ec138-d298-4b21-bc7e-c19099118d91"
      },
      "source": [
        "print(result.isnull().values.any())"
      ],
      "execution_count": 5,
      "outputs": [
        {
          "output_type": "stream",
          "text": [
            "False\n"
          ],
          "name": "stdout"
        }
      ]
    },
    {
      "cell_type": "code",
      "metadata": {
        "id": "pezA0KWUoVYT",
        "colab_type": "code",
        "colab": {
          "base_uri": "https://localhost:8080/",
          "height": 204
        },
        "outputId": "feef8221-7bef-4ab7-fe04-3c3639103157"
      },
      "source": [
        "result['utterance'] = result['utterance'].str.replace(\"[^a-zA-Z ]\",\"\")\n",
        "result[:5]"
      ],
      "execution_count": 6,
      "outputs": [
        {
          "output_type": "execute_result",
          "data": {
            "text/html": [
              "<div>\n",
              "<style scoped>\n",
              "    .dataframe tbody tr th:only-of-type {\n",
              "        vertical-align: middle;\n",
              "    }\n",
              "\n",
              "    .dataframe tbody tr th {\n",
              "        vertical-align: top;\n",
              "    }\n",
              "\n",
              "    .dataframe thead th {\n",
              "        text-align: right;\n",
              "    }\n",
              "</style>\n",
              "<table border=\"1\" class=\"dataframe\">\n",
              "  <thead>\n",
              "    <tr style=\"text-align: right;\">\n",
              "      <th></th>\n",
              "      <th>annotation</th>\n",
              "      <th>emotion</th>\n",
              "      <th>emotion_num</th>\n",
              "      <th>utterance</th>\n",
              "    </tr>\n",
              "  </thead>\n",
              "  <tbody>\n",
              "    <tr>\n",
              "      <th>0</th>\n",
              "      <td>4100000</td>\n",
              "      <td>neutral</td>\n",
              "      <td>1</td>\n",
              "      <td>also I was the point person on my companys tra...</td>\n",
              "    </tr>\n",
              "    <tr>\n",
              "      <th>1</th>\n",
              "      <td>5000000</td>\n",
              "      <td>neutral</td>\n",
              "      <td>1</td>\n",
              "      <td>You mustve had your hands full</td>\n",
              "    </tr>\n",
              "    <tr>\n",
              "      <th>2</th>\n",
              "      <td>5000000</td>\n",
              "      <td>neutral</td>\n",
              "      <td>1</td>\n",
              "      <td>That I did That I did</td>\n",
              "    </tr>\n",
              "    <tr>\n",
              "      <th>3</th>\n",
              "      <td>5000000</td>\n",
              "      <td>neutral</td>\n",
              "      <td>1</td>\n",
              "      <td>So lets talk a little bit about your duties</td>\n",
              "    </tr>\n",
              "    <tr>\n",
              "      <th>4</th>\n",
              "      <td>2000030</td>\n",
              "      <td>surprise</td>\n",
              "      <td>6</td>\n",
              "      <td>My duties  All right</td>\n",
              "    </tr>\n",
              "  </tbody>\n",
              "</table>\n",
              "</div>"
            ],
            "text/plain": [
              "  annotation  ...                                          utterance\n",
              "0    4100000  ...  also I was the point person on my companys tra...\n",
              "1    5000000  ...                     You mustve had your hands full\n",
              "2    5000000  ...                              That I did That I did\n",
              "3    5000000  ...        So lets talk a little bit about your duties\n",
              "4    2000030  ...                               My duties  All right\n",
              "\n",
              "[5 rows x 4 columns]"
            ]
          },
          "metadata": {
            "tags": []
          },
          "execution_count": 6
        }
      ]
    },
    {
      "cell_type": "code",
      "metadata": {
        "id": "l1szNHKOp9LT",
        "colab_type": "code",
        "colab": {
          "base_uri": "https://localhost:8080/",
          "height": 35
        },
        "outputId": "d1e22419-1528-4ff8-af67-5f3a6da9a682"
      },
      "source": [
        "result = result.dropna(how = 'any')\n",
        "print(len(result))"
      ],
      "execution_count": 7,
      "outputs": [
        {
          "output_type": "stream",
          "text": [
            "9291\n"
          ],
          "name": "stdout"
        }
      ]
    },
    {
      "cell_type": "markdown",
      "metadata": {
        "id": "0pT-zWLZsQwM",
        "colab_type": "text"
      },
      "source": [
        "(2) 불용어 제거 및 토큰화"
      ]
    },
    {
      "cell_type": "code",
      "metadata": {
        "id": "vEuQ19borSr8",
        "colab_type": "code",
        "colab": {}
      },
      "source": [
        "stop_words = set(stopwords.words('english'))"
      ],
      "execution_count": 8,
      "outputs": []
    },
    {
      "cell_type": "code",
      "metadata": {
        "id": "xTZsUSmxsPYW",
        "colab_type": "code",
        "colab": {}
      },
      "source": [
        "X_train = []\n",
        "for sentence in result['utterance']:\n",
        "    temp_X = []\n",
        "    word_tokens = word_tokenize(sentence)\n",
        "    for word in word_tokens:\n",
        "      if word not in stop_words:\n",
        "        temp_X.append(word)\n",
        "    X_train.append(temp_X)"
      ],
      "execution_count": 9,
      "outputs": []
    },
    {
      "cell_type": "code",
      "metadata": {
        "id": "lcnoaueYtH-s",
        "colab_type": "code",
        "colab": {
          "base_uri": "https://localhost:8080/",
          "height": 35
        },
        "outputId": "6d42cbb0-272f-487c-d87d-75bdb58d1542"
      },
      "source": [
        "print(X_train[:3])"
      ],
      "execution_count": 10,
      "outputs": [
        {
          "output_type": "stream",
          "text": [
            "[['also', 'I', 'point', 'person', 'companys', 'transition', 'KL', 'GR', 'system'], ['You', 'mustve', 'hands', 'full'], ['That', 'I', 'That', 'I']]\n"
          ],
          "name": "stdout"
        }
      ]
    },
    {
      "cell_type": "code",
      "metadata": {
        "id": "O9KnWnohtNH_",
        "colab_type": "code",
        "colab": {}
      },
      "source": [
        "X_test = []\n",
        "for sentence in test_data['utterance']:\n",
        "    temp_X = []\n",
        "    word_tokens = word_tokenize(sentence)\n",
        "    for word in word_tokens:\n",
        "      if word not in stop_words:\n",
        "        temp_X.append(word)\n",
        "    X_test.append(temp_X)"
      ],
      "execution_count": 11,
      "outputs": []
    },
    {
      "cell_type": "markdown",
      "metadata": {
        "id": "h6E8zItGtQu0",
        "colab_type": "text"
      },
      "source": [
        "(3) 정수 인코딩"
      ]
    },
    {
      "cell_type": "code",
      "metadata": {
        "id": "lU_zYHb2tSIp",
        "colab_type": "code",
        "colab": {}
      },
      "source": [
        "tokenizer = Tokenizer()\n",
        "tokenizer.fit_on_texts(X_train)"
      ],
      "execution_count": 12,
      "outputs": []
    },
    {
      "cell_type": "code",
      "metadata": {
        "id": "ddYYM6qP8KD-",
        "colab_type": "code",
        "colab": {
          "base_uri": "https://localhost:8080/",
          "height": 35
        },
        "outputId": "d0cf6896-0c46-479e-af4b-9d2ee7b52971"
      },
      "source": [
        "total_cnt = len(tokenizer.word_index)\n",
        "vocab_size = total_cnt + 1\n",
        "print('단어 집합의 크기 :',vocab_size)"
      ],
      "execution_count": 13,
      "outputs": [
        {
          "output_type": "stream",
          "text": [
            "단어 집합의 크기 : 5935\n"
          ],
          "name": "stdout"
        }
      ]
    },
    {
      "cell_type": "code",
      "metadata": {
        "id": "dgmCtnBq0rqY",
        "colab_type": "code",
        "colab": {}
      },
      "source": [
        "X_train = tokenizer.texts_to_sequences(X_train)\n",
        "X_test = tokenizer.texts_to_sequences(X_test)"
      ],
      "execution_count": 14,
      "outputs": []
    },
    {
      "cell_type": "code",
      "metadata": {
        "id": "zmqrbIPcxeYA",
        "colab_type": "code",
        "colab": {}
      },
      "source": [
        "y_train = np_utils.to_categorical(result['emotion_num'])\n",
        "num_classes = y_train.shape[1]"
      ],
      "execution_count": 15,
      "outputs": []
    },
    {
      "cell_type": "markdown",
      "metadata": {
        "id": "XqV3f6puxB-A",
        "colab_type": "text"
      },
      "source": [
        "(4) 패딩"
      ]
    },
    {
      "cell_type": "code",
      "metadata": {
        "id": "--MvtPYrxDzY",
        "colab_type": "code",
        "colab": {
          "base_uri": "https://localhost:8080/",
          "height": 315
        },
        "outputId": "4fa566a9-31d3-437b-ce78-0676c6c92f81"
      },
      "source": [
        "print('문장의 최대 길이 :',max(len(l) for l in X_train))\n",
        "print('문장의 평균 길이 :',sum(map(len, X_train))/len(X_train))\n",
        "plt.hist([len(s) for s in X_train], bins=50)\n",
        "plt.xlabel('length of samples')\n",
        "plt.ylabel('number of samples')\n",
        "plt.show()"
      ],
      "execution_count": 16,
      "outputs": [
        {
          "output_type": "stream",
          "text": [
            "문장의 최대 길이 : 39\n",
            "문장의 평균 길이 : 5.398019588849424\n"
          ],
          "name": "stdout"
        },
        {
          "output_type": "display_data",
          "data": {
            "image/png": "[encoded data removed]",
            "text/plain": [
              "<Figure size 432x288 with 1 Axes>"
            ]
          },
          "metadata": {
            "tags": [],
            "needs_background": "light"
          }
        }
      ]
    },
    {
      "cell_type": "code",
      "metadata": {
        "id": "TBnNXouIiNPk",
        "colab_type": "code",
        "colab": {
          "base_uri": "https://localhost:8080/",
          "height": 35
        },
        "outputId": "be7a581d-bc80-4934-e424-9a466e9e94ea"
      },
      "source": [
        "def below_threshold_len(max_len, nested_list):\n",
        "  cnt = 0\n",
        "  for s in nested_list:\n",
        "    if(len(s) <= max_len):\n",
        "        cnt = cnt + 1\n",
        "  print('전체 샘플 중 길이가 %s 이하인 샘플의 비율: %s'%(max_len, (cnt / len(nested_list))*100))\n",
        "\n",
        "max_len = 24\n",
        "below_threshold_len(max_len, X_train)"
      ],
      "execution_count": 17,
      "outputs": [
        {
          "output_type": "stream",
          "text": [
            "전체 샘플 중 길이가 24 이하인 샘플의 비율: 99.96771068776235\n"
          ],
          "name": "stdout"
        }
      ]
    },
    {
      "cell_type": "code",
      "metadata": {
        "id": "vYDXC_PA0-JP",
        "colab_type": "code",
        "colab": {}
      },
      "source": [
        "X_train = pad_sequences(X_train, maxlen=max_len)\n",
        "X_test = pad_sequences(X_test, maxlen=max_len)"
      ],
      "execution_count": 18,
      "outputs": []
    },
    {
      "cell_type": "markdown",
      "metadata": {
        "id": "DJ8joDjc_bYq",
        "colab_type": "text"
      },
      "source": [
        "# 모델 설계 및 학습"
      ]
    },
    {
      "cell_type": "code",
      "metadata": {
        "id": "4ocdcA1f10nY",
        "colab_type": "code",
        "colab": {}
      },
      "source": [
        "from tensorflow.keras.layers import Embedding, Dense, LSTM\n",
        "from tensorflow.keras.models import Sequential\n",
        "from tensorflow.keras.models import load_model\n",
        "from tensorflow.keras.callbacks import EarlyStopping, ModelCheckpoint"
      ],
      "execution_count": 19,
      "outputs": []
    },
    {
      "cell_type": "code",
      "metadata": {
        "id": "IM-AzQXE11-1",
        "colab_type": "code",
        "colab": {}
      },
      "source": [
        "model = Sequential()\n",
        "model.add(Embedding(vocab_size, 100))\n",
        "model.add(LSTM(128))\n",
        "model.add(Dense(num_classes, activation='softmax'))"
      ],
      "execution_count": 20,
      "outputs": []
    },
    {
      "cell_type": "code",
      "metadata": {
        "id": "rIVpvBQ7W8tx",
        "colab_type": "code",
        "colab": {}
      },
      "source": [
        "earlystop = EarlyStopping(monitor='val_loss', mode='min', verbose=1, patience=4)\n",
        "ckpt = ModelCheckpoint('best_model.h5', monitor='val_acc', mode='max', verbose=1, save_best_only=True)"
      ],
      "execution_count": 21,
      "outputs": []
    },
    {
      "cell_type": "code",
      "metadata": {
        "id": "Gj9bvSqmXAjN",
        "colab_type": "code",
        "colab": {
          "base_uri": "https://localhost:8080/",
          "height": 683
        },
        "outputId": "b54c7e86-b99f-4378-cee7-7305c24bf16a"
      },
      "source": [
        "model.compile(optimizer='rmsprop', loss='categorical_crossentropy', metrics=['acc'])\n",
        "history = model.fit(X_train, y_train, epochs=15, callbacks=[earlystop, ckpt], batch_size=128, validation_split=0.2)"
      ],
      "execution_count": 22,
      "outputs": [
        {
          "output_type": "stream",
          "text": [
            "Epoch 1/15\n",
            "58/59 [============================>.] - ETA: 0s - loss: 1.6470 - acc: 0.4410\n",
            "Epoch 00001: val_acc improved from -inf to 0.22109, saving model to best_model.h5\n",
            "59/59 [==============================] - 6s 104ms/step - loss: 1.6472 - acc: 0.4407 - val_loss: 1.6681 - val_acc: 0.2211\n",
            "Epoch 2/15\n",
            "58/59 [============================>.] - ETA: 0s - loss: 1.5640 - acc: 0.4457\n",
            "Epoch 00002: val_acc improved from 0.22109 to 0.45186, saving model to best_model.h5\n",
            "59/59 [==============================] - 6s 97ms/step - loss: 1.5642 - acc: 0.4458 - val_loss: 1.5782 - val_acc: 0.4519\n",
            "Epoch 3/15\n",
            "58/59 [============================>.] - ETA: 0s - loss: 1.4296 - acc: 0.4996\n",
            "Epoch 00003: val_acc improved from 0.45186 to 0.45777, saving model to best_model.h5\n",
            "59/59 [==============================] - 6s 97ms/step - loss: 1.4299 - acc: 0.4996 - val_loss: 1.5545 - val_acc: 0.4578\n",
            "Epoch 4/15\n",
            "58/59 [============================>.] - ETA: 0s - loss: 1.3166 - acc: 0.5475\n",
            "Epoch 00004: val_acc improved from 0.45777 to 0.46853, saving model to best_model.h5\n",
            "59/59 [==============================] - 6s 98ms/step - loss: 1.3164 - acc: 0.5476 - val_loss: 1.6983 - val_acc: 0.4685\n",
            "Epoch 5/15\n",
            "58/59 [============================>.] - ETA: 0s - loss: 1.2151 - acc: 0.5799\n",
            "Epoch 00005: val_acc improved from 0.46853 to 0.47283, saving model to best_model.h5\n",
            "59/59 [==============================] - 6s 97ms/step - loss: 1.2150 - acc: 0.5798 - val_loss: 1.5406 - val_acc: 0.4728\n",
            "Epoch 6/15\n",
            "58/59 [============================>.] - ETA: 0s - loss: 1.1265 - acc: 0.6086\n",
            "Epoch 00006: val_acc did not improve from 0.47283\n",
            "59/59 [==============================] - 6s 98ms/step - loss: 1.1267 - acc: 0.6086 - val_loss: 1.6824 - val_acc: 0.4395\n",
            "Epoch 7/15\n",
            "58/59 [============================>.] - ETA: 0s - loss: 1.0405 - acc: 0.6385\n",
            "Epoch 00007: val_acc did not improve from 0.47283\n",
            "59/59 [==============================] - 6s 97ms/step - loss: 1.0410 - acc: 0.6381 - val_loss: 1.6236 - val_acc: 0.4562\n",
            "Epoch 8/15\n",
            "58/59 [============================>.] - ETA: 0s - loss: 0.9719 - acc: 0.6709\n",
            "Epoch 00008: val_acc did not improve from 0.47283\n",
            "59/59 [==============================] - 6s 98ms/step - loss: 0.9715 - acc: 0.6712 - val_loss: 1.7844 - val_acc: 0.4524\n",
            "Epoch 9/15\n",
            "58/59 [============================>.] - ETA: 0s - loss: 0.8991 - acc: 0.6941\n",
            "Epoch 00009: val_acc did not improve from 0.47283\n",
            "59/59 [==============================] - 6s 99ms/step - loss: 0.8996 - acc: 0.6938 - val_loss: 1.7064 - val_acc: 0.4094\n",
            "Epoch 00009: early stopping\n"
          ],
          "name": "stdout"
        }
      ]
    },
    {
      "cell_type": "markdown",
      "metadata": {
        "id": "SIyFseuGcHDb",
        "colab_type": "text"
      },
      "source": [
        "모델을 통해 test 데이터에 대한 결과 예측 및 csv 변환"
      ]
    },
    {
      "cell_type": "code",
      "metadata": {
        "id": "e4P67smaZ8f_",
        "colab_type": "code",
        "colab": {
          "base_uri": "https://localhost:8080/",
          "height": 91
        },
        "outputId": "618c3451-0f9b-4bb4-ae58-48994541b695"
      },
      "source": [
        "loaded_model = load_model('best_model.h5')\n",
        "prediction = loaded_model.predict_classes(X_test, verbose=0)\n",
        "\n",
        "prediction = prediction.flatten().tolist()\n",
        "\n",
        "prediction_emotion = []\n",
        "for num in prediction:\n",
        "  if num == 0:\n",
        "    prediction_emotion.append('non-neutral')\n",
        "  elif num == 1:\n",
        "    prediction_emotion.append('neutral')\n",
        "  elif num == 2:\n",
        "    prediction_emotion.append('joy')\n",
        "  elif num == 3:\n",
        "    prediction_emotion.append('sadness')\n",
        "  elif num == 4:\n",
        "    prediction_emotion.append('fear')\n",
        "  elif num == 5:\n",
        "    prediction_emotion.append('anger')\n",
        "  elif num == 6:\n",
        "    prediction_emotion.append('surprise')\n",
        "  elif num == 7:\n",
        "    prediction_emotion.append('disgust')\n",
        "\n",
        "id = list(range(len(prediction_emotion)))\n",
        "\n",
        "dic = {'Id': id,\n",
        "       'Predicted': prediction_emotion}\n",
        "\n",
        "df = pd.DataFrame(dic)\n",
        "df.to_csv('sample.csv', sep=',', index = False)"
      ],
      "execution_count": 23,
      "outputs": [
        {
          "output_type": "stream",
          "text": [
            "WARNING:tensorflow:From <ipython-input-23-1e372f3e72cc>:2: Sequential.predict_classes (from tensorflow.python.keras.engine.sequential) is deprecated and will be removed after 2021-01-01.\n",
            "Instructions for updating:\n",
            "Please use instead:* `np.argmax(model.predict(x), axis=-1)`,   if your model does multi-class classification   (e.g. if it uses a `softmax` last-layer activation).* `(model.predict(x) > 0.5).astype(\"int32\")`,   if your model does binary classification   (e.g. if it uses a `sigmoid` last-layer activation).\n"
          ],
          "name": "stdout"
        }
      ]
    }
  ]
}